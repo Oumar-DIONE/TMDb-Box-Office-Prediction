{
 "cells": [
  {
   "cell_type": "markdown",
   "metadata": {},
   "source": [
    "# 1 Import and Init "
   ]
  },
  {
   "cell_type": "markdown",
   "metadata": {},
   "source": [
    "## 1.1 Python and Stuffs"
   ]
  },
  {
   "cell_type": "code",
   "execution_count": 110,
   "metadata": {},
   "outputs": [],
   "source": [
    "from sklearn.pipeline import Pipeline, FeatureUnion, make_pipeline\n",
    "from sklearn.compose import ColumnTransformer\n",
    "from sklearn.model_selection import train_test_split\n",
    "import seaborn as sns\n",
    "import numpy as np\n",
    "import pandas as pd\n",
    "from sklearn.model_selection import train_test_split  # sklearn.cross_validation in old versions\n",
    "from sklearn.preprocessing import StandardScaler, OneHotEncoder\n",
    "from sklearn.linear_model import LogisticRegression, LinearRegression\n",
    "from sklearn.impute import SimpleImputer\n",
    "from sklearn.base import BaseEstimator, TransformerMixin\n",
    "from time import time\n",
    "import xgboost as xgb\n",
    "from sklearn.metrics import mean_squared_error\n",
    "import random\n",
    "import pandas as pd\n",
    "import os"
   ]
  },
  {
   "cell_type": "code",
   "execution_count": 3,
   "metadata": {},
   "outputs": [],
   "source": [
    "seed=45\n",
    "random.seed(seed)\n",
    "np.random.seed(seed)"
   ]
  },
  {
   "cell_type": "code",
   "execution_count": 111,
   "metadata": {},
   "outputs": [],
   "source": [
    "import warnings\n",
    "\n",
    "# Ignorer tous les avertissements\n",
    "warnings.filterwarnings(\"ignore\")\n"
   ]
  },
  {
   "cell_type": "markdown",
   "metadata": {},
   "source": [
    "## 1.2 Parameters \n"
   ]
  },
  {
   "cell_type": "code",
   "execution_count": 112,
   "metadata": {},
   "outputs": [
    {
     "name": "stdout",
     "output_type": "stream",
     "text": [
      "total 538024\n",
      "drwxr-sr-x 2 onyxia users      4096 Apr  7 13:42 images\n",
      "-rw-r--r-- 1 onyxia users     61585 Apr  7 13:42 sample_submission.csv\n",
      "-rw-r--r-- 1 onyxia users  41868556 Apr  7 13:42 test.csv\n",
      "-rw-r--r-- 1 onyxia users    321959 Apr  8 16:12 test_df.csv\n",
      "-rw-r--r-- 1 onyxia users 480349033 Apr  8 09:41 TMDB_movie_dataset_v11.csv\n",
      "-rw-r--r-- 1 onyxia users  28311747 Apr  7 13:42 train.csv\n"
     ]
    }
   ],
   "source": [
    "# Filesystem\n",
    "Data_dir = \"/home/onyxia/work/TMDb-Box-Office-Prediction/Data\"   #same level as course repo in the data directory\n",
    "Codes_dir = \"/home/onyxia/work/TMDb-Box-Office-Prediction/Codes\" \n",
    "Outputs_dir=\"/home/onyxia/work/TMDb-Box-Office-Prediction/Outputs\" \n",
    "      ##afficher le contenu du repertoire DATA_DIR\n",
    "!ls -l $Data_dir\n",
    "# Preprocessing andd load\n",
    "scale=0.2\n",
    "\n",
    "# Modele"
   ]
  },
  {
   "cell_type": "markdown",
   "metadata": {},
   "source": [
    "# 2 Load Data\n"
   ]
  },
  {
   "cell_type": "markdown",
   "metadata": {},
   "source": [
    "## 2.1 Retrive Data"
   ]
  },
  {
   "cell_type": "code",
   "execution_count": 116,
   "metadata": {},
   "outputs": [],
   "source": [
    "\n",
    "def load_data(in_path, name,n_display=1,show_info=False):\n",
    "    df = pd.read_csv(in_path)\n",
    "    #df.set_index('id', inplace=True)\n",
    "    print(f\"{name}: shape is {df.shape}\")\n",
    "    if show_info==True:\n",
    "        print(df.info())\n",
    "    \n",
    "    display(df.head(n_display))\n",
    "    return df\n"
   ]
  },
  {
   "cell_type": "code",
   "execution_count": 117,
   "metadata": {},
   "outputs": [
    {
     "name": "stdout",
     "output_type": "stream",
     "text": [
      "test_df: shape is (47, 27)\n"
     ]
    },
    {
     "data": {
      "text/html": [
       "<div>\n",
       "<style scoped>\n",
       "    .dataframe tbody tr th:only-of-type {\n",
       "        vertical-align: middle;\n",
       "    }\n",
       "\n",
       "    .dataframe tbody tr th {\n",
       "        vertical-align: top;\n",
       "    }\n",
       "\n",
       "    .dataframe thead th {\n",
       "        text-align: right;\n",
       "    }\n",
       "</style>\n",
       "<table border=\"1\" class=\"dataframe\">\n",
       "  <thead>\n",
       "    <tr style=\"text-align: right;\">\n",
       "      <th></th>\n",
       "      <th>id</th>\n",
       "      <th>title</th>\n",
       "      <th>vote_average</th>\n",
       "      <th>vote_count</th>\n",
       "      <th>status</th>\n",
       "      <th>release_date</th>\n",
       "      <th>revenue</th>\n",
       "      <th>runtime</th>\n",
       "      <th>adult</th>\n",
       "      <th>backdrop_path</th>\n",
       "      <th>...</th>\n",
       "      <th>poster_path</th>\n",
       "      <th>tagline</th>\n",
       "      <th>genres</th>\n",
       "      <th>production_companies</th>\n",
       "      <th>production_countries</th>\n",
       "      <th>spoken_languages</th>\n",
       "      <th>keywords</th>\n",
       "      <th>crew</th>\n",
       "      <th>cast</th>\n",
       "      <th>belongs_to_collection</th>\n",
       "    </tr>\n",
       "  </thead>\n",
       "  <tbody>\n",
       "    <tr>\n",
       "      <th>0</th>\n",
       "      <td>155</td>\n",
       "      <td>The Dark Knight</td>\n",
       "      <td>8.512</td>\n",
       "      <td>30619</td>\n",
       "      <td>Released</td>\n",
       "      <td>2008-07-16</td>\n",
       "      <td>1004558444</td>\n",
       "      <td>152</td>\n",
       "      <td>False</td>\n",
       "      <td>/nMKdUUepR0i5zn0y1T4CsSB5chy.jpg</td>\n",
       "      <td>...</td>\n",
       "      <td>/qJ2tW6WMUDux911r6m7haRef0WH.jpg</td>\n",
       "      <td>Welcome to a world without rules.</td>\n",
       "      <td>Drama, Action, Crime, Thriller</td>\n",
       "      <td>DC Comics, Legendary Pictures, Syncopy, Isobel...</td>\n",
       "      <td>United Kingdom, United States of America</td>\n",
       "      <td>English, Mandarin</td>\n",
       "      <td>joker, sadism, chaos, secret identity, crime f...</td>\n",
       "      <td>Jonathan Nolan, Hans Zimmer, Wally Pfister, Ja...</td>\n",
       "      <td>Christian Bale, Heath Ledger, Michael Caine, G...</td>\n",
       "      <td>The Dark Knight Collection</td>\n",
       "    </tr>\n",
       "  </tbody>\n",
       "</table>\n",
       "<p>1 rows × 27 columns</p>\n",
       "</div>"
      ],
      "text/plain": [
       "    id            title  vote_average  vote_count    status release_date  \\\n",
       "0  155  The Dark Knight         8.512       30619  Released   2008-07-16   \n",
       "\n",
       "      revenue  runtime  adult                     backdrop_path  ...  \\\n",
       "0  1004558444      152  False  /nMKdUUepR0i5zn0y1T4CsSB5chy.jpg  ...   \n",
       "\n",
       "                        poster_path                            tagline  \\\n",
       "0  /qJ2tW6WMUDux911r6m7haRef0WH.jpg  Welcome to a world without rules.   \n",
       "\n",
       "                           genres  \\\n",
       "0  Drama, Action, Crime, Thriller   \n",
       "\n",
       "                                production_companies  \\\n",
       "0  DC Comics, Legendary Pictures, Syncopy, Isobel...   \n",
       "\n",
       "                       production_countries   spoken_languages  \\\n",
       "0  United Kingdom, United States of America  English, Mandarin   \n",
       "\n",
       "                                            keywords  \\\n",
       "0  joker, sadism, chaos, secret identity, crime f...   \n",
       "\n",
       "                                                crew  \\\n",
       "0  Jonathan Nolan, Hans Zimmer, Wally Pfister, Ja...   \n",
       "\n",
       "                                                cast  \\\n",
       "0  Christian Bale, Heath Ledger, Michael Caine, G...   \n",
       "\n",
       "        belongs_to_collection  \n",
       "0  The Dark Knight Collection  \n",
       "\n",
       "[1 rows x 27 columns]"
      ]
     },
     "metadata": {},
     "output_type": "display_data"
    }
   ],
   "source": [
    "ds_name = 'test_df'\n",
    "\n",
    "Raw_df = load_data(os.path.join(Data_dir, f'{ds_name}.csv'), ds_name)\n",
    "\n"
   ]
  },
  {
   "cell_type": "code",
   "execution_count": 118,
   "metadata": {},
   "outputs": [
    {
     "name": "stdout",
     "output_type": "stream",
     "text": [
      "train: shape is (3000, 23)\n"
     ]
    },
    {
     "data": {
      "text/html": [
       "<div>\n",
       "<style scoped>\n",
       "    .dataframe tbody tr th:only-of-type {\n",
       "        vertical-align: middle;\n",
       "    }\n",
       "\n",
       "    .dataframe tbody tr th {\n",
       "        vertical-align: top;\n",
       "    }\n",
       "\n",
       "    .dataframe thead th {\n",
       "        text-align: right;\n",
       "    }\n",
       "</style>\n",
       "<table border=\"1\" class=\"dataframe\">\n",
       "  <thead>\n",
       "    <tr style=\"text-align: right;\">\n",
       "      <th></th>\n",
       "      <th>id</th>\n",
       "      <th>belongs_to_collection</th>\n",
       "      <th>budget</th>\n",
       "      <th>genres</th>\n",
       "      <th>homepage</th>\n",
       "      <th>imdb_id</th>\n",
       "      <th>original_language</th>\n",
       "      <th>original_title</th>\n",
       "      <th>overview</th>\n",
       "      <th>popularity</th>\n",
       "      <th>...</th>\n",
       "      <th>release_date</th>\n",
       "      <th>runtime</th>\n",
       "      <th>spoken_languages</th>\n",
       "      <th>status</th>\n",
       "      <th>tagline</th>\n",
       "      <th>title</th>\n",
       "      <th>Keywords</th>\n",
       "      <th>cast</th>\n",
       "      <th>crew</th>\n",
       "      <th>revenue</th>\n",
       "    </tr>\n",
       "  </thead>\n",
       "  <tbody>\n",
       "    <tr>\n",
       "      <th>0</th>\n",
       "      <td>1</td>\n",
       "      <td>[{'id': 313576, 'name': 'Hot Tub Time Machine ...</td>\n",
       "      <td>14000000</td>\n",
       "      <td>[{'id': 35, 'name': 'Comedy'}]</td>\n",
       "      <td>NaN</td>\n",
       "      <td>tt2637294</td>\n",
       "      <td>en</td>\n",
       "      <td>Hot Tub Time Machine 2</td>\n",
       "      <td>When Lou, who has become the \"father of the In...</td>\n",
       "      <td>6.575393</td>\n",
       "      <td>...</td>\n",
       "      <td>2/20/15</td>\n",
       "      <td>93.0</td>\n",
       "      <td>[{'iso_639_1': 'en', 'name': 'English'}]</td>\n",
       "      <td>Released</td>\n",
       "      <td>The Laws of Space and Time are About to be Vio...</td>\n",
       "      <td>Hot Tub Time Machine 2</td>\n",
       "      <td>[{'id': 4379, 'name': 'time travel'}, {'id': 9...</td>\n",
       "      <td>[{'cast_id': 4, 'character': 'Lou', 'credit_id...</td>\n",
       "      <td>[{'credit_id': '59ac067c92514107af02c8c8', 'de...</td>\n",
       "      <td>12314651</td>\n",
       "    </tr>\n",
       "  </tbody>\n",
       "</table>\n",
       "<p>1 rows × 23 columns</p>\n",
       "</div>"
      ],
      "text/plain": [
       "   id                              belongs_to_collection    budget  \\\n",
       "0   1  [{'id': 313576, 'name': 'Hot Tub Time Machine ...  14000000   \n",
       "\n",
       "                           genres homepage    imdb_id original_language  \\\n",
       "0  [{'id': 35, 'name': 'Comedy'}]      NaN  tt2637294                en   \n",
       "\n",
       "           original_title                                           overview  \\\n",
       "0  Hot Tub Time Machine 2  When Lou, who has become the \"father of the In...   \n",
       "\n",
       "   popularity  ... release_date runtime  \\\n",
       "0    6.575393  ...      2/20/15    93.0   \n",
       "\n",
       "                           spoken_languages    status  \\\n",
       "0  [{'iso_639_1': 'en', 'name': 'English'}]  Released   \n",
       "\n",
       "                                             tagline                   title  \\\n",
       "0  The Laws of Space and Time are About to be Vio...  Hot Tub Time Machine 2   \n",
       "\n",
       "                                            Keywords  \\\n",
       "0  [{'id': 4379, 'name': 'time travel'}, {'id': 9...   \n",
       "\n",
       "                                                cast  \\\n",
       "0  [{'cast_id': 4, 'character': 'Lou', 'credit_id...   \n",
       "\n",
       "                                                crew   revenue  \n",
       "0  [{'credit_id': '59ac067c92514107af02c8c8', 'de...  12314651  \n",
       "\n",
       "[1 rows x 23 columns]"
      ]
     },
     "metadata": {},
     "output_type": "display_data"
    }
   ],
   "source": [
    "ds_name_oldDF = 'train'\n",
    "\n",
    "Raw_df_oldDF = load_data(os.path.join(Data_dir, f'{ds_name_oldDF}.csv'), ds_name_oldDF)"
   ]
  },
  {
   "cell_type": "code",
   "execution_count": 119,
   "metadata": {},
   "outputs": [],
   "source": [
    "cols=Raw_df.columns"
   ]
  },
  {
   "cell_type": "code",
   "execution_count": 8,
   "metadata": {},
   "outputs": [
    {
     "data": {
      "text/plain": [
       "Index(['id', 'title', 'vote_average', 'vote_count', 'status', 'release_date',\n",
       "       'revenue', 'runtime', 'adult', 'backdrop_path', 'budget', 'homepage',\n",
       "       'imdb_id', 'original_language', 'original_title', 'overview',\n",
       "       'popularity', 'poster_path', 'tagline', 'genres',\n",
       "       'production_companies', 'production_countries', 'spoken_languages',\n",
       "       'keywords', 'crew', 'cast', 'belongs_to_collection'],\n",
       "      dtype='object')"
      ]
     },
     "execution_count": 8,
     "metadata": {},
     "output_type": "execute_result"
    }
   ],
   "source": [
    "cols"
   ]
  },
  {
   "cell_type": "code",
   "execution_count": 120,
   "metadata": {},
   "outputs": [],
   "source": [
    "Raw_df = Raw_df.rename(columns={'keywords': 'Keywords'})\n"
   ]
  },
  {
   "cell_type": "code",
   "execution_count": 121,
   "metadata": {},
   "outputs": [
    {
     "name": "stdout",
     "output_type": "stream",
     "text": [
      "{'id': 313576, 'name': 'Hot Tub Time Machine Collection', 'poster_path': '/iEhb00TGPucF0b4joM1ieyY026U.jpg', 'backdrop_path': '/noeTVcgpBiD48fDjFVic1Vz7ope.jpg'} \n",
      "\n",
      "{'credit_id': '59ac067c92514107af02c8c8', 'department': 'Directing', 'gender': 0, 'id': 1449071, 'job': 'First Assistant Director', 'name': 'Kelly Cantley', 'profile_path': None} \n",
      "\n",
      "{'cast_id': 4, 'character': 'Lou', 'credit_id': '52fe4ee7c3a36847f82afae7', 'gender': 2, 'id': 52997, 'name': 'Rob Corddry', 'order': 0, 'profile_path': '/k2zJL0V1nEZuFT08xUdOd3ucfXz.jpg'}\n"
     ]
    }
   ],
   "source": [
    "print(eval(Raw_df_oldDF.belongs_to_collection[0])[0],\"\\n\")\n",
    "print(eval(Raw_df_oldDF.crew[0])[0],\"\\n\")\n",
    "print(eval(Raw_df_oldDF.cast[0])[0])"
   ]
  },
  {
   "cell_type": "code",
   "execution_count": 122,
   "metadata": {},
   "outputs": [
    {
     "name": "stdout",
     "output_type": "stream",
     "text": [
      "The Dark Knight Collection \n",
      "\n",
      "Jonathan Nolan, Hans Zimmer, Wally Pfister, James Newton Howard, Christopher Nolan, Charles Roven, Emma Thomas, Christopher Nolan, David S. Goyer, Thomas Tull, Michael Uslan, Kevin De La Noy, Benjamin Melniker, Lee Smith, Nathan Crowley, Peter Lando, John Papsidera, Lindy Hemming, Mark Bartholomew, James Hambidge, Craig Jackson, Steven Lawrence, Naaman Marshall, Deena Adair, Sue Robb-King, John Caglione Jr., Nancy Hancock, Jenne Lee, Nicholas Gall, Lucinda Syson, Steve Gehrke, Richard M. Daley, Janice Alexander, Kevin Kavanaugh, Simon Lamont, Brad Dechter, Alyson Dee Moore, Dennis Davidson, Kimberley Spiteri, Stephen Vaughan, Alex Gibson, Daniel Pinder, Richard King, Richard King, Ed Novick, Lora Hirschberg, Gary Rizzo, Michael W. Mitchell, Michael Babcock, Bob Gorelick, Bob Gorelick, Tom Struthers, Paul Jennings, Rick LeFevour, Jim Wilkey, Mark Mottram, Lorne Orleans, Nilo Otero, Jeff Atmajian, Donald Likovich, Rick Avery, Tom McComas, Bruce Fowler, Bob Kane, Jordan Goldberg, Conor O'Sullivan, David E. Hall, Jim Boulden, Brian Christensen, Kevin Kaska, Mira Husseini, Bob Hall, Jessie Graff, David Orr, Michael Magill, Hugo Weng, Linda Folk, Doug Hemphill, Scott Wesley Ross, Jonathan Fawkner, Chris Corbould, Peter Robb-King, Rudra Banerji, David Gere, Christopher Nolan, Christopher Nolan, Brian Peters, Rebecca Steel Roven, Hamilton Sterling, Justo Dieguez, Deborah K. Dee, Alma Izquierdo, Jenny Sharpe, Patrick Caulfield, Lee Croucher, Dan Grace, Esther St John Gray, Brendan Handscombe, Gina Panno, Neal Callow, Phillis Lehmer, Fred M. Ortiz, Ashley Winter, François-Xavier Aubague, Pierre Buffin, Paul J. Franklin, Matthew Holben, Ian Hunter, Alain Lalanne, Lorna Paterson, David Sanger, Tim Webber, Heath Ledger, Jennifer Lamb, Sarah Franzl, Linda Perlin, Natalie M. Meyer, Marie Fink, Conway Wickliffe, Robert Stoneman, Daniel Wehr, Rob Bliss, Craig Lyn, Ben Shepherd \n",
      "\n",
      "Christian Bale, Heath Ledger, Michael Caine, Gary Oldman, Aaron Eckhart, Maggie Gyllenhaal, Morgan Freeman, Nestor Carbonell, Monique Gabriela Curnen, Ron Dean, Chin Han, Eric Roberts, Ritchie Coster, Anthony Michael Hall, Keith Szarabajka, Joshua Harto, Melinda McGraw, Nathan Gamble, Michael Jai White, Colin McFarlane, Nydia Rodriguez Terracina, Tommy Lister Jr., William Fichtner, Cillian Murphy, Patrick Leahy, Matt Skiba, David Dastmalchian, Michael Vieau, Michael Stoyanov, William Smillie, Danny Goldring, Matthew O'Neill, Olumiji Olawumi, Greg Beam, Erik Hellman, Beatrice Rosen, Vincenzo Nicoli, Edison Chen, Andy Luther, James Farruggio, Tom McElroy, Will Zahrn, James Fierro, Sam Derence, Jennifer Knox, Patrick Clear, Sarah Jayne Dunn, Charles Venn, Winston Ellis, Sophia Hinshelwood, Keith Kupferer, Joseph Luis Caballero, Richard Dillane, Daryl Satcher, Chris Petschler, Aidan Feore, Philip Bulcock, Paul Birchard, Walter Lewis, Vincent Riotta, Nancy Crane, K. Todd Freeman, Matt Shallenberger, Michael Andrew Gorman, Lanny Lutz, Peter DeFaria, Matt Rippy, Andrew Bicknell, Ariyon Bakare, Doug Ballard, Helene Maksoud, Tommy Campbell, Craig Heaney, Lorna Gayle, Lisa McAllister, Peter Brooke, Joshua Rollins, Dale Rivera, Matthew Leitch, Thomas Gaitsch, William Armstrong, Adam Kalesperis, Tristan Tait, Bronson Webb, David Ajala, Gertrude Kyles, Jonathan Ryland, James Scales, Nigel Carrington, Ian Pirie, Lateef Lovejoy, Grahame Edwards, Roger Monk, Ronan Summers, Wai Wong, Michael Corey Foster, Hannah Gunn, Jon Lee Brody, Debbi Burns, Maritza Cabrera, Shirin Caiola, Laura Chernicky, Henry Milton Chu, Kelli Clevenger, Richard Divizio, Tony Domino, David Fultz, Natalie Hallam, Jordon Hodges, Erron Jay, Nicky Katt, Thomas Kosik, Don Kress, Tim Krueger, Dan Latham, Tom McComas, James Mellor, Joseph Oliveira, Buster Reeves, Peter Rnic, Amit Shah, Michelle Shields, Sofiya Smirnova, Bruce Spielbauer, Robert Patrick Stern, Robert Stone, Richard Strobel, Tom Townsend, John Turk, John Warman, Chris Wilson, Kevin Zaideman, Rob Clark, Brandon Lambdin, Craig Braginsky, Mike Whyte, Tina Simmons, Rick Avery\n"
     ]
    }
   ],
   "source": [
    "print(Raw_df.belongs_to_collection[0],\"\\n\") # on retourne ici la valeur associé à name dans belongs_to_collection dans Raw_dfOld \n",
    "print(Raw_df.crew[0],\"\\n\")\n",
    "print(Raw_df.cast[0])\n",
    "\n"
   ]
  },
  {
   "cell_type": "code",
   "execution_count": 123,
   "metadata": {},
   "outputs": [
    {
     "data": {
      "text/plain": [
       "23"
      ]
     },
     "execution_count": 123,
     "metadata": {},
     "output_type": "execute_result"
    }
   ],
   "source": [
    "len(Raw_df_oldDF.columns)"
   ]
  },
  {
   "cell_type": "code",
   "execution_count": 124,
   "metadata": {},
   "outputs": [],
   "source": [
    "Raw_df_columns=set(Raw_df.columns)\n",
    "Raw_df_oldDF_columns=set(Raw_df_oldDF.columns)\n"
   ]
  },
  {
   "cell_type": "code",
   "execution_count": 125,
   "metadata": {},
   "outputs": [
    {
     "data": {
      "text/plain": [
       "(27, 23)"
      ]
     },
     "execution_count": 125,
     "metadata": {},
     "output_type": "execute_result"
    }
   ],
   "source": [
    "len(Raw_df_columns),len(Raw_df_oldDF_columns)"
   ]
  },
  {
   "cell_type": "code",
   "execution_count": 126,
   "metadata": {},
   "outputs": [
    {
     "data": {
      "text/plain": [
       "{'adult', 'backdrop_path', 'vote_average', 'vote_count'}"
      ]
     },
     "execution_count": 126,
     "metadata": {},
     "output_type": "execute_result"
    }
   ],
   "source": [
    "Raw_df_columns.difference(Raw_df_oldDF_columns)"
   ]
  },
  {
   "cell_type": "code",
   "execution_count": 127,
   "metadata": {},
   "outputs": [],
   "source": [
    "col_to_keep=list(Raw_df_columns & Raw_df_oldDF_columns)\n"
   ]
  },
  {
   "cell_type": "code",
   "execution_count": 29,
   "metadata": {},
   "outputs": [
    {
     "data": {
      "text/plain": [
       "23"
      ]
     },
     "execution_count": 29,
     "metadata": {},
     "output_type": "execute_result"
    }
   ],
   "source": [
    "len(col_to_keep)"
   ]
  },
  {
   "cell_type": "code",
   "execution_count": 128,
   "metadata": {},
   "outputs": [],
   "source": [
    "df=Raw_df[col_to_keep].copy()"
   ]
  },
  {
   "cell_type": "code",
   "execution_count": 129,
   "metadata": {},
   "outputs": [
    {
     "name": "stdout",
     "output_type": "stream",
     "text": [
      "dataset Test_df                 : [         47, 23]\n"
     ]
    }
   ],
   "source": [
    "ds_name = 'Test_df'\n",
    "print(f'dataset {ds_name:24}: [ {df.shape[0]:10,}, {df.shape[1]}]')"
   ]
  },
  {
   "cell_type": "markdown",
   "metadata": {},
   "source": [
    "## 2.2 Concatenate, shuffle and split"
   ]
  },
  {
   "cell_type": "code",
   "execution_count": 130,
   "metadata": {},
   "outputs": [],
   "source": [
    "n=int(df.shape[0]/3)"
   ]
  },
  {
   "cell_type": "code",
   "execution_count": 131,
   "metadata": {},
   "outputs": [],
   "source": [
    "df1,df2,df3=df.iloc[:n,],df.iloc[n:2*n,],df.iloc[2*n:,]"
   ]
  },
  {
   "cell_type": "code",
   "execution_count": 132,
   "metadata": {},
   "outputs": [],
   "source": [
    "def con_shuf_split(df1,df2,df3,scale=0.2):\n",
    "    df=pd.concat([df1.copy(),df2.copy(),df3.copy()])\n",
    "    n=df1.shape[0]+df2.shape[0]+df3.shape[0]\n",
    "    p=np.random.permutation(range(n))\n",
    "    split1_size=n-int(n*scale)\n",
    "    split1_index=p[:split1_size]\n",
    "    split2_index=p[split1_size:]\n",
    "\n",
    "    split1=df.iloc[split1_index,]\n",
    "    split2=df.iloc[split2_index,]\n",
    "\n",
    "    return split1,split2"
   ]
  },
  {
   "cell_type": "code",
   "execution_count": 133,
   "metadata": {},
   "outputs": [],
   "source": [
    "df_train,df_test=con_shuf_split(df1,df2,df3,scale=0.2)"
   ]
  },
  {
   "cell_type": "code",
   "execution_count": 134,
   "metadata": {},
   "outputs": [
    {
     "data": {
      "text/plain": [
       "(38, 23)"
      ]
     },
     "execution_count": 134,
     "metadata": {},
     "output_type": "execute_result"
    }
   ],
   "source": [
    "df_train.shape"
   ]
  },
  {
   "cell_type": "markdown",
   "metadata": {},
   "source": [
    "# 3 Descriptive Statistique\n"
   ]
  },
  {
   "cell_type": "code",
   "execution_count": 135,
   "metadata": {},
   "outputs": [
    {
     "name": "stdout",
     "output_type": "stream",
     "text": [
      "<class 'pandas.core.frame.DataFrame'>\n",
      "Index: 38 entries, 0 to 43\n",
      "Data columns (total 23 columns):\n",
      " #   Column                 Non-Null Count  Dtype  \n",
      "---  ------                 --------------  -----  \n",
      " 0   spoken_languages       38 non-null     object \n",
      " 1   belongs_to_collection  29 non-null     object \n",
      " 2   genres                 38 non-null     object \n",
      " 3   id                     38 non-null     int64  \n",
      " 4   production_countries   38 non-null     object \n",
      " 5   revenue                38 non-null     int64  \n",
      " 6   imdb_id                38 non-null     object \n",
      " 7   crew                   38 non-null     object \n",
      " 8   original_title         38 non-null     object \n",
      " 9   original_language      38 non-null     object \n",
      " 10  popularity             38 non-null     float64\n",
      " 11  runtime                38 non-null     int64  \n",
      " 12  budget                 38 non-null     int64  \n",
      " 13  tagline                38 non-null     object \n",
      " 14  homepage               36 non-null     object \n",
      " 15  production_companies   38 non-null     object \n",
      " 16  status                 38 non-null     object \n",
      " 17  cast                   38 non-null     object \n",
      " 18  title                  38 non-null     object \n",
      " 19  overview               38 non-null     object \n",
      " 20  Keywords               38 non-null     object \n",
      " 21  poster_path            38 non-null     object \n",
      " 22  release_date           38 non-null     object \n",
      "dtypes: float64(1), int64(4), object(18)\n",
      "memory usage: 7.1+ KB\n"
     ]
    }
   ],
   "source": [
    "df_train.info()"
   ]
  },
  {
   "cell_type": "code",
   "execution_count": 39,
   "metadata": {},
   "outputs": [
    {
     "data": {
      "text/html": [
       "<div>\n",
       "<style scoped>\n",
       "    .dataframe tbody tr th:only-of-type {\n",
       "        vertical-align: middle;\n",
       "    }\n",
       "\n",
       "    .dataframe tbody tr th {\n",
       "        vertical-align: top;\n",
       "    }\n",
       "\n",
       "    .dataframe thead th {\n",
       "        text-align: right;\n",
       "    }\n",
       "</style>\n",
       "<table border=\"1\" class=\"dataframe\">\n",
       "  <thead>\n",
       "    <tr style=\"text-align: right;\">\n",
       "      <th></th>\n",
       "      <th>id</th>\n",
       "      <th>revenue</th>\n",
       "      <th>popularity</th>\n",
       "      <th>runtime</th>\n",
       "      <th>budget</th>\n",
       "    </tr>\n",
       "  </thead>\n",
       "  <tbody>\n",
       "    <tr>\n",
       "      <th>count</th>\n",
       "      <td>38.000000</td>\n",
       "      <td>3.800000e+01</td>\n",
       "      <td>38.000000</td>\n",
       "      <td>38.000000</td>\n",
       "      <td>3.800000e+01</td>\n",
       "    </tr>\n",
       "    <tr>\n",
       "      <th>mean</th>\n",
       "      <td>73373.236842</td>\n",
       "      <td>8.638951e+08</td>\n",
       "      <td>80.257132</td>\n",
       "      <td>142.315789</td>\n",
       "      <td>1.380658e+08</td>\n",
       "    </tr>\n",
       "    <tr>\n",
       "      <th>std</th>\n",
       "      <td>117735.993242</td>\n",
       "      <td>6.176008e+08</td>\n",
       "      <td>31.549709</td>\n",
       "      <td>21.904097</td>\n",
       "      <td>7.285084e+07</td>\n",
       "    </tr>\n",
       "    <tr>\n",
       "      <th>min</th>\n",
       "      <td>13.000000</td>\n",
       "      <td>2.834147e+07</td>\n",
       "      <td>29.577000</td>\n",
       "      <td>95.000000</td>\n",
       "      <td>8.500000e+06</td>\n",
       "    </tr>\n",
       "    <tr>\n",
       "      <th>25%</th>\n",
       "      <td>620.000000</td>\n",
       "      <td>4.063317e+08</td>\n",
       "      <td>57.236750</td>\n",
       "      <td>126.250000</td>\n",
       "      <td>7.925000e+07</td>\n",
       "    </tr>\n",
       "    <tr>\n",
       "      <th>50%</th>\n",
       "      <td>10759.500000</td>\n",
       "      <td>7.812906e+08</td>\n",
       "      <td>77.616500</td>\n",
       "      <td>140.500000</td>\n",
       "      <td>1.400000e+08</td>\n",
       "    </tr>\n",
       "    <tr>\n",
       "      <th>75%</th>\n",
       "      <td>99069.750000</td>\n",
       "      <td>1.079396e+09</td>\n",
       "      <td>96.256250</td>\n",
       "      <td>152.750000</td>\n",
       "      <td>1.800000e+08</td>\n",
       "    </tr>\n",
       "    <tr>\n",
       "      <th>max</th>\n",
       "      <td>475557.000000</td>\n",
       "      <td>2.923706e+09</td>\n",
       "      <td>185.482000</td>\n",
       "      <td>201.000000</td>\n",
       "      <td>3.560000e+08</td>\n",
       "    </tr>\n",
       "  </tbody>\n",
       "</table>\n",
       "</div>"
      ],
      "text/plain": [
       "                  id       revenue  popularity     runtime        budget\n",
       "count      38.000000  3.800000e+01   38.000000   38.000000  3.800000e+01\n",
       "mean    73373.236842  8.638951e+08   80.257132  142.315789  1.380658e+08\n",
       "std    117735.993242  6.176008e+08   31.549709   21.904097  7.285084e+07\n",
       "min        13.000000  2.834147e+07   29.577000   95.000000  8.500000e+06\n",
       "25%       620.000000  4.063317e+08   57.236750  126.250000  7.925000e+07\n",
       "50%     10759.500000  7.812906e+08   77.616500  140.500000  1.400000e+08\n",
       "75%     99069.750000  1.079396e+09   96.256250  152.750000  1.800000e+08\n",
       "max    475557.000000  2.923706e+09  185.482000  201.000000  3.560000e+08"
      ]
     },
     "execution_count": 39,
     "metadata": {},
     "output_type": "execute_result"
    }
   ],
   "source": [
    "df_train.describe() #only 4 numerical features"
   ]
  },
  {
   "cell_type": "code",
   "execution_count": 40,
   "metadata": {},
   "outputs": [
    {
     "data": {
      "text/html": [
       "<div>\n",
       "<style scoped>\n",
       "    .dataframe tbody tr th:only-of-type {\n",
       "        vertical-align: middle;\n",
       "    }\n",
       "\n",
       "    .dataframe tbody tr th {\n",
       "        vertical-align: top;\n",
       "    }\n",
       "\n",
       "    .dataframe thead th {\n",
       "        text-align: right;\n",
       "    }\n",
       "</style>\n",
       "<table border=\"1\" class=\"dataframe\">\n",
       "  <thead>\n",
       "    <tr style=\"text-align: right;\">\n",
       "      <th></th>\n",
       "      <th>spoken_languages</th>\n",
       "      <th>belongs_to_collection</th>\n",
       "      <th>genres</th>\n",
       "      <th>id</th>\n",
       "      <th>production_countries</th>\n",
       "      <th>revenue</th>\n",
       "      <th>imdb_id</th>\n",
       "      <th>crew</th>\n",
       "      <th>original_title</th>\n",
       "      <th>original_language</th>\n",
       "      <th>...</th>\n",
       "      <th>tagline</th>\n",
       "      <th>homepage</th>\n",
       "      <th>production_companies</th>\n",
       "      <th>status</th>\n",
       "      <th>cast</th>\n",
       "      <th>title</th>\n",
       "      <th>overview</th>\n",
       "      <th>Keywords</th>\n",
       "      <th>poster_path</th>\n",
       "      <th>release_date</th>\n",
       "    </tr>\n",
       "  </thead>\n",
       "  <tbody>\n",
       "    <tr>\n",
       "      <th>count</th>\n",
       "      <td>38</td>\n",
       "      <td>30</td>\n",
       "      <td>38</td>\n",
       "      <td>38.000000</td>\n",
       "      <td>38</td>\n",
       "      <td>3.800000e+01</td>\n",
       "      <td>38</td>\n",
       "      <td>38</td>\n",
       "      <td>38</td>\n",
       "      <td>38</td>\n",
       "      <td>...</td>\n",
       "      <td>38</td>\n",
       "      <td>36</td>\n",
       "      <td>38</td>\n",
       "      <td>38</td>\n",
       "      <td>38</td>\n",
       "      <td>38</td>\n",
       "      <td>38</td>\n",
       "      <td>38</td>\n",
       "      <td>38</td>\n",
       "      <td>38</td>\n",
       "    </tr>\n",
       "    <tr>\n",
       "      <th>unique</th>\n",
       "      <td>15</td>\n",
       "      <td>18</td>\n",
       "      <td>26</td>\n",
       "      <td>NaN</td>\n",
       "      <td>7</td>\n",
       "      <td>NaN</td>\n",
       "      <td>38</td>\n",
       "      <td>38</td>\n",
       "      <td>38</td>\n",
       "      <td>1</td>\n",
       "      <td>...</td>\n",
       "      <td>38</td>\n",
       "      <td>35</td>\n",
       "      <td>26</td>\n",
       "      <td>1</td>\n",
       "      <td>38</td>\n",
       "      <td>38</td>\n",
       "      <td>38</td>\n",
       "      <td>38</td>\n",
       "      <td>38</td>\n",
       "      <td>38</td>\n",
       "    </tr>\n",
       "    <tr>\n",
       "      <th>top</th>\n",
       "      <td>English</td>\n",
       "      <td>Harry Potter Collection</td>\n",
       "      <td>Adventure, Fantasy, Action</td>\n",
       "      <td>NaN</td>\n",
       "      <td>United States of America</td>\n",
       "      <td>NaN</td>\n",
       "      <td>tt0330373</td>\n",
       "      <td>Mike Newell, Steve Kloves, J.K. Rowling, David...</td>\n",
       "      <td>Harry Potter and the Goblet of Fire</td>\n",
       "      <td>en</td>\n",
       "      <td>...</td>\n",
       "      <td>Dark And Difficult Times Lie Ahead.</td>\n",
       "      <td>http://www.lordoftherings.net/</td>\n",
       "      <td>Marvel Studios</td>\n",
       "      <td>Released</td>\n",
       "      <td>Daniel Radcliffe, Rupert Grint, Emma Watson, B...</td>\n",
       "      <td>Harry Potter and the Goblet of Fire</td>\n",
       "      <td>When Harry Potter's name emerges from the Gobl...</td>\n",
       "      <td>witch, dying and death, based on novel or book...</td>\n",
       "      <td>/fECBtHlr0RB3foNHDiCBXeg9Bv9.jpg</td>\n",
       "      <td>2005-11-16</td>\n",
       "    </tr>\n",
       "    <tr>\n",
       "      <th>freq</th>\n",
       "      <td>23</td>\n",
       "      <td>4</td>\n",
       "      <td>5</td>\n",
       "      <td>NaN</td>\n",
       "      <td>25</td>\n",
       "      <td>NaN</td>\n",
       "      <td>1</td>\n",
       "      <td>1</td>\n",
       "      <td>1</td>\n",
       "      <td>38</td>\n",
       "      <td>...</td>\n",
       "      <td>1</td>\n",
       "      <td>2</td>\n",
       "      <td>11</td>\n",
       "      <td>38</td>\n",
       "      <td>1</td>\n",
       "      <td>1</td>\n",
       "      <td>1</td>\n",
       "      <td>1</td>\n",
       "      <td>1</td>\n",
       "      <td>1</td>\n",
       "    </tr>\n",
       "    <tr>\n",
       "      <th>mean</th>\n",
       "      <td>NaN</td>\n",
       "      <td>NaN</td>\n",
       "      <td>NaN</td>\n",
       "      <td>73373.236842</td>\n",
       "      <td>NaN</td>\n",
       "      <td>8.638951e+08</td>\n",
       "      <td>NaN</td>\n",
       "      <td>NaN</td>\n",
       "      <td>NaN</td>\n",
       "      <td>NaN</td>\n",
       "      <td>...</td>\n",
       "      <td>NaN</td>\n",
       "      <td>NaN</td>\n",
       "      <td>NaN</td>\n",
       "      <td>NaN</td>\n",
       "      <td>NaN</td>\n",
       "      <td>NaN</td>\n",
       "      <td>NaN</td>\n",
       "      <td>NaN</td>\n",
       "      <td>NaN</td>\n",
       "      <td>NaN</td>\n",
       "    </tr>\n",
       "    <tr>\n",
       "      <th>std</th>\n",
       "      <td>NaN</td>\n",
       "      <td>NaN</td>\n",
       "      <td>NaN</td>\n",
       "      <td>117735.993242</td>\n",
       "      <td>NaN</td>\n",
       "      <td>6.176008e+08</td>\n",
       "      <td>NaN</td>\n",
       "      <td>NaN</td>\n",
       "      <td>NaN</td>\n",
       "      <td>NaN</td>\n",
       "      <td>...</td>\n",
       "      <td>NaN</td>\n",
       "      <td>NaN</td>\n",
       "      <td>NaN</td>\n",
       "      <td>NaN</td>\n",
       "      <td>NaN</td>\n",
       "      <td>NaN</td>\n",
       "      <td>NaN</td>\n",
       "      <td>NaN</td>\n",
       "      <td>NaN</td>\n",
       "      <td>NaN</td>\n",
       "    </tr>\n",
       "    <tr>\n",
       "      <th>min</th>\n",
       "      <td>NaN</td>\n",
       "      <td>NaN</td>\n",
       "      <td>NaN</td>\n",
       "      <td>13.000000</td>\n",
       "      <td>NaN</td>\n",
       "      <td>2.834147e+07</td>\n",
       "      <td>NaN</td>\n",
       "      <td>NaN</td>\n",
       "      <td>NaN</td>\n",
       "      <td>NaN</td>\n",
       "      <td>...</td>\n",
       "      <td>NaN</td>\n",
       "      <td>NaN</td>\n",
       "      <td>NaN</td>\n",
       "      <td>NaN</td>\n",
       "      <td>NaN</td>\n",
       "      <td>NaN</td>\n",
       "      <td>NaN</td>\n",
       "      <td>NaN</td>\n",
       "      <td>NaN</td>\n",
       "      <td>NaN</td>\n",
       "    </tr>\n",
       "    <tr>\n",
       "      <th>25%</th>\n",
       "      <td>NaN</td>\n",
       "      <td>NaN</td>\n",
       "      <td>NaN</td>\n",
       "      <td>620.000000</td>\n",
       "      <td>NaN</td>\n",
       "      <td>4.063317e+08</td>\n",
       "      <td>NaN</td>\n",
       "      <td>NaN</td>\n",
       "      <td>NaN</td>\n",
       "      <td>NaN</td>\n",
       "      <td>...</td>\n",
       "      <td>NaN</td>\n",
       "      <td>NaN</td>\n",
       "      <td>NaN</td>\n",
       "      <td>NaN</td>\n",
       "      <td>NaN</td>\n",
       "      <td>NaN</td>\n",
       "      <td>NaN</td>\n",
       "      <td>NaN</td>\n",
       "      <td>NaN</td>\n",
       "      <td>NaN</td>\n",
       "    </tr>\n",
       "    <tr>\n",
       "      <th>50%</th>\n",
       "      <td>NaN</td>\n",
       "      <td>NaN</td>\n",
       "      <td>NaN</td>\n",
       "      <td>10759.500000</td>\n",
       "      <td>NaN</td>\n",
       "      <td>7.812906e+08</td>\n",
       "      <td>NaN</td>\n",
       "      <td>NaN</td>\n",
       "      <td>NaN</td>\n",
       "      <td>NaN</td>\n",
       "      <td>...</td>\n",
       "      <td>NaN</td>\n",
       "      <td>NaN</td>\n",
       "      <td>NaN</td>\n",
       "      <td>NaN</td>\n",
       "      <td>NaN</td>\n",
       "      <td>NaN</td>\n",
       "      <td>NaN</td>\n",
       "      <td>NaN</td>\n",
       "      <td>NaN</td>\n",
       "      <td>NaN</td>\n",
       "    </tr>\n",
       "    <tr>\n",
       "      <th>75%</th>\n",
       "      <td>NaN</td>\n",
       "      <td>NaN</td>\n",
       "      <td>NaN</td>\n",
       "      <td>99069.750000</td>\n",
       "      <td>NaN</td>\n",
       "      <td>1.079396e+09</td>\n",
       "      <td>NaN</td>\n",
       "      <td>NaN</td>\n",
       "      <td>NaN</td>\n",
       "      <td>NaN</td>\n",
       "      <td>...</td>\n",
       "      <td>NaN</td>\n",
       "      <td>NaN</td>\n",
       "      <td>NaN</td>\n",
       "      <td>NaN</td>\n",
       "      <td>NaN</td>\n",
       "      <td>NaN</td>\n",
       "      <td>NaN</td>\n",
       "      <td>NaN</td>\n",
       "      <td>NaN</td>\n",
       "      <td>NaN</td>\n",
       "    </tr>\n",
       "    <tr>\n",
       "      <th>max</th>\n",
       "      <td>NaN</td>\n",
       "      <td>NaN</td>\n",
       "      <td>NaN</td>\n",
       "      <td>475557.000000</td>\n",
       "      <td>NaN</td>\n",
       "      <td>2.923706e+09</td>\n",
       "      <td>NaN</td>\n",
       "      <td>NaN</td>\n",
       "      <td>NaN</td>\n",
       "      <td>NaN</td>\n",
       "      <td>...</td>\n",
       "      <td>NaN</td>\n",
       "      <td>NaN</td>\n",
       "      <td>NaN</td>\n",
       "      <td>NaN</td>\n",
       "      <td>NaN</td>\n",
       "      <td>NaN</td>\n",
       "      <td>NaN</td>\n",
       "      <td>NaN</td>\n",
       "      <td>NaN</td>\n",
       "      <td>NaN</td>\n",
       "    </tr>\n",
       "  </tbody>\n",
       "</table>\n",
       "<p>11 rows × 23 columns</p>\n",
       "</div>"
      ],
      "text/plain": [
       "       spoken_languages    belongs_to_collection                      genres  \\\n",
       "count                38                       30                          38   \n",
       "unique               15                       18                          26   \n",
       "top             English  Harry Potter Collection  Adventure, Fantasy, Action   \n",
       "freq                 23                        4                           5   \n",
       "mean                NaN                      NaN                         NaN   \n",
       "std                 NaN                      NaN                         NaN   \n",
       "min                 NaN                      NaN                         NaN   \n",
       "25%                 NaN                      NaN                         NaN   \n",
       "50%                 NaN                      NaN                         NaN   \n",
       "75%                 NaN                      NaN                         NaN   \n",
       "max                 NaN                      NaN                         NaN   \n",
       "\n",
       "                   id      production_countries       revenue    imdb_id  \\\n",
       "count       38.000000                        38  3.800000e+01         38   \n",
       "unique            NaN                         7           NaN         38   \n",
       "top               NaN  United States of America           NaN  tt0330373   \n",
       "freq              NaN                        25           NaN          1   \n",
       "mean     73373.236842                       NaN  8.638951e+08        NaN   \n",
       "std     117735.993242                       NaN  6.176008e+08        NaN   \n",
       "min         13.000000                       NaN  2.834147e+07        NaN   \n",
       "25%        620.000000                       NaN  4.063317e+08        NaN   \n",
       "50%      10759.500000                       NaN  7.812906e+08        NaN   \n",
       "75%      99069.750000                       NaN  1.079396e+09        NaN   \n",
       "max     475557.000000                       NaN  2.923706e+09        NaN   \n",
       "\n",
       "                                                     crew  \\\n",
       "count                                                  38   \n",
       "unique                                                 38   \n",
       "top     Mike Newell, Steve Kloves, J.K. Rowling, David...   \n",
       "freq                                                    1   \n",
       "mean                                                  NaN   \n",
       "std                                                   NaN   \n",
       "min                                                   NaN   \n",
       "25%                                                   NaN   \n",
       "50%                                                   NaN   \n",
       "75%                                                   NaN   \n",
       "max                                                   NaN   \n",
       "\n",
       "                             original_title original_language  ...  \\\n",
       "count                                    38                38  ...   \n",
       "unique                                   38                 1  ...   \n",
       "top     Harry Potter and the Goblet of Fire                en  ...   \n",
       "freq                                      1                38  ...   \n",
       "mean                                    NaN               NaN  ...   \n",
       "std                                     NaN               NaN  ...   \n",
       "min                                     NaN               NaN  ...   \n",
       "25%                                     NaN               NaN  ...   \n",
       "50%                                     NaN               NaN  ...   \n",
       "75%                                     NaN               NaN  ...   \n",
       "max                                     NaN               NaN  ...   \n",
       "\n",
       "                                    tagline                        homepage  \\\n",
       "count                                    38                              36   \n",
       "unique                                   38                              35   \n",
       "top     Dark And Difficult Times Lie Ahead.  http://www.lordoftherings.net/   \n",
       "freq                                      1                               2   \n",
       "mean                                    NaN                             NaN   \n",
       "std                                     NaN                             NaN   \n",
       "min                                     NaN                             NaN   \n",
       "25%                                     NaN                             NaN   \n",
       "50%                                     NaN                             NaN   \n",
       "75%                                     NaN                             NaN   \n",
       "max                                     NaN                             NaN   \n",
       "\n",
       "        production_companies    status  \\\n",
       "count                     38        38   \n",
       "unique                    26         1   \n",
       "top           Marvel Studios  Released   \n",
       "freq                      11        38   \n",
       "mean                     NaN       NaN   \n",
       "std                      NaN       NaN   \n",
       "min                      NaN       NaN   \n",
       "25%                      NaN       NaN   \n",
       "50%                      NaN       NaN   \n",
       "75%                      NaN       NaN   \n",
       "max                      NaN       NaN   \n",
       "\n",
       "                                                     cast  \\\n",
       "count                                                  38   \n",
       "unique                                                 38   \n",
       "top     Daniel Radcliffe, Rupert Grint, Emma Watson, B...   \n",
       "freq                                                    1   \n",
       "mean                                                  NaN   \n",
       "std                                                   NaN   \n",
       "min                                                   NaN   \n",
       "25%                                                   NaN   \n",
       "50%                                                   NaN   \n",
       "75%                                                   NaN   \n",
       "max                                                   NaN   \n",
       "\n",
       "                                      title  \\\n",
       "count                                    38   \n",
       "unique                                   38   \n",
       "top     Harry Potter and the Goblet of Fire   \n",
       "freq                                      1   \n",
       "mean                                    NaN   \n",
       "std                                     NaN   \n",
       "min                                     NaN   \n",
       "25%                                     NaN   \n",
       "50%                                     NaN   \n",
       "75%                                     NaN   \n",
       "max                                     NaN   \n",
       "\n",
       "                                                 overview  \\\n",
       "count                                                  38   \n",
       "unique                                                 38   \n",
       "top     When Harry Potter's name emerges from the Gobl...   \n",
       "freq                                                    1   \n",
       "mean                                                  NaN   \n",
       "std                                                   NaN   \n",
       "min                                                   NaN   \n",
       "25%                                                   NaN   \n",
       "50%                                                   NaN   \n",
       "75%                                                   NaN   \n",
       "max                                                   NaN   \n",
       "\n",
       "                                                 Keywords  \\\n",
       "count                                                  38   \n",
       "unique                                                 38   \n",
       "top     witch, dying and death, based on novel or book...   \n",
       "freq                                                    1   \n",
       "mean                                                  NaN   \n",
       "std                                                   NaN   \n",
       "min                                                   NaN   \n",
       "25%                                                   NaN   \n",
       "50%                                                   NaN   \n",
       "75%                                                   NaN   \n",
       "max                                                   NaN   \n",
       "\n",
       "                             poster_path release_date  \n",
       "count                                 38           38  \n",
       "unique                                38           38  \n",
       "top     /fECBtHlr0RB3foNHDiCBXeg9Bv9.jpg   2005-11-16  \n",
       "freq                                   1            1  \n",
       "mean                                 NaN          NaN  \n",
       "std                                  NaN          NaN  \n",
       "min                                  NaN          NaN  \n",
       "25%                                  NaN          NaN  \n",
       "50%                                  NaN          NaN  \n",
       "75%                                  NaN          NaN  \n",
       "max                                  NaN          NaN  \n",
       "\n",
       "[11 rows x 23 columns]"
      ]
     },
     "execution_count": 40,
     "metadata": {},
     "output_type": "execute_result"
    }
   ],
   "source": [
    "df_train.describe(include='all') #look at all categorical and numerical"
   ]
  },
  {
   "cell_type": "code",
   "execution_count": 41,
   "metadata": {},
   "outputs": [
    {
     "data": {
      "text/plain": [
       "<seaborn.axisgrid.JointGrid at 0x7f7af11d3ed0>"
      ]
     },
     "execution_count": 41,
     "metadata": {},
     "output_type": "execute_result"
    },
    {
     "data": {
      "image/png": "[encoded data removed]",
      "text/plain": [
       "<Figure size 1500x1500 with 3 Axes>"
      ]
     },
     "metadata": {},
     "output_type": "display_data"
    }
   ],
   "source": [
    "df_train['logRevenue']=np.log1p(df_train['revenue'])\n",
    "df_train['logBudget']=np.log1p(df_train['budget'])\n",
    "sns.jointplot(x=\"logBudget\", y=\"logRevenue\", data=df_train, height=15, ratio=5, color=\"b\", kind='hex')\n"
   ]
  },
  {
   "cell_type": "markdown",
   "metadata": {},
   "source": [
    "### Distribution of the target column "
   ]
  },
  {
   "cell_type": "code",
   "execution_count": 45,
   "metadata": {},
   "outputs": [
    {
     "data": {
      "image/png": "[encoded data removed]",
      "text/plain": [
       "<Figure size 640x480 with 1 Axes>"
      ]
     },
     "metadata": {},
     "output_type": "display_data"
    }
   ],
   "source": [
    "# necessary imports\n",
    "%matplotlib inline\n",
    "import matplotlib.pyplot as plt\n",
    "import numpy as np\n",
    "import seaborn as sns; sns.set()\n",
    "df_train['revenue'].astype(float).plot.hist()\n",
    "plt.xlabel(\"Revenue in Billions of $\")\n",
    "plt.ylabel(\"Frequency\")\n",
    "plt.title(\"Boxoffice revenue in $Billions\")\n",
    "plt.grid()\n"
   ]
  },
  {
   "cell_type": "code",
   "execution_count": 46,
   "metadata": {},
   "outputs": [
    {
     "data": {
      "image/png": "[encoded data removed]",
      "text/plain": [
       "<Figure size 640x480 with 1 Axes>"
      ]
     },
     "metadata": {},
     "output_type": "display_data"
    }
   ],
   "source": [
    "%matplotlib inline\n",
    "import matplotlib.pyplot as plt\n",
    "import numpy as np\n",
    "import seaborn as sns; sns.set()\n",
    "sns.distplot(df_train['revenue'] )\n",
    "plt.xlabel(\"Revenue in Billions of $\")\n",
    "plt.ylabel(\"Frequency\")\n",
    "plt.title(\"Boxoffice revenue in $Billions\")\n",
    "plt.grid()\n"
   ]
  },
  {
   "cell_type": "markdown",
   "metadata": {},
   "source": [
    "#### Take log of target variable (revenue)\n",
    "Because revenue variable is skewed, let's calculate log of it.\n",
    "\n"
   ]
  },
  {
   "cell_type": "code",
   "execution_count": 47,
   "metadata": {},
   "outputs": [
    {
     "data": {
      "text/plain": [
       "Text(0.5, 1.0, 'log Boxoffice revenue in $Billions')"
      ]
     },
     "execution_count": 47,
     "metadata": {},
     "output_type": "execute_result"
    },
    {
     "data": {
      "image/png": "[encoded data removed]",
      "text/plain": [
       "<Figure size 640x480 with 1 Axes>"
      ]
     },
     "metadata": {},
     "output_type": "display_data"
    }
   ],
   "source": [
    "df_train['logRevenue'] = np.log1p(df_train['revenue'])\n",
    "sns.distplot(df_train['logRevenue'] )\n",
    "plt.grid()\n",
    "plt.xlabel(\"log(Revenue in $Billions)\")\n",
    "plt.ylabel(\"Frequency\")\n",
    "plt.title(\"log Boxoffice revenue in $Billions\")\n"
   ]
  },
  {
   "cell_type": "code",
   "execution_count": 48,
   "metadata": {},
   "outputs": [
    {
     "data": {
      "image/png": "[encoded data removed]",
      "text/plain": [
       "<Figure size 512.222x500 with 1 Axes>"
      ]
     },
     "metadata": {},
     "output_type": "display_data"
    }
   ],
   "source": [
    "#Run cells below before running completely the preprocessing\n",
    "with sns.axes_style(style='ticks'):\n",
    "    g = sns.catplot(x=\"release_date\",y= \"revenue\", data=df_train, kind=\"box\")\n",
    "    g.set_axis_labels(\"Release Month\", \"Revenue\");\n",
    "    "
   ]
  },
  {
   "cell_type": "code",
   "execution_count": 49,
   "metadata": {},
   "outputs": [],
   "source": [
    "colonnes_objects = df_train.select_dtypes(include=['object']).columns.tolist()\n"
   ]
  },
  {
   "cell_type": "code",
   "execution_count": 130,
   "metadata": {},
   "outputs": [
    {
     "data": {
      "image/png": "[encoded data removed]",
      "text/plain": [
       "<Figure size 511.111x500 with 1 Axes>"
      ]
     },
     "metadata": {},
     "output_type": "display_data"
    }
   ],
   "source": [
    "#Run cells below before running completely the preprocessing\n",
    "g=sns.catplot(x=\"has_homepage\", y=\"revenue\", data=df_train);\n",
    "g.set_axis_labels(\"Has Homepage? 0=no,1=yes\", \"Revenue\");"
   ]
  },
  {
   "cell_type": "code",
   "execution_count": 32,
   "metadata": {},
   "outputs": [
    {
     "data": {
      "text/plain": [
       "<Axes: >"
      ]
     },
     "execution_count": 32,
     "metadata": {},
     "output_type": "execute_result"
    },
    {
     "data": {
      "image/png": "[encoded data removed]",
      "text/plain": [
       "<Figure size 640x480 with 2 Axes>"
      ]
     },
     "metadata": {},
     "output_type": "display_data"
    }
   ],
   "source": [
    "colonnes_numeriques = df_train.select_dtypes(include=['int', 'float']).columns.tolist()\n",
    "num_df_train=df_train[colonnes_numeriques]\n",
    "corr=num_df_train.corr()\n",
    "cmap = sns.diverging_palette(220, 10, as_cmap=True)\n",
    "sns.heatmap(corr, cmap=cmap, vmax=.5, square=True, linewidths=.5)"
   ]
  },
  {
   "cell_type": "markdown",
   "metadata": {},
   "source": [
    "#  4 Preprocessing\n"
   ]
  },
  {
   "cell_type": "markdown",
   "metadata": {},
   "source": [
    "##  4.1 Fill NaN Update and/or Convert in power 6 some column values \n",
    "for instance updating the budget of Beethoven movie "
   ]
  },
  {
   "cell_type": "code",
   "execution_count": 136,
   "metadata": {},
   "outputs": [],
   "source": [
    "df_train['budget'].fillna('median')\n",
    "df_train['popularity'].fillna('median')\n",
    "df_train['runtime'].fillna('median')\n",
    "\n",
    "df_train.loc[df_train['id'] == 16,'revenue'] = 192864          # Skinning\n",
    "df_train.loc[df_train['id'] == 90,'budget'] = 30000000         # Sommersby          \n",
    "df_train.loc[df_train['id'] == 118,'budget'] = 60000000        # Wild Hogs\n",
    "df_train.loc[df_train['id'] == 149,'budget'] = 18000000        # Beethoven\n",
    "df_train.loc[df_train['id'] == 313,'revenue'] = 12000000       # The Cookout \n",
    "df_train.loc[df_train['id'] == 451,'revenue'] = 12000000       # Chasing Liberty\n",
    "df_train.loc[df_train['id'] == 464,'budget'] = 20000000        # Parenthood\n",
    "df_train.loc[df_train['id'] == 470,'budget'] = 13000000        # The Karate Kid, Part II\n",
    "df_train.loc[df_train['id'] == 513,'budget'] = 930000          # From Prada to Nada\n",
    "df_train.loc[df_train['id'] == 797,'budget'] = 8000000         # Welcome to Dongmakgol\n",
    "df_train.loc[df_train['id'] == 819,'budget'] = 90000000        # Alvin and the Chipmunks: The Road Chip\n",
    "df_train.loc[df_train['id'] == 850,'budget'] = 90000000        # Modern Times\n",
    "df_train.loc[df_train['id'] == 1112,'budget'] = 7500000        # An Officer and a Gentleman\n",
    "df_train.loc[df_train['id'] == 1131,'budget'] = 4300000        # Smokey and the Bandit   \n",
    "df_train.loc[df_train['id'] == 1359,'budget'] = 10000000       # Stir Crazy \n",
    "df_train.loc[df_train['id'] == 1542,'budget'] = 1              # All at Once\n",
    "df_train.loc[df_train['id'] == 1570,'budget'] = 15800000       # Crocodile Dundee II\n",
    "df_train.loc[df_train['id'] == 1571,'budget'] = 4000000        # Lady and the Tramp\n",
    "df_train.loc[df_train['id'] == 1714,'budget'] = 46000000       # The Recruit\n",
    "df_train.loc[df_train['id'] == 1721,'budget'] = 17500000       # Cocoon\n",
    "df_train.loc[df_train['id'] == 1865,'revenue'] = 25000000      # Scooby-Doo 2: Monsters Unleashed\n",
    "df_train.loc[df_train['id'] == 2268,'budget'] = 17500000       # Madea Goes to Jail budget\n",
    "df_train.loc[df_train['id'] == 2491,'revenue'] = 6800000       # Never Talk to Strangers\n",
    "df_train.loc[df_train['id'] == 2602,'budget'] = 31000000       # Mr. Holland's Opus\n",
    "df_train.loc[df_train['id'] == 2612,'budget'] = 15000000       # Field of Dreams\n",
    "df_train.loc[df_train['id'] == 2696,'budget'] = 10000000       # Nurse 3-D\n",
    "df_train.loc[df_train['id'] == 2801,'budget'] = 10000000       # Fracture\n",
    "df_test.loc[df_test['id'] == 3889,'budget'] = 15000000       # Colossal\n",
    "df_test.loc[df_test['id'] == 6733,'budget'] = 5000000        # The Big Sick\n",
    "df_test.loc[df_test['id'] == 3197,'budget'] = 8000000        # High-Rise\n",
    "df_test.loc[df_test['id'] == 6683,'budget'] = 50000000       # The Pink Panther 2\n",
    "df_test.loc[df_test['id'] == 5704,'budget'] = 4300000        # French Connection II\n",
    "df_test.loc[df_test['id'] == 6109,'budget'] = 281756         # Dogtooth\n",
    "df_test.loc[df_test['id'] == 7242,'budget'] = 10000000       # Addams Family Values\n",
    "df_test.loc[df_test['id'] == 7021,'budget'] = 17540562       #  Two Is a Family\n",
    "df_test.loc[df_test['id'] == 5591,'budget'] = 4000000        # The Orphanage\n",
    "df_test.loc[df_test['id'] == 4282,'budget'] = 20000000       # Big Top Pee-wee\n",
    "\n",
    "power_six = df_train.id[df_train.budget > 1000][df_train.revenue < 100]\n",
    "\n",
    "for k in power_six :\n",
    "    df_train.loc[df_train['id'] == k,'revenue'] =  df_train.loc[df_train['id'] == k,'revenue'] * 1000000"
   ]
  },
  {
   "cell_type": "code",
   "execution_count": 137,
   "metadata": {},
   "outputs": [],
   "source": [
    "\n",
    "target = \"revenue\"\n",
    "\n",
    "X = df_train.drop(target, axis=1)\n",
    "y = df_train[target]\n",
    "\n",
    "X_train, X_reminds, y_train, y_reminds = train_test_split(X, y, train_size=0.7, test_size=0.15, random_state=42)\n",
    "X_test, X_valid, y_test, y_valid = train_test_split(X_reminds, y_reminds, test_size=0.15, random_state=42)"
   ]
  },
  {
   "cell_type": "code",
   "execution_count": 138,
   "metadata": {},
   "outputs": [
    {
     "name": "stdout",
     "output_type": "stream",
     "text": [
      "X_train.shape (26, 22) y_train.shape (26,)\n",
      "X_test.shape (5, 22) y_test.shape (5,)\n",
      "X_valid.shape (1, 22) y_valid.shape (1,)\n"
     ]
    }
   ],
   "source": [
    "print(\"X_train.shape\",X_train.shape ,\"y_train.shape\",y_train.shape)\n",
    "print(\"X_test.shape\",X_test.shape,\"y_test.shape\",y_test.shape)\n",
    "print(\"X_valid.shape\",X_valid.shape,\"y_valid.shape\",y_valid.shape)"
   ]
  },
  {
   "cell_type": "markdown",
   "metadata": {},
   "source": [
    "\n"
   ]
  },
  {
   "cell_type": "markdown",
   "metadata": {},
   "source": [
    "## 4.2 Clean categorical features\n",
    "for instance ,here, transform naturally a string of a list of dictionary into  dictionary"
   ]
  },
  {
   "cell_type": "markdown",
   "metadata": {},
   "source": [
    "def string_to_dict(string):\n",
    "    a={}\n",
    "    b=[]\n",
    "    if pd.isna(string)!= True and string!={} and string !=\"{}\" and len(string) >0:\n",
    "        if type(string)=='str' or type(string)==str:\n",
    "            b=eval(string)\n",
    "            a=b\n",
    "        else:\n",
    "            a=string\n",
    "    if type(a)==list:\n",
    "        if len(a)==0:\n",
    "            a={}\n",
    "        else :\n",
    "            a=a[0]\n",
    "    return a\n",
    "    "
   ]
  },
  {
   "cell_type": "code",
   "execution_count": 139,
   "metadata": {},
   "outputs": [],
   "source": [
    "# Aplly our above function for transforming our categorical columns\n",
    "dict_columns = ['belongs_to_collection', 'production_companies',\n",
    "                'production_countries', 'spoken_languages', 'Keywords', 'cast', 'crew']\n",
    "\n",
    "\n",
    "#for column in dict_columns:\n",
    "        #\n",
    "        #X_train[column] = X_train[column].apply(string_to_dict)\n",
    "        #X_test[column] = X_test[column].apply(string_to_dict)\n",
    "        #X_valid[column] = X_valid[column].apply(string_to_dict)"
   ]
  },
  {
   "cell_type": "markdown",
   "metadata": {},
   "source": [
    "## 4.3 Encoding\n",
    "Genre,Belongs_to_Collection and Homepage Binarization"
   ]
  },
  {
   "cell_type": "markdown",
   "metadata": {},
   "source": [
    "### 4.3.1 Slight transfomation on \"genres\" variable"
   ]
  },
  {
   "cell_type": "code",
   "execution_count": 140,
   "metadata": {},
   "outputs": [],
   "source": [
    "# Concaténer les ensembles de données train, test et validation\n",
    "X_all = pd.concat([X_train, X_test, X_valid], axis=0)\n",
    "\n",
    "# Diviser la colonne 'genres' en plusieurs colonnes en fonction de la virgule\n",
    "X_all_genres = X_all['genres'].str.split(', ', expand=True)\n",
    "\n",
    "# Convertir chaque genre en colonnes binaires\n",
    "X_all_genres = pd.get_dummies(X_all_genres.apply(lambda x: pd.Series(x).str.strip()), prefix='', prefix_sep='').groupby(level=0, axis=1).sum()\n",
    "\n",
    "# Renommer les colonnes binaires pour correspondre aux noms de colonnes du premier code\n",
    "X_all_genres.columns = ['genre_' + col.replace(' ', '_') for col in X_all_genres.columns]\n",
    "\n",
    "# Ajouter les colonnes binaires encodées en one-hot au DataFrame complet\n",
    "X_all = pd.concat([X_all, X_all_genres], axis=1)\n",
    "\n",
    "# Diviser à nouveau l'ensemble de données en ensembles de train, test et validation\n",
    "X_train = X_all.iloc[:len(X_train)]\n",
    "X_test = X_all.iloc[len(X_train):len(X_train) + len(X_test)]\n",
    "X_valid = X_all.iloc[len(X_train) + len(X_test):]\n"
   ]
  },
  {
   "cell_type": "code",
   "execution_count": 55,
   "metadata": {},
   "outputs": [
    {
     "data": {
      "text/plain": [
       "Index(['spoken_languages', 'belongs_to_collection', 'genres', 'id',\n",
       "       'production_countries', 'imdb_id', 'crew', 'original_title',\n",
       "       'original_language', 'popularity', 'runtime', 'budget', 'tagline',\n",
       "       'homepage', 'production_companies', 'status', 'cast', 'title',\n",
       "       'overview', 'Keywords', 'poster_path', 'release_date', 'logRevenue',\n",
       "       'logBudget', 'genre_Action', 'genre_Adventure', 'genre_Comedy',\n",
       "       'genre_Crime', 'genre_Drama', 'genre_Fantasy', 'genre_Mystery',\n",
       "       'genre_Romance', 'genre_Science_Fiction', 'genre_Thriller',\n",
       "       'genre_War'],\n",
       "      dtype='object')"
      ]
     },
     "execution_count": 55,
     "metadata": {},
     "output_type": "execute_result"
    }
   ],
   "source": [
    "X_train.columns"
   ]
  },
  {
   "cell_type": "markdown",
   "metadata": {},
   "source": [
    "## 4.3.2 One Encoding"
   ]
  },
  {
   "cell_type": "code",
   "execution_count": 141,
   "metadata": {},
   "outputs": [],
   "source": [
    "# Binarization of \"homepagee, \"released\"\n",
    "\n",
    "X_train['has_homepage'] = 1\n",
    "X_train.loc[pd.isnull(X_train['homepage']) ,\"has_homepage\"] = 0\n",
    "X_test['has_homepage'] = 1\n",
    "X_test.loc[pd.isnull(X_test['homepage']) ,\"has_homepage\"] = 0\n",
    "X_valid['has_homepage'] = 1\n",
    "X_valid.loc[pd.isnull(X_valid['homepage']) ,\"has_homepage\"] = 0\n",
    "\n",
    "\n",
    "X_train['released'] = 1\n",
    "X_train.loc[pd.isnull(X_train['status']) ,\"released\"] = 0\n",
    "X_test['released'] = 1\n",
    "X_test.loc[pd.isnull(X_test['status']) ,\"released\"] = 0\n",
    "X_valid['released'] = 1\n",
    "X_valid.loc[pd.isnull(X_valid['status']) ,\"released\"] = 0\n"
   ]
  },
  {
   "cell_type": "markdown",
   "metadata": {},
   "source": [
    "Let's get a count of how many production countries are involved in a production"
   ]
  },
  {
   "cell_type": "code",
   "execution_count": 59,
   "metadata": {},
   "outputs": [
    {
     "data": {
      "text/plain": [
       "pandas.core.series.Series"
      ]
     },
     "execution_count": 59,
     "metadata": {},
     "output_type": "execute_result"
    }
   ],
   "source": [
    "type(X_train.production_countries)"
   ]
  },
  {
   "cell_type": "code",
   "execution_count": 60,
   "metadata": {},
   "outputs": [
    {
     "data": {
      "text/plain": [
       "(26,)"
      ]
     },
     "execution_count": 60,
     "metadata": {},
     "output_type": "execute_result"
    }
   ],
   "source": [
    "X_train.production_countries.shape"
   ]
  },
  {
   "cell_type": "code",
   "execution_count": 61,
   "metadata": {},
   "outputs": [
    {
     "data": {
      "text/plain": [
       "'United Kingdom, United States of America'"
      ]
     },
     "execution_count": 61,
     "metadata": {},
     "output_type": "execute_result"
    }
   ],
   "source": [
    "X_train.production_countries[0]"
   ]
  },
  {
   "cell_type": "code",
   "execution_count": 142,
   "metadata": {},
   "outputs": [],
   "source": [
    "\n",
    "# Définir la fonction count_strings\n",
    "def count_strings(s):\n",
    "    \"\"\"\n",
    "    Cette fonction compte le nombre de sous-chaînes séparées par des virgules dans une chaîne donnée.\n",
    "    \n",
    "    Args:\n",
    "    - s (str): La chaîne de caractères à analyser.\n",
    "    \n",
    "    Returns:\n",
    "    - int: Le nombre de sous-chaînes, ou NaN si la chaîne est nulle.\n",
    "    \"\"\"\n",
    "    # Vérifier si la chaîne est nulle\n",
    "    if pd.isna(s):\n",
    "        return np.nan\n",
    "    \n",
    "    # Diviser la chaîne en fonction des virgules et compter le nombre de sous-chaînes obtenues\n",
    "    return len(s.split(','))\n",
    "\n"
   ]
  },
  {
   "cell_type": "code",
   "execution_count": 143,
   "metadata": {},
   "outputs": [],
   "source": [
    "# Appliquer la fonction count_strings à la colonne 'production_countries' du DataFrame\n",
    "X_train['production_countries_count'] = X_train['production_countries'].apply(count_strings)\n",
    "X_test['production_countries_count'] = X_test['production_countries'].apply(count_strings)\n",
    "X_valid['production_countries_count'] = X_valid['production_countries'].apply(count_strings)"
   ]
  },
  {
   "cell_type": "markdown",
   "metadata": {},
   "source": [
    "### Production Companies"
   ]
  },
  {
   "cell_type": "code",
   "execution_count": 65,
   "metadata": {},
   "outputs": [
    {
     "data": {
      "text/plain": [
       "34                 United States of America\n",
       "17    New Zealand, United States of America\n",
       "Name: production_countries, dtype: object"
      ]
     },
     "execution_count": 65,
     "metadata": {},
     "output_type": "execute_result"
    }
   ],
   "source": [
    "X_train.production_countries.iloc[:2]"
   ]
  },
  {
   "cell_type": "code",
   "execution_count": 144,
   "metadata": {},
   "outputs": [],
   "source": [
    "# Appliquer la fonction count_strings aux colonnes 'production_companies' et \"spoken_languages\" du DataFrame\n",
    "\n",
    "# take counts of each\n",
    "X_train['production_companies_count'] = X_train['production_companies'].apply(count_strings)\n",
    "X_train['spoken_languages_count'] = X_train['spoken_languages'].apply(count_strings)\n",
    "\n",
    "X_test['production_companies_count'] = X_test['production_companies'].apply(count_strings)\n",
    "X_test['spoken_languages_count'] = X_test['spoken_languages'].apply(count_strings)\n",
    "\n",
    "X_valid['production_companies_count'] = X_valid['production_companies'].apply(count_strings)\n",
    "X_valid['spoken_languages_count'] = X_valid['spoken_languages'].apply(count_strings)"
   ]
  },
  {
   "cell_type": "code",
   "execution_count": 67,
   "metadata": {},
   "outputs": [
    {
     "data": {
      "text/plain": [
       "(26,)"
      ]
     },
     "execution_count": 67,
     "metadata": {},
     "output_type": "execute_result"
    }
   ],
   "source": [
    "X_train.production_companies_count.shape"
   ]
  },
  {
   "cell_type": "markdown",
   "metadata": {},
   "source": [
    "## Keywords, cast, crew"
   ]
  },
  {
   "cell_type": "code",
   "execution_count": 69,
   "metadata": {},
   "outputs": [
    {
     "name": "stdout",
     "output_type": "stream",
     "text": [
      "joker, sadism, chaos, secret identity, crime fighter, superhero, anti hero, scarecrow, based on comic, vigilante, organized crime, tragic hero, anti villain, criminal mastermind, district attorney, super power, super villain, neo-noir \n",
      "\n",
      "Jonathan Nolan, Hans Zimmer, Wally Pfister, James Newton Howard, Christopher Nolan, Charles Roven, Emma Thomas, Christopher Nolan, David S. Goyer, Thomas Tull, Michael Uslan, Kevin De La Noy, Benjamin Melniker, Lee Smith, Nathan Crowley, Peter Lando, John Papsidera, Lindy Hemming, Mark Bartholomew, James Hambidge, Craig Jackson, Steven Lawrence, Naaman Marshall, Deena Adair, Sue Robb-King, John Caglione Jr., Nancy Hancock, Jenne Lee, Nicholas Gall, Lucinda Syson, Steve Gehrke, Richard M. Daley, Janice Alexander, Kevin Kavanaugh, Simon Lamont, Brad Dechter, Alyson Dee Moore, Dennis Davidson, Kimberley Spiteri, Stephen Vaughan, Alex Gibson, Daniel Pinder, Richard King, Richard King, Ed Novick, Lora Hirschberg, Gary Rizzo, Michael W. Mitchell, Michael Babcock, Bob Gorelick, Bob Gorelick, Tom Struthers, Paul Jennings, Rick LeFevour, Jim Wilkey, Mark Mottram, Lorne Orleans, Nilo Otero, Jeff Atmajian, Donald Likovich, Rick Avery, Tom McComas, Bruce Fowler, Bob Kane, Jordan Goldberg, Conor O'Sullivan, David E. Hall, Jim Boulden, Brian Christensen, Kevin Kaska, Mira Husseini, Bob Hall, Jessie Graff, David Orr, Michael Magill, Hugo Weng, Linda Folk, Doug Hemphill, Scott Wesley Ross, Jonathan Fawkner, Chris Corbould, Peter Robb-King, Rudra Banerji, David Gere, Christopher Nolan, Christopher Nolan, Brian Peters, Rebecca Steel Roven, Hamilton Sterling, Justo Dieguez, Deborah K. Dee, Alma Izquierdo, Jenny Sharpe, Patrick Caulfield, Lee Croucher, Dan Grace, Esther St John Gray, Brendan Handscombe, Gina Panno, Neal Callow, Phillis Lehmer, Fred M. Ortiz, Ashley Winter, François-Xavier Aubague, Pierre Buffin, Paul J. Franklin, Matthew Holben, Ian Hunter, Alain Lalanne, Lorna Paterson, David Sanger, Tim Webber, Heath Ledger, Jennifer Lamb, Sarah Franzl, Linda Perlin, Natalie M. Meyer, Marie Fink, Conway Wickliffe, Robert Stoneman, Daniel Wehr, Rob Bliss, Craig Lyn, Ben Shepherd \n",
      "\n",
      "Christian Bale, Heath Ledger, Michael Caine, Gary Oldman, Aaron Eckhart, Maggie Gyllenhaal, Morgan Freeman, Nestor Carbonell, Monique Gabriela Curnen, Ron Dean, Chin Han, Eric Roberts, Ritchie Coster, Anthony Michael Hall, Keith Szarabajka, Joshua Harto, Melinda McGraw, Nathan Gamble, Michael Jai White, Colin McFarlane, Nydia Rodriguez Terracina, Tommy Lister Jr., William Fichtner, Cillian Murphy, Patrick Leahy, Matt Skiba, David Dastmalchian, Michael Vieau, Michael Stoyanov, William Smillie, Danny Goldring, Matthew O'Neill, Olumiji Olawumi, Greg Beam, Erik Hellman, Beatrice Rosen, Vincenzo Nicoli, Edison Chen, Andy Luther, James Farruggio, Tom McElroy, Will Zahrn, James Fierro, Sam Derence, Jennifer Knox, Patrick Clear, Sarah Jayne Dunn, Charles Venn, Winston Ellis, Sophia Hinshelwood, Keith Kupferer, Joseph Luis Caballero, Richard Dillane, Daryl Satcher, Chris Petschler, Aidan Feore, Philip Bulcock, Paul Birchard, Walter Lewis, Vincent Riotta, Nancy Crane, K. Todd Freeman, Matt Shallenberger, Michael Andrew Gorman, Lanny Lutz, Peter DeFaria, Matt Rippy, Andrew Bicknell, Ariyon Bakare, Doug Ballard, Helene Maksoud, Tommy Campbell, Craig Heaney, Lorna Gayle, Lisa McAllister, Peter Brooke, Joshua Rollins, Dale Rivera, Matthew Leitch, Thomas Gaitsch, William Armstrong, Adam Kalesperis, Tristan Tait, Bronson Webb, David Ajala, Gertrude Kyles, Jonathan Ryland, James Scales, Nigel Carrington, Ian Pirie, Lateef Lovejoy, Grahame Edwards, Roger Monk, Ronan Summers, Wai Wong, Michael Corey Foster, Hannah Gunn, Jon Lee Brody, Debbi Burns, Maritza Cabrera, Shirin Caiola, Laura Chernicky, Henry Milton Chu, Kelli Clevenger, Richard Divizio, Tony Domino, David Fultz, Natalie Hallam, Jordon Hodges, Erron Jay, Nicky Katt, Thomas Kosik, Don Kress, Tim Krueger, Dan Latham, Tom McComas, James Mellor, Joseph Oliveira, Buster Reeves, Peter Rnic, Amit Shah, Michelle Shields, Sofiya Smirnova, Bruce Spielbauer, Robert Patrick Stern, Robert Stone, Richard Strobel, Tom Townsend, John Turk, John Warman, Chris Wilson, Kevin Zaideman, Rob Clark, Brandon Lambdin, Craig Braginsky, Mike Whyte, Tina Simmons, Rick Avery\n"
     ]
    }
   ],
   "source": [
    "print(Raw_df.Keywords[0],\"\\n\") # on retourne ici la valeur associé à name dans belongs_to_collection dans Raw_dfOld \n",
    "print(Raw_df.crew[0],\"\\n\")\n",
    "print(Raw_df.cast[0])\n"
   ]
  },
  {
   "cell_type": "code",
   "execution_count": 70,
   "metadata": {},
   "outputs": [],
   "source": [
    "# number of keywords\n",
    "X_train['keyword_count'] = X_train['Keywords'].apply(count_strings)\n",
    "X_test['keyword_count'] = X_test['Keywords'].apply(count_strings)\n",
    "X_valid['keyword_count'] = X_valid['Keywords'].apply(count_strings)"
   ]
  },
  {
   "cell_type": "code",
   "execution_count": 146,
   "metadata": {},
   "outputs": [],
   "source": [
    "# count of crew\n",
    "X_train['crew_count'] = X_train['crew'].apply(count_strings)\n",
    "X_test['crew_count'] = X_test['crew'].apply(count_strings)\n",
    "X_valid['crew_count'] = X_valid['crew'].apply(count_strings)\n"
   ]
  },
  {
   "cell_type": "code",
   "execution_count": 147,
   "metadata": {},
   "outputs": [],
   "source": [
    "# count of cast members\n",
    "X_train['cast_count'] = X_train['cast'].apply(count_strings)\n",
    "X_test['cast_count'] = X_test['cast'].apply(count_strings)\n",
    "X_valid['cast_count'] = X_valid['cast'].apply(count_strings)\n"
   ]
  },
  {
   "cell_type": "code",
   "execution_count": 73,
   "metadata": {},
   "outputs": [
    {
     "data": {
      "text/plain": [
       "(0, 0, 0)"
      ]
     },
     "execution_count": 73,
     "metadata": {},
     "output_type": "execute_result"
    }
   ],
   "source": [
    "X_train.runtime.isna().sum(),X_test.runtime.isna().sum(),X_valid.runtime.isna().sum()"
   ]
  },
  {
   "cell_type": "code",
   "execution_count": 74,
   "metadata": {},
   "outputs": [],
   "source": [
    "X_train.runtime = X_train.runtime.fillna(0) # two null values here\n",
    "X_test.runtime = X_test.runtime.fillna(0) \n",
    "X_valid.runtime = X_valid.runtime.fillna(0) "
   ]
  },
  {
   "cell_type": "markdown",
   "metadata": {},
   "source": [
    "## Fixing Release Date\n",
    "    \"la date de sortie prévue ou de la date de publication d'un produit ou d'un service.\""
   ]
  },
  {
   "cell_type": "code",
   "execution_count": 75,
   "metadata": {},
   "outputs": [
    {
     "data": {
      "text/plain": [
       "(0, 0, 0)"
      ]
     },
     "execution_count": 75,
     "metadata": {},
     "output_type": "execute_result"
    }
   ],
   "source": [
    "X_train.release_date.isnull().sum(),X_test.release_date.isnull().sum(),X_valid.release_date.isnull().sum()\n",
    "\n"
   ]
  },
  {
   "cell_type": "raw",
   "metadata": {},
   "source": [
    "# fill the one null value with a random date\n",
    "X_train['release_date'] = X_train['release_date'].fillna('7/14/07')\n",
    "X_test['release_date'] = X_test['release_date'].fillna('7/14/07')\n",
    "X_valid['release_date'] = X_valid['release_date'].fillna('7/14/07')\n",
    "\n"
   ]
  },
  {
   "cell_type": "code",
   "execution_count": 50,
   "metadata": {},
   "outputs": [
    {
     "data": {
      "text/plain": [
       "0"
      ]
     },
     "execution_count": 50,
     "metadata": {},
     "output_type": "execute_result"
    }
   ],
   "source": [
    "X_test.release_date.isnull().sum()"
   ]
  },
  {
   "cell_type": "code",
   "execution_count": 148,
   "metadata": {},
   "outputs": [],
   "source": [
    "train=X_train.copy()\n",
    "val=X_valid.copy()\n",
    "test=X_test.copy()"
   ]
  },
  {
   "cell_type": "code",
   "execution_count": 181,
   "metadata": {},
   "outputs": [],
   "source": [
    "X_train=train.copy()\n",
    "X_valid=val.copy()\n",
    "X_test=test.copy()"
   ]
  },
  {
   "cell_type": "code",
   "execution_count": 182,
   "metadata": {},
   "outputs": [
    {
     "data": {
      "text/plain": [
       "(2008, '2009-08-19', '2001-12-18')"
      ]
     },
     "execution_count": 182,
     "metadata": {},
     "output_type": "execute_result"
    }
   ],
   "source": [
    "int(X_train.release_date[0][:4]),X_test.release_date[28],X_valid.release_date[17]"
   ]
  },
  {
   "cell_type": "code",
   "execution_count": 183,
   "metadata": {},
   "outputs": [],
   "source": [
    "def datefix(x):\n",
    "    return int(x[:4])"
   ]
  },
  {
   "cell_type": "code",
   "execution_count": 184,
   "metadata": {},
   "outputs": [],
   "source": [
    "# Train\n",
    "\n",
    "X_train['release_year'] = X_train['release_date'].apply(lambda x: datefix(x))\n",
    "\n",
    "\n",
    "# Test\n",
    "\n",
    "X_test['release_year'] = X_test['release_date'].apply(lambda x: datefix(x))\n",
    "\n",
    "# Validation\n",
    "\n",
    "X_valid['release_year'] = X_valid['release_date'].apply(lambda x: datefix(x))"
   ]
  },
  {
   "cell_type": "code",
   "execution_count": 185,
   "metadata": {},
   "outputs": [
    {
     "data": {
      "text/plain": [
       "17    2001\n",
       "Name: release_year, dtype: int64"
      ]
     },
     "execution_count": 185,
     "metadata": {},
     "output_type": "execute_result"
    }
   ],
   "source": []
  },
  {
   "cell_type": "code",
   "execution_count": 186,
   "metadata": {},
   "outputs": [],
   "source": [
    "def Monthfix(x):\n",
    "    return int(x[5:7])"
   ]
  },
  {
   "cell_type": "code",
   "execution_count": 187,
   "metadata": {},
   "outputs": [],
   "source": [
    "# Train\n",
    "\n",
    "X_train['release_month'] = X_train['release_date'].apply(lambda x: Monthfix(x))\n",
    "\n",
    "\n",
    "# Test\n",
    "\n",
    "X_test['release_month'] = X_test['release_date'].apply(lambda x: Monthfix(x))\n",
    "\n",
    "# Validation\n",
    "\n",
    "X_valid['release_month'] = X_valid['release_date'].apply(lambda x: Monthfix(x))"
   ]
  },
  {
   "cell_type": "code",
   "execution_count": 188,
   "metadata": {},
   "outputs": [
    {
     "data": {
      "text/plain": [
       "28     8\n",
       "25     2\n",
       "37     4\n",
       "3      2\n",
       "33    12\n",
       "Name: release_month, dtype: int64"
      ]
     },
     "execution_count": 188,
     "metadata": {},
     "output_type": "execute_result"
    }
   ],
   "source": [
    "X_test.release_month"
   ]
  },
  {
   "cell_type": "code",
   "execution_count": 196,
   "metadata": {},
   "outputs": [
    {
     "data": {
      "text/plain": [
       "Index(['spoken_languages', 'belongs_to_collection', 'genres', 'id',\n",
       "       'production_countries', 'imdb_id', 'crew', 'original_title',\n",
       "       'original_language', 'popularity', 'runtime', 'budget', 'tagline',\n",
       "       'homepage', 'production_companies', 'status', 'cast', 'title',\n",
       "       'overview', 'Keywords', 'poster_path', 'release_date', 'genre_Action',\n",
       "       'genre_Adventure', 'genre_Comedy', 'genre_Crime', 'genre_Drama',\n",
       "       'genre_Fantasy', 'genre_Mystery', 'genre_Romance',\n",
       "       'genre_Science_Fiction', 'genre_Thriller', 'genre_War', 'has_homepage',\n",
       "       'released', 'production_countries_count', 'production_companies_count',\n",
       "       'spoken_languages_count', 'crew_count', 'cast_count', 'release_year',\n",
       "       'release_month', 'keyword_count'],\n",
       "      dtype='object')"
      ]
     },
     "execution_count": 196,
     "metadata": {},
     "output_type": "execute_result"
    }
   ],
   "source": [
    "X_train.columns"
   ]
  },
  {
   "cell_type": "code",
   "execution_count": 195,
   "metadata": {},
   "outputs": [],
   "source": [
    "# number of keywords\n",
    "X_train['keyword_count'] = X_train['Keywords'].apply(count_strings)\n",
    "X_test['keyword_count'] = X_test['Keywords'].apply(count_strings)\n",
    "X_valid['keyword_count'] = X_valid['Keywords'].apply(count_strings)"
   ]
  },
  {
   "cell_type": "code",
   "execution_count": 190,
   "metadata": {},
   "outputs": [
    {
     "data": {
      "text/plain": [
       "((26,), 26)"
      ]
     },
     "execution_count": 190,
     "metadata": {},
     "output_type": "execute_result"
    }
   ],
   "source": [
    "y_train.shape,X_train.shape[0]"
   ]
  },
  {
   "cell_type": "code",
   "execution_count": 194,
   "metadata": {},
   "outputs": [
    {
     "data": {
      "text/plain": [
       "'English, Mandarin'"
      ]
     },
     "execution_count": 194,
     "metadata": {},
     "output_type": "execute_result"
    }
   ],
   "source": [
    "X_train.spoken_languages[0]"
   ]
  },
  {
   "cell_type": "code",
   "execution_count": 201,
   "metadata": {},
   "outputs": [],
   "source": [
    "col_to_drop=set([\"spoken_languages\",\"title\",\"imdb_id\",\"runtime\",\"original_language\",\"tagline\",\"id\",\"overview\",\"poster_path\",\"original_title\",\"\",\"genres\",'id',\n",
    "       'production_countries', 'imdb_id', 'crew', 'original_title',\n",
    "       'original_language','homepage', 'production_companies', 'status', 'cast', 'title',\n",
    "       'overview', 'Keywords', 'poster_path', 'release_date'])\n",
    "final_col_to_keep=list(set(X_train.columns).difference(col_to_drop))"
   ]
  },
  {
   "cell_type": "code",
   "execution_count": 202,
   "metadata": {},
   "outputs": [
    {
     "data": {
      "text/plain": [
       "['genre_Fantasy',\n",
       " 'released',\n",
       " 'belongs_to_collection',\n",
       " 'genre_Comedy',\n",
       " 'genre_Action',\n",
       " 'genre_Science_Fiction',\n",
       " 'release_year',\n",
       " 'production_companies_count',\n",
       " 'genre_Adventure',\n",
       " 'crew_count',\n",
       " 'genre_Romance',\n",
       " 'has_homepage',\n",
       " 'spoken_languages_count',\n",
       " 'popularity',\n",
       " 'budget',\n",
       " 'genre_Drama',\n",
       " 'genre_Mystery',\n",
       " 'cast_count',\n",
       " 'release_month',\n",
       " 'keyword_count',\n",
       " 'production_countries_count',\n",
       " 'genre_Crime',\n",
       " 'genre_War',\n",
       " 'genre_Thriller']"
      ]
     },
     "execution_count": 202,
     "metadata": {},
     "output_type": "execute_result"
    }
   ],
   "source": [
    "final_col_to_keep"
   ]
  },
  {
   "cell_type": "code",
   "execution_count": 199,
   "metadata": {},
   "outputs": [],
   "source": [
    "## apply Log function to features durint the preprocessing\n",
    "class Log1pTransformer(BaseEstimator, TransformerMixin):\n",
    "    def __init__(self, features=None):\n",
    "        self.features = features\n",
    "        \n",
    "    def fit(self, X, y=None):\n",
    "        return self\n",
    "    \n",
    "    def transform(self, X):\n",
    "        return np.log1p(X)"
   ]
  },
  {
   "cell_type": "markdown",
   "metadata": {},
   "source": [
    "# Pipeline"
   ]
  },
  {
   "cell_type": "markdown",
   "metadata": {},
   "source": [
    "<img src=\"images/Pipeline2.png\">\n"
   ]
  },
  {
   "cell_type": "raw",
   "metadata": {},
   "source": [
    "Pipeline: C'est un outil puissant de scikit-learn qui permet de chaîner plusieurs étapes \n",
    "de traitement des données ensemble de manière séquentielle\n"
   ]
  },
  {
   "cell_type": "code",
   "execution_count": 200,
   "metadata": {},
   "outputs": [],
   "source": [
    "# Séquence à rechercher\n",
    "sequence = 'genre_'\n",
    "\n",
    "# Filtrer les éléments de la liste qui commencent par la séquence\n",
    "genre_column_names = [element for element in final_col_to_keep if element.startswith(sequence)]"
   ]
  },
  {
   "cell_type": "code",
   "execution_count": 208,
   "metadata": {},
   "outputs": [],
   "source": [
    "from sklearn.feature_extraction.text import HashingVectorizer\n",
    "\n",
    "\n",
    "log_num_feats = [\"budget\", \"popularity\"]\n",
    "# num_feats = [\"runtime\"] not required, will explore later\n",
    "#date_feats = ['release_date' , \"release_month\"]\n",
    "cat_feats =['has_homepage', 'released']  #\n",
    "\n",
    "encode_feats=genre_column_names\n",
    "\n",
    "\n",
    "hash_feats = ['production_countries_count', 'production_companies_count', 'spoken_languages_count',\n",
    "             'keyword_count', 'cast_count', 'crew_count']\n",
    "\n",
    "\n",
    "\n",
    "\n",
    "log_pipe = Pipeline([\n",
    "    ('imputer', SimpleImputer(missing_values=np.nan, strategy='median')),\n",
    "    ('logger', Log1pTransformer()),\n",
    "    #('scaler', StandardScaler()) # might delete later - just a test\n",
    "])\n",
    "\n",
    "\n",
    "# num_pipeline = Pipeline ([\n",
    "#     ('imputer', SimpleImputer(strategy='median'),\n",
    "#     ('scaler', StandardScaler()))\n",
    "# ])\n",
    "\n",
    "date_pipeline = Pipeline ([\n",
    "     ('imputer', SimpleImputer(missing_values=np.nan, strategy='median'))\n",
    "])\n",
    "\n",
    "\n",
    "cat_pipeline = Pipeline([\n",
    "        ('imputer', SimpleImputer(strategy='most_frequent')),\n",
    "      #  ('ohe', OneHotEncoder(sparse=False, handle_unknown=\"ignore\"))\n",
    "])\n",
    "\n",
    "\n",
    "encode_pipeline = Pipeline([\n",
    "        ('imputer', SimpleImputer(strategy='most_frequent')),\n",
    "])\n",
    "\n",
    "\n",
    "hash_pipe = Pipeline([\n",
    "    ('imputer', SimpleImputer(strategy='most_frequent'))\n",
    "])\n",
    "\n",
    "\n",
    "data_pipeline = ColumnTransformer([\n",
    "    # name, pipeline, features\n",
    "    ('log_num_feats', log_pipe, log_num_feats),\n",
    "    # ('numerical_feats', num_pipeline, num_feats),\n",
    "    \n",
    "    ('cat_feats', cat_pipeline, cat_feats),('encode_feats', encode_pipeline, encode_feats),\n",
    "    \n",
    "('hash_feats', hash_pipe, hash_feats)\n",
    "],remainder='drop', #passthrough or drop?\n",
    "n_jobs=-1\n",
    "    )\n",
    "\n",
    "\n",
    "# ('date_feats', date_pipeline, date_feats),"
   ]
  },
  {
   "cell_type": "code",
   "execution_count": 209,
   "metadata": {},
   "outputs": [],
   "source": [
    "col=log_num_feats+cat_feats+encode_feats+hash_feats"
   ]
  },
  {
   "cell_type": "code",
   "execution_count": 210,
   "metadata": {},
   "outputs": [
    {
     "data": {
      "text/plain": [
       "0"
      ]
     },
     "execution_count": 210,
     "metadata": {},
     "output_type": "execute_result"
    }
   ],
   "source": [
    "X_train[col].isna().sum().sum()"
   ]
  },
  {
   "cell_type": "code",
   "execution_count": 211,
   "metadata": {},
   "outputs": [
    {
     "data": {
      "text/plain": [
       "budget                          int64\n",
       "popularity                    float64\n",
       "has_homepage                    int64\n",
       "released                        int64\n",
       "genre_Fantasy                   int64\n",
       "genre_Comedy                    int64\n",
       "genre_Action                    int64\n",
       "genre_Science_Fiction           int64\n",
       "genre_Adventure                 int64\n",
       "genre_Romance                   int64\n",
       "genre_Drama                     int64\n",
       "genre_Mystery                   int64\n",
       "genre_Crime                     int64\n",
       "genre_War                       int64\n",
       "genre_Thriller                  int64\n",
       "production_countries_count      int64\n",
       "production_companies_count      int64\n",
       "spoken_languages_count          int64\n",
       "keyword_count                   int64\n",
       "cast_count                      int64\n",
       "crew_count                      int64\n",
       "dtype: object"
      ]
     },
     "execution_count": 211,
     "metadata": {},
     "output_type": "execute_result"
    }
   ],
   "source": [
    "X_train[col].dtypes"
   ]
  },
  {
   "cell_type": "code",
   "execution_count": 212,
   "metadata": {},
   "outputs": [],
   "source": [
    "X_Train = X_train[col].fillna(X_train[col].median())\n",
    "X_Test = X_test[col].fillna(X_test[col].median())\n",
    "X_Val = X_valid[col].fillna(X_valid[col].median())\n"
   ]
  },
  {
   "cell_type": "raw",
   "metadata": {},
   "source": [
    "X_train[\"release_date\"] = pd.to_datetime(X_train[\"release_date\"], format='%m/%d/%y')"
   ]
  },
  {
   "cell_type": "code",
   "execution_count": 213,
   "metadata": {},
   "outputs": [],
   "source": [
    "df_train_processed = data_pipeline.fit_transform(X_Train)"
   ]
  },
  {
   "cell_type": "code",
   "execution_count": 85,
   "metadata": {},
   "outputs": [],
   "source": [
    "#genre_column_names\n",
    "#X_train[genre_column_names]"
   ]
  },
  {
   "cell_type": "code",
   "execution_count": 214,
   "metadata": {},
   "outputs": [],
   "source": [
    "X_std = data_pipeline.fit_transform(X_Train)\n",
    "#model = data_pipeline.fit_transform(X)"
   ]
  },
  {
   "cell_type": "code",
   "execution_count": 215,
   "metadata": {},
   "outputs": [],
   "source": [
    "y_std = np.log1p(y_train)"
   ]
  },
  {
   "cell_type": "code",
   "execution_count": 216,
   "metadata": {},
   "outputs": [],
   "source": [
    "X_train, X_test, y_train, y_test = train_test_split(X_std, y_std, test_size=0.1, random_state=27)"
   ]
  },
  {
   "cell_type": "markdown",
   "metadata": {},
   "source": [
    "# Modeling"
   ]
  },
  {
   "cell_type": "code",
   "execution_count": 217,
   "metadata": {},
   "outputs": [],
   "source": [
    "from sklearn.linear_model import LinearRegression\n",
    "from sklearn.neighbors import KNeighborsRegressor\n",
    "models = {'linear': LinearRegression(),\n",
    "         'kn': KNeighborsRegressor()}"
   ]
  },
  {
   "cell_type": "code",
   "execution_count": 218,
   "metadata": {},
   "outputs": [],
   "source": [
    "def mean_absolute_percentage_error(y_test, y_pred): \n",
    "    y_test, y_pred = np.array(y_test), np.array(y_pred)\n",
    "    return np.mean(np.abs((y_test - y_pred) / y_test)) * 100\n",
    "results = pd.DataFrame(columns=[\"ExpID\", \"Train RMSLE\", \"Test RMSLE\",\"Dollars Over\", \"Train Time(s)\", \"Experiment description\"])\n",
    "def rmsle(y, y_pred):\n",
    "    return np.sqrt(mean_squared_error(y, y_pred))\n",
    "\n",
    "def get_results(model, X, y, X_test, y_test, name='model_name', desc='experiment'):\n",
    "    start = time()\n",
    "    model.fit(X, y)\n",
    "    y_pred = model.predict(X)\n",
    "    train_rmsle = np.sqrt(((y_pred-y)**2).mean())\n",
    "    y_pred_test = model.predict(X_test)\n",
    "    test_rmsle = np.sqrt(((y_pred_test-y_test)**2).mean())\n",
    "    dollarsover= test_rmsle*1000000000\n",
    "    train_time = np.round(time() - start, 4)\n",
    "    results.loc[results.shape[0]+1] = [name, np.round(train_rmsle,2), np.round(test_rmsle,2),np.round(dollarsover), train_time, desc]\n",
    "    "
   ]
  },
  {
   "cell_type": "code",
   "execution_count": 219,
   "metadata": {},
   "outputs": [
    {
     "data": {
      "text/html": [
       "<div>\n",
       "<style scoped>\n",
       "    .dataframe tbody tr th:only-of-type {\n",
       "        vertical-align: middle;\n",
       "    }\n",
       "\n",
       "    .dataframe tbody tr th {\n",
       "        vertical-align: top;\n",
       "    }\n",
       "\n",
       "    .dataframe thead th {\n",
       "        text-align: right;\n",
       "    }\n",
       "</style>\n",
       "<table border=\"1\" class=\"dataframe\">\n",
       "  <thead>\n",
       "    <tr style=\"text-align: right;\">\n",
       "      <th></th>\n",
       "      <th>ExpID</th>\n",
       "      <th>Train RMSLE</th>\n",
       "      <th>Test RMSLE</th>\n",
       "      <th>Dollars Over</th>\n",
       "      <th>Train Time(s)</th>\n",
       "      <th>Experiment description</th>\n",
       "    </tr>\n",
       "  </thead>\n",
       "  <tbody>\n",
       "    <tr>\n",
       "      <th>1</th>\n",
       "      <td>Initial Search</td>\n",
       "      <td>0.10</td>\n",
       "      <td>1.17</td>\n",
       "      <td>1.171937e+09</td>\n",
       "      <td>0.0058</td>\n",
       "      <td>Untuned linear</td>\n",
       "    </tr>\n",
       "    <tr>\n",
       "      <th>2</th>\n",
       "      <td>Initial Search</td>\n",
       "      <td>0.71</td>\n",
       "      <td>0.90</td>\n",
       "      <td>8.957458e+08</td>\n",
       "      <td>0.1527</td>\n",
       "      <td>Untuned kn</td>\n",
       "    </tr>\n",
       "  </tbody>\n",
       "</table>\n",
       "</div>"
      ],
      "text/plain": [
       "            ExpID  Train RMSLE  Test RMSLE  Dollars Over  Train Time(s)  \\\n",
       "1  Initial Search         0.10        1.17  1.171937e+09         0.0058   \n",
       "2  Initial Search         0.71        0.90  8.957458e+08         0.1527   \n",
       "\n",
       "  Experiment description  \n",
       "1         Untuned linear  \n",
       "2             Untuned kn  "
      ]
     },
     "metadata": {},
     "output_type": "display_data"
    }
   ],
   "source": [
    "for name, model in models.items():\n",
    "    get_results(model, X_train, y_train, X_test, y_test, 'Initial Search', 'Untuned ' + name)\n",
    "\n",
    "display(results)"
   ]
  },
  {
   "cell_type": "code",
   "execution_count": 220,
   "metadata": {},
   "outputs": [],
   "source": [
    "from sklearn.metrics import make_scorer\n",
    "# define custom scorer\n",
    "def rmsle(y_true, y_pred):\n",
    "    rmsle = np.sqrt(((np.log1p(y_true)-np.log1p(y_pred))**2).mean())\n",
    "    return rmsle\n",
    "\n",
    "scorer = make_scorer(rmsle)\n"
   ]
  },
  {
   "cell_type": "markdown",
   "metadata": {},
   "source": [
    "# Evaluation, reporting and analysis"
   ]
  },
  {
   "cell_type": "code",
   "execution_count": 222,
   "metadata": {},
   "outputs": [
    {
     "name": "stdout",
     "output_type": "stream",
     "text": [
      "Fitting 2 folds for each of 162 candidates, totalling 324 fits\n"
     ]
    },
    {
     "name": "stderr",
     "output_type": "stream",
     "text": [
      "/opt/mamba/lib/python3.11/site-packages/xgboost/core.py:160: UserWarning: [18:29:30] WARNING: /home/conda/feedstock_root/build_artifacts/xgboost-split_1705649946806/work/src/learner.cc:742: \n",
      "Parameters: { \"silent\" } are not used.\n",
      "\n",
      "  warnings.warn(smsg, UserWarning)\n",
      "/opt/mamba/lib/python3.11/site-packages/xgboost/core.py:160: UserWarning: [18:29:30] WARNING: /home/conda/feedstock_root/build_artifacts/xgboost-split_1705649946806/work/src/learner.cc:742: \n",
      "Parameters: { \"silent\" } are not used.\n",
      "\n",
      "  warnings.warn(smsg, UserWarning)\n",
      "/opt/mamba/lib/python3.11/site-packages/xgboost/core.py:160: UserWarning: [18:29:30] WARNING: /home/conda/feedstock_root/build_artifacts/xgboost-split_1705649946806/work/src/learner.cc:742: \n",
      "Parameters: { \"silent\" } are not used.\n",
      "\n",
      "  warnings.warn(smsg, UserWarning)\n",
      "/opt/mamba/lib/python3.11/site-packages/xgboost/core.py:160: UserWarning: [18:29:30] WARNING: /home/conda/feedstock_root/build_artifacts/xgboost-split_1705649946806/work/src/learner.cc:742: \n",
      "Parameters: { \"silent\" } are not used.\n",
      "\n",
      "  warnings.warn(smsg, UserWarning)\n",
      "/opt/mamba/lib/python3.11/site-packages/xgboost/core.py:160: UserWarning: [18:29:30] WARNING: /home/conda/feedstock_root/build_artifacts/xgboost-split_1705649946806/work/src/learner.cc:742: \n",
      "Parameters: { \"silent\" } are not used.\n",
      "\n",
      "  warnings.warn(smsg, UserWarning)\n",
      "/opt/mamba/lib/python3.11/site-packages/xgboost/core.py:160: UserWarning: [18:29:30] WARNING: /home/conda/feedstock_root/build_artifacts/xgboost-split_1705649946806/work/src/learner.cc:742: \n",
      "Parameters: { \"silent\" } are not used.\n",
      "\n",
      "  warnings.warn(smsg, UserWarning)\n",
      "/opt/mamba/lib/python3.11/site-packages/xgboost/core.py:160: UserWarning: [18:29:30] WARNING: /home/conda/feedstock_root/build_artifacts/xgboost-split_1705649946806/work/src/learner.cc:742: \n",
      "Parameters: { \"silent\" } are not used.\n",
      "\n",
      "  warnings.warn(smsg, UserWarning)\n",
      "/opt/mamba/lib/python3.11/site-packages/xgboost/core.py:160: UserWarning: [18:29:30] WARNING: /home/conda/feedstock_root/build_artifacts/xgboost-split_1705649946806/work/src/learner.cc:742: \n",
      "Parameters: { \"silent\" } are not used.\n",
      "\n",
      "  warnings.warn(smsg, UserWarning)\n",
      "/opt/mamba/lib/python3.11/site-packages/xgboost/core.py:160: UserWarning: [18:29:30] WARNING: /home/conda/feedstock_root/build_artifacts/xgboost-split_1705649946806/work/src/learner.cc:742: \n",
      "Parameters: { \"silent\" } are not used.\n",
      "\n",
      "  warnings.warn(smsg, UserWarning)\n",
      "/opt/mamba/lib/python3.11/site-packages/xgboost/core.py:160: UserWarning: [18:29:30] WARNING: /home/conda/feedstock_root/build_artifacts/xgboost-split_1705649946806/work/src/learner.cc:742: \n",
      "Parameters: { \"silent\" } are not used.\n",
      "\n",
      "  warnings.warn(smsg, UserWarning)\n",
      "/opt/mamba/lib/python3.11/site-packages/xgboost/core.py:160: UserWarning: [18:29:30] WARNING: /home/conda/feedstock_root/build_artifacts/xgboost-split_1705649946806/work/src/learner.cc:742: \n",
      "Parameters: { \"silent\" } are not used.\n",
      "\n",
      "  warnings.warn(smsg, UserWarning)\n",
      "/opt/mamba/lib/python3.11/site-packages/xgboost/core.py:160: UserWarning: [18:29:30] WARNING: /home/conda/feedstock_root/build_artifacts/xgboost-split_1705649946806/work/src/learner.cc:742: \n",
      "Parameters: { \"silent\" } are not used.\n",
      "\n",
      "  warnings.warn(smsg, UserWarning)\n",
      "/opt/mamba/lib/python3.11/site-packages/xgboost/core.py:160: UserWarning: [18:29:30] WARNING: /home/conda/feedstock_root/build_artifacts/xgboost-split_1705649946806/work/src/learner.cc:742: \n",
      "Parameters: { \"silent\" } are not used.\n",
      "\n",
      "  warnings.warn(smsg, UserWarning)\n",
      "/opt/mamba/lib/python3.11/site-packages/xgboost/core.py:160: UserWarning: [18:29:30] WARNING: /home/conda/feedstock_root/build_artifacts/xgboost-split_1705649946806/work/src/learner.cc:742: \n",
      "Parameters: { \"silent\" } are not used.\n",
      "\n",
      "  warnings.warn(smsg, UserWarning)\n",
      "/opt/mamba/lib/python3.11/site-packages/xgboost/core.py:160: UserWarning: [18:29:30] WARNING: /home/conda/feedstock_root/build_artifacts/xgboost-split_1705649946806/work/src/learner.cc:742: \n",
      "Parameters: { \"silent\" } are not used.\n",
      "\n",
      "  warnings.warn(smsg, UserWarning)\n",
      "/opt/mamba/lib/python3.11/site-packages/xgboost/core.py:160: UserWarning: [18:29:30] WARNING: /home/conda/feedstock_root/build_artifacts/xgboost-split_1705649946806/work/src/learner.cc:742: \n",
      "Parameters: { \"silent\" } are not used.\n",
      "\n",
      "  warnings.warn(smsg, UserWarning)\n",
      "/opt/mamba/lib/python3.11/site-packages/xgboost/core.py:160: UserWarning: [18:29:30] WARNING: /home/conda/feedstock_root/build_artifacts/xgboost-split_1705649946806/work/src/learner.cc:742: \n",
      "Parameters: { \"silent\" } are not used.\n",
      "\n",
      "  warnings.warn(smsg, UserWarning)\n",
      "/opt/mamba/lib/python3.11/site-packages/xgboost/core.py:160: UserWarning: [18:29:30] WARNING: /home/conda/feedstock_root/build_artifacts/xgboost-split_1705649946806/work/src/learner.cc:742: \n",
      "Parameters: { \"silent\" } are not used.\n",
      "\n",
      "  warnings.warn(smsg, UserWarning)\n",
      "/opt/mamba/lib/python3.11/site-packages/xgboost/core.py:160: UserWarning: [18:29:30] WARNING: /home/conda/feedstock_root/build_artifacts/xgboost-split_1705649946806/work/src/learner.cc:742: \n",
      "Parameters: { \"silent\" } are not used.\n",
      "\n",
      "  warnings.warn(smsg, UserWarning)\n",
      "/opt/mamba/lib/python3.11/site-packages/xgboost/core.py:160: UserWarning: [18:29:30] WARNING: /home/conda/feedstock_root/build_artifacts/xgboost-split_1705649946806/work/src/learner.cc:742: \n",
      "Parameters: { \"silent\" } are not used.\n",
      "\n",
      "  warnings.warn(smsg, UserWarning)\n",
      "/opt/mamba/lib/python3.11/site-packages/xgboost/core.py:160: UserWarning: [18:29:30] WARNING: /home/conda/feedstock_root/build_artifacts/xgboost-split_1705649946806/work/src/learner.cc:742: \n",
      "Parameters: { \"silent\" } are not used.\n",
      "\n",
      "  warnings.warn(smsg, UserWarning)\n",
      "/opt/mamba/lib/python3.11/site-packages/xgboost/core.py:160: UserWarning: [18:29:30] WARNING: /home/conda/feedstock_root/build_artifacts/xgboost-split_1705649946806/work/src/learner.cc:742: \n",
      "Parameters: { \"silent\" } are not used.\n",
      "\n",
      "  warnings.warn(smsg, UserWarning)\n",
      "/opt/mamba/lib/python3.11/site-packages/xgboost/core.py:160: UserWarning: [18:29:30] WARNING: /home/conda/feedstock_root/build_artifacts/xgboost-split_1705649946806/work/src/learner.cc:742: \n",
      "Parameters: { \"silent\" } are not used.\n",
      "\n",
      "  warnings.warn(smsg, UserWarning)\n",
      "/opt/mamba/lib/python3.11/site-packages/xgboost/core.py:160: UserWarning: [18:29:30] WARNING: /home/conda/feedstock_root/build_artifacts/xgboost-split_1705649946806/work/src/learner.cc:742: \n",
      "Parameters: { \"silent\" } are not used.\n",
      "\n",
      "  warnings.warn(smsg, UserWarning)\n",
      "/opt/mamba/lib/python3.11/site-packages/xgboost/core.py:160: UserWarning: [18:29:30] WARNING: /home/conda/feedstock_root/build_artifacts/xgboost-split_1705649946806/work/src/learner.cc:742: \n",
      "Parameters: { \"silent\" } are not used.\n",
      "\n",
      "  warnings.warn(smsg, UserWarning)\n",
      "/opt/mamba/lib/python3.11/site-packages/xgboost/core.py:160: UserWarning: [18:29:30] WARNING: /home/conda/feedstock_root/build_artifacts/xgboost-split_1705649946806/work/src/learner.cc:742: \n",
      "Parameters: { \"silent\" } are not used.\n",
      "\n",
      "  warnings.warn(smsg, UserWarning)\n",
      "/opt/mamba/lib/python3.11/site-packages/xgboost/core.py:160: UserWarning: [18:29:30] WARNING: /home/conda/feedstock_root/build_artifacts/xgboost-split_1705649946806/work/src/learner.cc:742: \n",
      "Parameters: { \"silent\" } are not used.\n",
      "\n",
      "  warnings.warn(smsg, UserWarning)\n",
      "/opt/mamba/lib/python3.11/site-packages/xgboost/core.py:160: UserWarning: [18:29:30] WARNING: /home/conda/feedstock_root/build_artifacts/xgboost-split_1705649946806/work/src/learner.cc:742: \n",
      "Parameters: { \"silent\" } are not used.\n",
      "\n",
      "  warnings.warn(smsg, UserWarning)\n",
      "/opt/mamba/lib/python3.11/site-packages/xgboost/core.py:160: UserWarning: [18:29:30] WARNING: /home/conda/feedstock_root/build_artifacts/xgboost-split_1705649946806/work/src/learner.cc:742: \n",
      "Parameters: { \"silent\" } are not used.\n",
      "\n",
      "  warnings.warn(smsg, UserWarning)\n",
      "/opt/mamba/lib/python3.11/site-packages/xgboost/core.py:160: UserWarning: [18:29:30] WARNING: /home/conda/feedstock_root/build_artifacts/xgboost-split_1705649946806/work/src/learner.cc:742: \n",
      "Parameters: { \"silent\" } are not used.\n",
      "\n",
      "  warnings.warn(smsg, UserWarning)\n",
      "/opt/mamba/lib/python3.11/site-packages/xgboost/core.py:160: UserWarning: [18:29:30] WARNING: /home/conda/feedstock_root/build_artifacts/xgboost-split_1705649946806/work/src/learner.cc:742: \n",
      "Parameters: { \"silent\" } are not used.\n",
      "\n",
      "  warnings.warn(smsg, UserWarning)\n",
      "/opt/mamba/lib/python3.11/site-packages/xgboost/core.py:160: UserWarning: [18:29:30] WARNING: /home/conda/feedstock_root/build_artifacts/xgboost-split_1705649946806/work/src/learner.cc:742: \n",
      "Parameters: { \"silent\" } are not used.\n",
      "\n",
      "  warnings.warn(smsg, UserWarning)\n",
      "/opt/mamba/lib/python3.11/site-packages/xgboost/core.py:160: UserWarning: [18:29:30] WARNING: /home/conda/feedstock_root/build_artifacts/xgboost-split_1705649946806/work/src/learner.cc:742: \n",
      "Parameters: { \"silent\" } are not used.\n",
      "\n",
      "  warnings.warn(smsg, UserWarning)\n",
      "/opt/mamba/lib/python3.11/site-packages/xgboost/core.py:160: UserWarning: [18:29:30] WARNING: /home/conda/feedstock_root/build_artifacts/xgboost-split_1705649946806/work/src/learner.cc:742: \n",
      "Parameters: { \"silent\" } are not used.\n",
      "\n",
      "  warnings.warn(smsg, UserWarning)\n",
      "/opt/mamba/lib/python3.11/site-packages/xgboost/core.py:160: UserWarning: [18:29:30] WARNING: /home/conda/feedstock_root/build_artifacts/xgboost-split_1705649946806/work/src/learner.cc:742: \n",
      "Parameters: { \"silent\" } are not used.\n",
      "\n",
      "  warnings.warn(smsg, UserWarning)\n",
      "/opt/mamba/lib/python3.11/site-packages/xgboost/core.py:160: UserWarning: [18:29:30] WARNING: /home/conda/feedstock_root/build_artifacts/xgboost-split_1705649946806/work/src/learner.cc:742: \n",
      "Parameters: { \"silent\" } are not used.\n",
      "\n",
      "  warnings.warn(smsg, UserWarning)\n",
      "/opt/mamba/lib/python3.11/site-packages/xgboost/core.py:160: UserWarning: [18:29:30] WARNING: /home/conda/feedstock_root/build_artifacts/xgboost-split_1705649946806/work/src/learner.cc:742: \n",
      "Parameters: { \"silent\" } are not used.\n",
      "\n",
      "  warnings.warn(smsg, UserWarning)\n",
      "/opt/mamba/lib/python3.11/site-packages/xgboost/core.py:160: UserWarning: [18:29:30] WARNING: /home/conda/feedstock_root/build_artifacts/xgboost-split_1705649946806/work/src/learner.cc:742: \n",
      "Parameters: { \"silent\" } are not used.\n",
      "\n",
      "  warnings.warn(smsg, UserWarning)\n",
      "/opt/mamba/lib/python3.11/site-packages/xgboost/core.py:160: UserWarning: [18:29:30] WARNING: /home/conda/feedstock_root/build_artifacts/xgboost-split_1705649946806/work/src/learner.cc:742: \n",
      "Parameters: { \"silent\" } are not used.\n",
      "\n",
      "  warnings.warn(smsg, UserWarning)\n",
      "/opt/mamba/lib/python3.11/site-packages/xgboost/core.py:160: UserWarning: [18:29:30] WARNING: /home/conda/feedstock_root/build_artifacts/xgboost-split_1705649946806/work/src/learner.cc:742: \n",
      "Parameters: { \"silent\" } are not used.\n",
      "\n",
      "  warnings.warn(smsg, UserWarning)\n",
      "/opt/mamba/lib/python3.11/site-packages/xgboost/core.py:160: UserWarning: [18:29:30] WARNING: /home/conda/feedstock_root/build_artifacts/xgboost-split_1705649946806/work/src/learner.cc:742: \n",
      "Parameters: { \"silent\" } are not used.\n",
      "\n",
      "  warnings.warn(smsg, UserWarning)\n",
      "/opt/mamba/lib/python3.11/site-packages/xgboost/core.py:160: UserWarning: [18:29:30] WARNING: /home/conda/feedstock_root/build_artifacts/xgboost-split_1705649946806/work/src/learner.cc:742: \n",
      "Parameters: { \"silent\" } are not used.\n",
      "\n",
      "  warnings.warn(smsg, UserWarning)\n",
      "/opt/mamba/lib/python3.11/site-packages/xgboost/core.py:160: UserWarning: [18:29:30] WARNING: /home/conda/feedstock_root/build_artifacts/xgboost-split_1705649946806/work/src/learner.cc:742: \n",
      "Parameters: { \"silent\" } are not used.\n",
      "\n",
      "  warnings.warn(smsg, UserWarning)\n",
      "/opt/mamba/lib/python3.11/site-packages/xgboost/core.py:160: UserWarning: [18:29:30] WARNING: /home/conda/feedstock_root/build_artifacts/xgboost-split_1705649946806/work/src/learner.cc:742: \n",
      "Parameters: { \"silent\" } are not used.\n",
      "\n",
      "  warnings.warn(smsg, UserWarning)\n",
      "/opt/mamba/lib/python3.11/site-packages/xgboost/core.py:160: UserWarning: [18:29:30] WARNING: /home/conda/feedstock_root/build_artifacts/xgboost-split_1705649946806/work/src/learner.cc:742: \n",
      "Parameters: { \"silent\" } are not used.\n",
      "\n",
      "  warnings.warn(smsg, UserWarning)\n",
      "/opt/mamba/lib/python3.11/site-packages/xgboost/core.py:160: UserWarning: [18:29:30] WARNING: /home/conda/feedstock_root/build_artifacts/xgboost-split_1705649946806/work/src/learner.cc:742: \n",
      "Parameters: { \"silent\" } are not used.\n",
      "\n",
      "  warnings.warn(smsg, UserWarning)\n",
      "/opt/mamba/lib/python3.11/site-packages/xgboost/core.py:160: UserWarning: [18:29:30] WARNING: /home/conda/feedstock_root/build_artifacts/xgboost-split_1705649946806/work/src/learner.cc:742: \n",
      "Parameters: { \"silent\" } are not used.\n",
      "\n",
      "  warnings.warn(smsg, UserWarning)\n",
      "/opt/mamba/lib/python3.11/site-packages/xgboost/core.py:160: UserWarning: [18:29:30] WARNING: /home/conda/feedstock_root/build_artifacts/xgboost-split_1705649946806/work/src/learner.cc:742: \n",
      "Parameters: { \"silent\" } are not used.\n",
      "\n",
      "  warnings.warn(smsg, UserWarning)\n",
      "/opt/mamba/lib/python3.11/site-packages/xgboost/core.py:160: UserWarning: [18:29:30] WARNING: /home/conda/feedstock_root/build_artifacts/xgboost-split_1705649946806/work/src/learner.cc:742: \n",
      "Parameters: { \"silent\" } are not used.\n",
      "\n",
      "  warnings.warn(smsg, UserWarning)\n"
     ]
    },
    {
     "name": "stderr",
     "output_type": "stream",
     "text": [
      "/opt/mamba/lib/python3.11/site-packages/xgboost/core.py:160: UserWarning: [18:29:30] WARNING: /home/conda/feedstock_root/build_artifacts/xgboost-split_1705649946806/work/src/learner.cc:742: \n",
      "Parameters: { \"silent\" } are not used.\n",
      "\n",
      "  warnings.warn(smsg, UserWarning)\n",
      "/opt/mamba/lib/python3.11/site-packages/xgboost/core.py:160: UserWarning: [18:29:30] WARNING: /home/conda/feedstock_root/build_artifacts/xgboost-split_1705649946806/work/src/learner.cc:742: \n",
      "Parameters: { \"silent\" } are not used.\n",
      "\n",
      "  warnings.warn(smsg, UserWarning)\n",
      "/opt/mamba/lib/python3.11/site-packages/xgboost/core.py:160: UserWarning: [18:29:30] WARNING: /home/conda/feedstock_root/build_artifacts/xgboost-split_1705649946806/work/src/learner.cc:742: \n",
      "Parameters: { \"silent\" } are not used.\n",
      "\n",
      "  warnings.warn(smsg, UserWarning)\n",
      "/opt/mamba/lib/python3.11/site-packages/xgboost/core.py:160: UserWarning: [18:29:30] WARNING: /home/conda/feedstock_root/build_artifacts/xgboost-split_1705649946806/work/src/learner.cc:742: \n",
      "Parameters: { \"silent\" } are not used.\n",
      "\n",
      "  warnings.warn(smsg, UserWarning)\n",
      "/opt/mamba/lib/python3.11/site-packages/xgboost/core.py:160: UserWarning: [18:29:30] WARNING: /home/conda/feedstock_root/build_artifacts/xgboost-split_1705649946806/work/src/learner.cc:742: \n",
      "Parameters: { \"silent\" } are not used.\n",
      "\n",
      "  warnings.warn(smsg, UserWarning)\n",
      "/opt/mamba/lib/python3.11/site-packages/xgboost/core.py:160: UserWarning: [18:29:30] WARNING: /home/conda/feedstock_root/build_artifacts/xgboost-split_1705649946806/work/src/learner.cc:742: \n",
      "Parameters: { \"silent\" } are not used.\n",
      "\n",
      "  warnings.warn(smsg, UserWarning)\n",
      "/opt/mamba/lib/python3.11/site-packages/xgboost/core.py:160: UserWarning: [18:29:30] WARNING: /home/conda/feedstock_root/build_artifacts/xgboost-split_1705649946806/work/src/learner.cc:742: \n",
      "Parameters: { \"silent\" } are not used.\n",
      "\n",
      "  warnings.warn(smsg, UserWarning)\n",
      "/opt/mamba/lib/python3.11/site-packages/xgboost/core.py:160: UserWarning: [18:29:30] WARNING: /home/conda/feedstock_root/build_artifacts/xgboost-split_1705649946806/work/src/learner.cc:742: \n",
      "Parameters: { \"silent\" } are not used.\n",
      "\n",
      "  warnings.warn(smsg, UserWarning)\n",
      "/opt/mamba/lib/python3.11/site-packages/xgboost/core.py:160: UserWarning: [18:29:30] WARNING: /home/conda/feedstock_root/build_artifacts/xgboost-split_1705649946806/work/src/learner.cc:742: \n",
      "Parameters: { \"silent\" } are not used.\n",
      "\n",
      "  warnings.warn(smsg, UserWarning)\n",
      "/opt/mamba/lib/python3.11/site-packages/xgboost/core.py:160: UserWarning: [18:29:30] WARNING: /home/conda/feedstock_root/build_artifacts/xgboost-split_1705649946806/work/src/learner.cc:742: \n",
      "Parameters: { \"silent\" } are not used.\n",
      "\n",
      "  warnings.warn(smsg, UserWarning)\n",
      "/opt/mamba/lib/python3.11/site-packages/xgboost/core.py:160: UserWarning: [18:29:30] WARNING: /home/conda/feedstock_root/build_artifacts/xgboost-split_1705649946806/work/src/learner.cc:742: \n",
      "Parameters: { \"silent\" } are not used.\n",
      "\n",
      "  warnings.warn(smsg, UserWarning)\n",
      "/opt/mamba/lib/python3.11/site-packages/xgboost/core.py:160: UserWarning: [18:29:30] WARNING: /home/conda/feedstock_root/build_artifacts/xgboost-split_1705649946806/work/src/learner.cc:742: \n",
      "Parameters: { \"silent\" } are not used.\n",
      "\n",
      "  warnings.warn(smsg, UserWarning)\n",
      "/opt/mamba/lib/python3.11/site-packages/xgboost/core.py:160: UserWarning: [18:29:30] WARNING: /home/conda/feedstock_root/build_artifacts/xgboost-split_1705649946806/work/src/learner.cc:742: \n",
      "Parameters: { \"silent\" } are not used.\n",
      "\n",
      "  warnings.warn(smsg, UserWarning)\n",
      "/opt/mamba/lib/python3.11/site-packages/xgboost/core.py:160: UserWarning: [18:29:30] WARNING: /home/conda/feedstock_root/build_artifacts/xgboost-split_1705649946806/work/src/learner.cc:742: \n",
      "Parameters: { \"silent\" } are not used.\n",
      "\n",
      "  warnings.warn(smsg, UserWarning)\n",
      "/opt/mamba/lib/python3.11/site-packages/xgboost/core.py:160: UserWarning: [18:29:31] WARNING: /home/conda/feedstock_root/build_artifacts/xgboost-split_1705649946806/work/src/learner.cc:742: \n",
      "Parameters: { \"silent\" } are not used.\n",
      "\n",
      "  warnings.warn(smsg, UserWarning)\n",
      "/opt/mamba/lib/python3.11/site-packages/xgboost/core.py:160: UserWarning: [18:29:31] WARNING: /home/conda/feedstock_root/build_artifacts/xgboost-split_1705649946806/work/src/learner.cc:742: \n",
      "Parameters: { \"silent\" } are not used.\n",
      "\n",
      "  warnings.warn(smsg, UserWarning)\n",
      "/opt/mamba/lib/python3.11/site-packages/xgboost/core.py:160: UserWarning: [18:29:31] WARNING: /home/conda/feedstock_root/build_artifacts/xgboost-split_1705649946806/work/src/learner.cc:742: \n",
      "Parameters: { \"silent\" } are not used.\n",
      "\n",
      "  warnings.warn(smsg, UserWarning)\n",
      "/opt/mamba/lib/python3.11/site-packages/xgboost/core.py:160: UserWarning: [18:29:31] WARNING: /home/conda/feedstock_root/build_artifacts/xgboost-split_1705649946806/work/src/learner.cc:742: \n",
      "Parameters: { \"silent\" } are not used.\n",
      "\n",
      "  warnings.warn(smsg, UserWarning)\n",
      "/opt/mamba/lib/python3.11/site-packages/xgboost/core.py:160: UserWarning: [18:29:31] WARNING: /home/conda/feedstock_root/build_artifacts/xgboost-split_1705649946806/work/src/learner.cc:742: \n",
      "Parameters: { \"silent\" } are not used.\n",
      "\n",
      "  warnings.warn(smsg, UserWarning)\n",
      "/opt/mamba/lib/python3.11/site-packages/xgboost/core.py:160: UserWarning: [18:29:31] WARNING: /home/conda/feedstock_root/build_artifacts/xgboost-split_1705649946806/work/src/learner.cc:742: \n",
      "Parameters: { \"silent\" } are not used.\n",
      "\n",
      "  warnings.warn(smsg, UserWarning)\n",
      "/opt/mamba/lib/python3.11/site-packages/xgboost/core.py:160: UserWarning: [18:29:31] WARNING: /home/conda/feedstock_root/build_artifacts/xgboost-split_1705649946806/work/src/learner.cc:742: \n",
      "Parameters: { \"silent\" } are not used.\n",
      "\n",
      "  warnings.warn(smsg, UserWarning)\n",
      "/opt/mamba/lib/python3.11/site-packages/xgboost/core.py:160: UserWarning: [18:29:31] WARNING: /home/conda/feedstock_root/build_artifacts/xgboost-split_1705649946806/work/src/learner.cc:742: \n",
      "Parameters: { \"silent\" } are not used.\n",
      "\n",
      "  warnings.warn(smsg, UserWarning)\n",
      "/opt/mamba/lib/python3.11/site-packages/xgboost/core.py:160: UserWarning: [18:29:31] WARNING: /home/conda/feedstock_root/build_artifacts/xgboost-split_1705649946806/work/src/learner.cc:742: \n",
      "Parameters: { \"silent\" } are not used.\n",
      "\n",
      "  warnings.warn(smsg, UserWarning)\n",
      "/opt/mamba/lib/python3.11/site-packages/xgboost/core.py:160: UserWarning: [18:29:31] WARNING: /home/conda/feedstock_root/build_artifacts/xgboost-split_1705649946806/work/src/learner.cc:742: \n",
      "Parameters: { \"silent\" } are not used.\n",
      "\n",
      "  warnings.warn(smsg, UserWarning)\n",
      "/opt/mamba/lib/python3.11/site-packages/xgboost/core.py:160: UserWarning: [18:29:31] WARNING: /home/conda/feedstock_root/build_artifacts/xgboost-split_1705649946806/work/src/learner.cc:742: \n",
      "Parameters: { \"silent\" } are not used.\n",
      "\n",
      "  warnings.warn(smsg, UserWarning)\n",
      "/opt/mamba/lib/python3.11/site-packages/xgboost/core.py:160: UserWarning: [18:29:31] WARNING: /home/conda/feedstock_root/build_artifacts/xgboost-split_1705649946806/work/src/learner.cc:742: \n",
      "Parameters: { \"silent\" } are not used.\n",
      "\n",
      "  warnings.warn(smsg, UserWarning)\n",
      "/opt/mamba/lib/python3.11/site-packages/xgboost/core.py:160: UserWarning: [18:29:31] WARNING: /home/conda/feedstock_root/build_artifacts/xgboost-split_1705649946806/work/src/learner.cc:742: \n",
      "Parameters: { \"silent\" } are not used.\n",
      "\n",
      "  warnings.warn(smsg, UserWarning)\n",
      "/opt/mamba/lib/python3.11/site-packages/xgboost/core.py:160: UserWarning: [18:29:31] WARNING: /home/conda/feedstock_root/build_artifacts/xgboost-split_1705649946806/work/src/learner.cc:742: \n",
      "Parameters: { \"silent\" } are not used.\n",
      "\n",
      "  warnings.warn(smsg, UserWarning)\n",
      "/opt/mamba/lib/python3.11/site-packages/xgboost/core.py:160: UserWarning: [18:29:31] WARNING: /home/conda/feedstock_root/build_artifacts/xgboost-split_1705649946806/work/src/learner.cc:742: \n",
      "Parameters: { \"silent\" } are not used.\n",
      "\n",
      "  warnings.warn(smsg, UserWarning)\n",
      "/opt/mamba/lib/python3.11/site-packages/xgboost/core.py:160: UserWarning: [18:29:31] WARNING: /home/conda/feedstock_root/build_artifacts/xgboost-split_1705649946806/work/src/learner.cc:742: \n",
      "Parameters: { \"silent\" } are not used.\n",
      "\n",
      "  warnings.warn(smsg, UserWarning)\n",
      "/opt/mamba/lib/python3.11/site-packages/xgboost/core.py:160: UserWarning: [18:29:31] WARNING: /home/conda/feedstock_root/build_artifacts/xgboost-split_1705649946806/work/src/learner.cc:742: \n",
      "Parameters: { \"silent\" } are not used.\n",
      "\n",
      "  warnings.warn(smsg, UserWarning)\n",
      "/opt/mamba/lib/python3.11/site-packages/xgboost/core.py:160: UserWarning: [18:29:31] WARNING: /home/conda/feedstock_root/build_artifacts/xgboost-split_1705649946806/work/src/learner.cc:742: \n",
      "Parameters: { \"silent\" } are not used.\n",
      "\n",
      "  warnings.warn(smsg, UserWarning)\n",
      "/opt/mamba/lib/python3.11/site-packages/xgboost/core.py:160: UserWarning: [18:29:31] WARNING: /home/conda/feedstock_root/build_artifacts/xgboost-split_1705649946806/work/src/learner.cc:742: \n",
      "Parameters: { \"silent\" } are not used.\n",
      "\n",
      "  warnings.warn(smsg, UserWarning)\n",
      "/opt/mamba/lib/python3.11/site-packages/xgboost/core.py:160: UserWarning: [18:29:31] WARNING: /home/conda/feedstock_root/build_artifacts/xgboost-split_1705649946806/work/src/learner.cc:742: \n",
      "Parameters: { \"silent\" } are not used.\n",
      "\n",
      "  warnings.warn(smsg, UserWarning)\n",
      "/opt/mamba/lib/python3.11/site-packages/xgboost/core.py:160: UserWarning: [18:29:31] WARNING: /home/conda/feedstock_root/build_artifacts/xgboost-split_1705649946806/work/src/learner.cc:742: \n",
      "Parameters: { \"silent\" } are not used.\n",
      "\n",
      "  warnings.warn(smsg, UserWarning)\n",
      "/opt/mamba/lib/python3.11/site-packages/xgboost/core.py:160: UserWarning: [18:29:31] WARNING: /home/conda/feedstock_root/build_artifacts/xgboost-split_1705649946806/work/src/learner.cc:742: \n",
      "Parameters: { \"silent\" } are not used.\n",
      "\n",
      "  warnings.warn(smsg, UserWarning)\n",
      "/opt/mamba/lib/python3.11/site-packages/xgboost/core.py:160: UserWarning: [18:29:31] WARNING: /home/conda/feedstock_root/build_artifacts/xgboost-split_1705649946806/work/src/learner.cc:742: \n",
      "Parameters: { \"silent\" } are not used.\n",
      "\n",
      "  warnings.warn(smsg, UserWarning)\n",
      "/opt/mamba/lib/python3.11/site-packages/xgboost/core.py:160: UserWarning: [18:29:31] WARNING: /home/conda/feedstock_root/build_artifacts/xgboost-split_1705649946806/work/src/learner.cc:742: \n",
      "Parameters: { \"silent\" } are not used.\n",
      "\n",
      "  warnings.warn(smsg, UserWarning)\n",
      "/opt/mamba/lib/python3.11/site-packages/xgboost/core.py:160: UserWarning: [18:29:31] WARNING: /home/conda/feedstock_root/build_artifacts/xgboost-split_1705649946806/work/src/learner.cc:742: \n",
      "Parameters: { \"silent\" } are not used.\n",
      "\n",
      "  warnings.warn(smsg, UserWarning)\n",
      "/opt/mamba/lib/python3.11/site-packages/xgboost/core.py:160: UserWarning: [18:29:31] WARNING: /home/conda/feedstock_root/build_artifacts/xgboost-split_1705649946806/work/src/learner.cc:742: \n",
      "Parameters: { \"silent\" } are not used.\n",
      "\n",
      "  warnings.warn(smsg, UserWarning)\n",
      "/opt/mamba/lib/python3.11/site-packages/xgboost/core.py:160: UserWarning: [18:29:31] WARNING: /home/conda/feedstock_root/build_artifacts/xgboost-split_1705649946806/work/src/learner.cc:742: \n",
      "Parameters: { \"silent\" } are not used.\n",
      "\n",
      "  warnings.warn(smsg, UserWarning)\n",
      "/opt/mamba/lib/python3.11/site-packages/xgboost/core.py:160: UserWarning: [18:29:31] WARNING: /home/conda/feedstock_root/build_artifacts/xgboost-split_1705649946806/work/src/learner.cc:742: \n",
      "Parameters: { \"silent\" } are not used.\n",
      "\n",
      "  warnings.warn(smsg, UserWarning)\n",
      "/opt/mamba/lib/python3.11/site-packages/xgboost/core.py:160: UserWarning: [18:29:31] WARNING: /home/conda/feedstock_root/build_artifacts/xgboost-split_1705649946806/work/src/learner.cc:742: \n",
      "Parameters: { \"silent\" } are not used.\n",
      "\n",
      "  warnings.warn(smsg, UserWarning)\n",
      "/opt/mamba/lib/python3.11/site-packages/xgboost/core.py:160: UserWarning: [18:29:31] WARNING: /home/conda/feedstock_root/build_artifacts/xgboost-split_1705649946806/work/src/learner.cc:742: \n",
      "Parameters: { \"silent\" } are not used.\n",
      "\n",
      "  warnings.warn(smsg, UserWarning)\n",
      "/opt/mamba/lib/python3.11/site-packages/xgboost/core.py:160: UserWarning: [18:29:31] WARNING: /home/conda/feedstock_root/build_artifacts/xgboost-split_1705649946806/work/src/learner.cc:742: \n",
      "Parameters: { \"silent\" } are not used.\n",
      "\n",
      "  warnings.warn(smsg, UserWarning)\n",
      "/opt/mamba/lib/python3.11/site-packages/xgboost/core.py:160: UserWarning: [18:29:31] WARNING: /home/conda/feedstock_root/build_artifacts/xgboost-split_1705649946806/work/src/learner.cc:742: \n",
      "Parameters: { \"silent\" } are not used.\n",
      "\n",
      "  warnings.warn(smsg, UserWarning)\n",
      "/opt/mamba/lib/python3.11/site-packages/xgboost/core.py:160: UserWarning: [18:29:31] WARNING: /home/conda/feedstock_root/build_artifacts/xgboost-split_1705649946806/work/src/learner.cc:742: \n",
      "Parameters: { \"silent\" } are not used.\n",
      "\n",
      "  warnings.warn(smsg, UserWarning)\n",
      "/opt/mamba/lib/python3.11/site-packages/xgboost/core.py:160: UserWarning: [18:29:31] WARNING: /home/conda/feedstock_root/build_artifacts/xgboost-split_1705649946806/work/src/learner.cc:742: \n",
      "Parameters: { \"silent\" } are not used.\n",
      "\n",
      "  warnings.warn(smsg, UserWarning)\n",
      "/opt/mamba/lib/python3.11/site-packages/xgboost/core.py:160: UserWarning: [18:29:31] WARNING: /home/conda/feedstock_root/build_artifacts/xgboost-split_1705649946806/work/src/learner.cc:742: \n",
      "Parameters: { \"silent\" } are not used.\n",
      "\n",
      "  warnings.warn(smsg, UserWarning)\n",
      "/opt/mamba/lib/python3.11/site-packages/xgboost/core.py:160: UserWarning: [18:29:31] WARNING: /home/conda/feedstock_root/build_artifacts/xgboost-split_1705649946806/work/src/learner.cc:742: \n",
      "Parameters: { \"silent\" } are not used.\n",
      "\n",
      "  warnings.warn(smsg, UserWarning)\n",
      "/opt/mamba/lib/python3.11/site-packages/xgboost/core.py:160: UserWarning: [18:29:31] WARNING: /home/conda/feedstock_root/build_artifacts/xgboost-split_1705649946806/work/src/learner.cc:742: \n",
      "Parameters: { \"silent\" } are not used.\n",
      "\n",
      "  warnings.warn(smsg, UserWarning)\n",
      "/opt/mamba/lib/python3.11/site-packages/xgboost/core.py:160: UserWarning: [18:29:31] WARNING: /home/conda/feedstock_root/build_artifacts/xgboost-split_1705649946806/work/src/learner.cc:742: \n",
      "Parameters: { \"silent\" } are not used.\n",
      "\n",
      "  warnings.warn(smsg, UserWarning)\n",
      "/opt/mamba/lib/python3.11/site-packages/xgboost/core.py:160: UserWarning: [18:29:31] WARNING: /home/conda/feedstock_root/build_artifacts/xgboost-split_1705649946806/work/src/learner.cc:742: \n",
      "Parameters: { \"silent\" } are not used.\n",
      "\n",
      "  warnings.warn(smsg, UserWarning)\n",
      "/opt/mamba/lib/python3.11/site-packages/xgboost/core.py:160: UserWarning: [18:29:31] WARNING: /home/conda/feedstock_root/build_artifacts/xgboost-split_1705649946806/work/src/learner.cc:742: \n",
      "Parameters: { \"silent\" } are not used.\n",
      "\n",
      "  warnings.warn(smsg, UserWarning)\n",
      "/opt/mamba/lib/python3.11/site-packages/xgboost/core.py:160: UserWarning: [18:29:31] WARNING: /home/conda/feedstock_root/build_artifacts/xgboost-split_1705649946806/work/src/learner.cc:742: \n",
      "Parameters: { \"silent\" } are not used.\n",
      "\n",
      "  warnings.warn(smsg, UserWarning)\n",
      "/opt/mamba/lib/python3.11/site-packages/xgboost/core.py:160: UserWarning: [18:29:31] WARNING: /home/conda/feedstock_root/build_artifacts/xgboost-split_1705649946806/work/src/learner.cc:742: \n",
      "Parameters: { \"silent\" } are not used.\n",
      "\n",
      "  warnings.warn(smsg, UserWarning)\n",
      "/opt/mamba/lib/python3.11/site-packages/xgboost/core.py:160: UserWarning: [18:29:31] WARNING: /home/conda/feedstock_root/build_artifacts/xgboost-split_1705649946806/work/src/learner.cc:742: \n",
      "Parameters: { \"silent\" } are not used.\n",
      "\n",
      "  warnings.warn(smsg, UserWarning)\n",
      "/opt/mamba/lib/python3.11/site-packages/xgboost/core.py:160: UserWarning: [18:29:31] WARNING: /home/conda/feedstock_root/build_artifacts/xgboost-split_1705649946806/work/src/learner.cc:742: \n",
      "Parameters: { \"silent\" } are not used.\n",
      "\n",
      "  warnings.warn(smsg, UserWarning)\n",
      "/opt/mamba/lib/python3.11/site-packages/xgboost/core.py:160: UserWarning: [18:29:31] WARNING: /home/conda/feedstock_root/build_artifacts/xgboost-split_1705649946806/work/src/learner.cc:742: \n",
      "Parameters: { \"silent\" } are not used.\n",
      "\n",
      "  warnings.warn(smsg, UserWarning)\n",
      "/opt/mamba/lib/python3.11/site-packages/xgboost/core.py:160: UserWarning: [18:29:31] WARNING: /home/conda/feedstock_root/build_artifacts/xgboost-split_1705649946806/work/src/learner.cc:742: \n",
      "Parameters: { \"silent\" } are not used.\n",
      "\n",
      "  warnings.warn(smsg, UserWarning)\n",
      "/opt/mamba/lib/python3.11/site-packages/xgboost/core.py:160: UserWarning: [18:29:31] WARNING: /home/conda/feedstock_root/build_artifacts/xgboost-split_1705649946806/work/src/learner.cc:742: \n",
      "Parameters: { \"silent\" } are not used.\n",
      "\n",
      "  warnings.warn(smsg, UserWarning)\n",
      "/opt/mamba/lib/python3.11/site-packages/xgboost/core.py:160: UserWarning: [18:29:31] WARNING: /home/conda/feedstock_root/build_artifacts/xgboost-split_1705649946806/work/src/learner.cc:742: \n",
      "Parameters: { \"silent\" } are not used.\n",
      "\n",
      "  warnings.warn(smsg, UserWarning)\n",
      "/opt/mamba/lib/python3.11/site-packages/xgboost/core.py:160: UserWarning: [18:29:31] WARNING: /home/conda/feedstock_root/build_artifacts/xgboost-split_1705649946806/work/src/learner.cc:742: \n",
      "Parameters: { \"silent\" } are not used.\n",
      "\n",
      "  warnings.warn(smsg, UserWarning)\n",
      "/opt/mamba/lib/python3.11/site-packages/xgboost/core.py:160: UserWarning: [18:29:31] WARNING: /home/conda/feedstock_root/build_artifacts/xgboost-split_1705649946806/work/src/learner.cc:742: \n",
      "Parameters: { \"silent\" } are not used.\n",
      "\n",
      "  warnings.warn(smsg, UserWarning)\n",
      "/opt/mamba/lib/python3.11/site-packages/xgboost/core.py:160: UserWarning: [18:29:31] WARNING: /home/conda/feedstock_root/build_artifacts/xgboost-split_1705649946806/work/src/learner.cc:742: \n",
      "Parameters: { \"silent\" } are not used.\n",
      "\n",
      "  warnings.warn(smsg, UserWarning)\n",
      "/opt/mamba/lib/python3.11/site-packages/xgboost/core.py:160: UserWarning: [18:29:31] WARNING: /home/conda/feedstock_root/build_artifacts/xgboost-split_1705649946806/work/src/learner.cc:742: \n",
      "Parameters: { \"silent\" } are not used.\n",
      "\n",
      "  warnings.warn(smsg, UserWarning)\n",
      "/opt/mamba/lib/python3.11/site-packages/xgboost/core.py:160: UserWarning: [18:29:31] WARNING: /home/conda/feedstock_root/build_artifacts/xgboost-split_1705649946806/work/src/learner.cc:742: \n",
      "Parameters: { \"silent\" } are not used.\n",
      "\n",
      "  warnings.warn(smsg, UserWarning)\n",
      "/opt/mamba/lib/python3.11/site-packages/xgboost/core.py:160: UserWarning: [18:29:31] WARNING: /home/conda/feedstock_root/build_artifacts/xgboost-split_1705649946806/work/src/learner.cc:742: \n",
      "Parameters: { \"silent\" } are not used.\n",
      "\n",
      "  warnings.warn(smsg, UserWarning)\n",
      "/opt/mamba/lib/python3.11/site-packages/xgboost/core.py:160: UserWarning: [18:29:31] WARNING: /home/conda/feedstock_root/build_artifacts/xgboost-split_1705649946806/work/src/learner.cc:742: \n",
      "Parameters: { \"silent\" } are not used.\n",
      "\n",
      "  warnings.warn(smsg, UserWarning)\n",
      "/opt/mamba/lib/python3.11/site-packages/xgboost/core.py:160: UserWarning: [18:29:31] WARNING: /home/conda/feedstock_root/build_artifacts/xgboost-split_1705649946806/work/src/learner.cc:742: \n",
      "Parameters: { \"silent\" } are not used.\n",
      "\n",
      "  warnings.warn(smsg, UserWarning)\n",
      "/opt/mamba/lib/python3.11/site-packages/xgboost/core.py:160: UserWarning: [18:29:31] WARNING: /home/conda/feedstock_root/build_artifacts/xgboost-split_1705649946806/work/src/learner.cc:742: \n",
      "Parameters: { \"silent\" } are not used.\n",
      "\n",
      "  warnings.warn(smsg, UserWarning)\n",
      "/opt/mamba/lib/python3.11/site-packages/xgboost/core.py:160: UserWarning: [18:29:31] WARNING: /home/conda/feedstock_root/build_artifacts/xgboost-split_1705649946806/work/src/learner.cc:742: \n",
      "Parameters: { \"silent\" } are not used.\n",
      "\n",
      "  warnings.warn(smsg, UserWarning)\n",
      "/opt/mamba/lib/python3.11/site-packages/xgboost/core.py:160: UserWarning: [18:29:31] WARNING: /home/conda/feedstock_root/build_artifacts/xgboost-split_1705649946806/work/src/learner.cc:742: \n",
      "Parameters: { \"silent\" } are not used.\n",
      "\n",
      "  warnings.warn(smsg, UserWarning)\n",
      "/opt/mamba/lib/python3.11/site-packages/xgboost/core.py:160: UserWarning: [18:29:31] WARNING: /home/conda/feedstock_root/build_artifacts/xgboost-split_1705649946806/work/src/learner.cc:742: \n",
      "Parameters: { \"silent\" } are not used.\n",
      "\n",
      "  warnings.warn(smsg, UserWarning)\n",
      "/opt/mamba/lib/python3.11/site-packages/xgboost/core.py:160: UserWarning: [18:29:31] WARNING: /home/conda/feedstock_root/build_artifacts/xgboost-split_1705649946806/work/src/learner.cc:742: \n",
      "Parameters: { \"silent\" } are not used.\n",
      "\n",
      "  warnings.warn(smsg, UserWarning)\n",
      "/opt/mamba/lib/python3.11/site-packages/xgboost/core.py:160: UserWarning: [18:29:31] WARNING: /home/conda/feedstock_root/build_artifacts/xgboost-split_1705649946806/work/src/learner.cc:742: \n",
      "Parameters: { \"silent\" } are not used.\n",
      "\n",
      "  warnings.warn(smsg, UserWarning)\n",
      "/opt/mamba/lib/python3.11/site-packages/xgboost/core.py:160: UserWarning: [18:29:31] WARNING: /home/conda/feedstock_root/build_artifacts/xgboost-split_1705649946806/work/src/learner.cc:742: \n",
      "Parameters: { \"silent\" } are not used.\n",
      "\n",
      "  warnings.warn(smsg, UserWarning)\n",
      "/opt/mamba/lib/python3.11/site-packages/xgboost/core.py:160: UserWarning: [18:29:31] WARNING: /home/conda/feedstock_root/build_artifacts/xgboost-split_1705649946806/work/src/learner.cc:742: \n",
      "Parameters: { \"silent\" } are not used.\n",
      "\n",
      "  warnings.warn(smsg, UserWarning)\n",
      "/opt/mamba/lib/python3.11/site-packages/xgboost/core.py:160: UserWarning: [18:29:31] WARNING: /home/conda/feedstock_root/build_artifacts/xgboost-split_1705649946806/work/src/learner.cc:742: \n",
      "Parameters: { \"silent\" } are not used.\n",
      "\n",
      "  warnings.warn(smsg, UserWarning)\n",
      "/opt/mamba/lib/python3.11/site-packages/xgboost/core.py:160: UserWarning: [18:29:31] WARNING: /home/conda/feedstock_root/build_artifacts/xgboost-split_1705649946806/work/src/learner.cc:742: \n",
      "Parameters: { \"silent\" } are not used.\n",
      "\n",
      "  warnings.warn(smsg, UserWarning)\n",
      "/opt/mamba/lib/python3.11/site-packages/xgboost/core.py:160: UserWarning: [18:29:31] WARNING: /home/conda/feedstock_root/build_artifacts/xgboost-split_1705649946806/work/src/learner.cc:742: \n",
      "Parameters: { \"silent\" } are not used.\n",
      "\n",
      "  warnings.warn(smsg, UserWarning)\n",
      "/opt/mamba/lib/python3.11/site-packages/xgboost/core.py:160: UserWarning: [18:29:31] WARNING: /home/conda/feedstock_root/build_artifacts/xgboost-split_1705649946806/work/src/learner.cc:742: \n",
      "Parameters: { \"silent\" } are not used.\n",
      "\n",
      "  warnings.warn(smsg, UserWarning)\n",
      "/opt/mamba/lib/python3.11/site-packages/xgboost/core.py:160: UserWarning: [18:29:31] WARNING: /home/conda/feedstock_root/build_artifacts/xgboost-split_1705649946806/work/src/learner.cc:742: \n",
      "Parameters: { \"silent\" } are not used.\n",
      "\n",
      "  warnings.warn(smsg, UserWarning)\n",
      "/opt/mamba/lib/python3.11/site-packages/xgboost/core.py:160: UserWarning: [18:29:31] WARNING: /home/conda/feedstock_root/build_artifacts/xgboost-split_1705649946806/work/src/learner.cc:742: \n",
      "Parameters: { \"silent\" } are not used.\n",
      "\n",
      "  warnings.warn(smsg, UserWarning)\n",
      "/opt/mamba/lib/python3.11/site-packages/xgboost/core.py:160: UserWarning: [18:29:31] WARNING: /home/conda/feedstock_root/build_artifacts/xgboost-split_1705649946806/work/src/learner.cc:742: \n",
      "Parameters: { \"silent\" } are not used.\n",
      "\n",
      "  warnings.warn(smsg, UserWarning)\n",
      "/opt/mamba/lib/python3.11/site-packages/xgboost/core.py:160: UserWarning: [18:29:31] WARNING: /home/conda/feedstock_root/build_artifacts/xgboost-split_1705649946806/work/src/learner.cc:742: \n",
      "Parameters: { \"silent\" } are not used.\n",
      "\n",
      "  warnings.warn(smsg, UserWarning)\n",
      "/opt/mamba/lib/python3.11/site-packages/xgboost/core.py:160: UserWarning: [18:29:31] WARNING: /home/conda/feedstock_root/build_artifacts/xgboost-split_1705649946806/work/src/learner.cc:742: \n",
      "Parameters: { \"silent\" } are not used.\n",
      "\n",
      "  warnings.warn(smsg, UserWarning)\n",
      "/opt/mamba/lib/python3.11/site-packages/xgboost/core.py:160: UserWarning: [18:29:31] WARNING: /home/conda/feedstock_root/build_artifacts/xgboost-split_1705649946806/work/src/learner.cc:742: \n",
      "Parameters: { \"silent\" } are not used.\n",
      "\n",
      "  warnings.warn(smsg, UserWarning)\n",
      "/opt/mamba/lib/python3.11/site-packages/xgboost/core.py:160: UserWarning: [18:29:31] WARNING: /home/conda/feedstock_root/build_artifacts/xgboost-split_1705649946806/work/src/learner.cc:742: \n",
      "Parameters: { \"silent\" } are not used.\n",
      "\n",
      "  warnings.warn(smsg, UserWarning)\n",
      "/opt/mamba/lib/python3.11/site-packages/xgboost/core.py:160: UserWarning: [18:29:31] WARNING: /home/conda/feedstock_root/build_artifacts/xgboost-split_1705649946806/work/src/learner.cc:742: \n",
      "Parameters: { \"silent\" } are not used.\n",
      "\n",
      "  warnings.warn(smsg, UserWarning)\n",
      "/opt/mamba/lib/python3.11/site-packages/xgboost/core.py:160: UserWarning: [18:29:31] WARNING: /home/conda/feedstock_root/build_artifacts/xgboost-split_1705649946806/work/src/learner.cc:742: \n",
      "Parameters: { \"silent\" } are not used.\n",
      "\n",
      "  warnings.warn(smsg, UserWarning)\n",
      "/opt/mamba/lib/python3.11/site-packages/xgboost/core.py:160: UserWarning: [18:29:31] WARNING: /home/conda/feedstock_root/build_artifacts/xgboost-split_1705649946806/work/src/learner.cc:742: \n",
      "Parameters: { \"silent\" } are not used.\n",
      "\n",
      "  warnings.warn(smsg, UserWarning)\n",
      "/opt/mamba/lib/python3.11/site-packages/xgboost/core.py:160: UserWarning: [18:29:31] WARNING: /home/conda/feedstock_root/build_artifacts/xgboost-split_1705649946806/work/src/learner.cc:742: \n",
      "Parameters: { \"silent\" } are not used.\n",
      "\n",
      "  warnings.warn(smsg, UserWarning)\n",
      "/opt/mamba/lib/python3.11/site-packages/xgboost/core.py:160: UserWarning: [18:29:31] WARNING: /home/conda/feedstock_root/build_artifacts/xgboost-split_1705649946806/work/src/learner.cc:742: \n",
      "Parameters: { \"silent\" } are not used.\n",
      "\n",
      "  warnings.warn(smsg, UserWarning)\n",
      "/opt/mamba/lib/python3.11/site-packages/xgboost/core.py:160: UserWarning: [18:29:31] WARNING: /home/conda/feedstock_root/build_artifacts/xgboost-split_1705649946806/work/src/learner.cc:742: \n",
      "Parameters: { \"silent\" } are not used.\n",
      "\n",
      "  warnings.warn(smsg, UserWarning)\n",
      "/opt/mamba/lib/python3.11/site-packages/xgboost/core.py:160: UserWarning: [18:29:31] WARNING: /home/conda/feedstock_root/build_artifacts/xgboost-split_1705649946806/work/src/learner.cc:742: \n",
      "Parameters: { \"silent\" } are not used.\n",
      "\n",
      "  warnings.warn(smsg, UserWarning)\n",
      "/opt/mamba/lib/python3.11/site-packages/xgboost/core.py:160: UserWarning: [18:29:31] WARNING: /home/conda/feedstock_root/build_artifacts/xgboost-split_1705649946806/work/src/learner.cc:742: \n",
      "Parameters: { \"silent\" } are not used.\n",
      "\n",
      "  warnings.warn(smsg, UserWarning)\n",
      "/opt/mamba/lib/python3.11/site-packages/xgboost/core.py:160: UserWarning: [18:29:31] WARNING: /home/conda/feedstock_root/build_artifacts/xgboost-split_1705649946806/work/src/learner.cc:742: \n",
      "Parameters: { \"silent\" } are not used.\n",
      "\n",
      "  warnings.warn(smsg, UserWarning)\n",
      "/opt/mamba/lib/python3.11/site-packages/xgboost/core.py:160: UserWarning: [18:29:31] WARNING: /home/conda/feedstock_root/build_artifacts/xgboost-split_1705649946806/work/src/learner.cc:742: \n",
      "Parameters: { \"silent\" } are not used.\n",
      "\n",
      "  warnings.warn(smsg, UserWarning)\n",
      "/opt/mamba/lib/python3.11/site-packages/xgboost/core.py:160: UserWarning: [18:29:31] WARNING: /home/conda/feedstock_root/build_artifacts/xgboost-split_1705649946806/work/src/learner.cc:742: \n",
      "Parameters: { \"silent\" } are not used.\n",
      "\n",
      "  warnings.warn(smsg, UserWarning)\n",
      "/opt/mamba/lib/python3.11/site-packages/xgboost/core.py:160: UserWarning: [18:29:31] WARNING: /home/conda/feedstock_root/build_artifacts/xgboost-split_1705649946806/work/src/learner.cc:742: \n",
      "Parameters: { \"silent\" } are not used.\n",
      "\n",
      "  warnings.warn(smsg, UserWarning)\n",
      "/opt/mamba/lib/python3.11/site-packages/xgboost/core.py:160: UserWarning: [18:29:31] WARNING: /home/conda/feedstock_root/build_artifacts/xgboost-split_1705649946806/work/src/learner.cc:742: \n",
      "Parameters: { \"silent\" } are not used.\n",
      "\n",
      "  warnings.warn(smsg, UserWarning)\n",
      "/opt/mamba/lib/python3.11/site-packages/xgboost/core.py:160: UserWarning: [18:29:31] WARNING: /home/conda/feedstock_root/build_artifacts/xgboost-split_1705649946806/work/src/learner.cc:742: \n",
      "Parameters: { \"silent\" } are not used.\n",
      "\n",
      "  warnings.warn(smsg, UserWarning)\n",
      "/opt/mamba/lib/python3.11/site-packages/xgboost/core.py:160: UserWarning: [18:29:31] WARNING: /home/conda/feedstock_root/build_artifacts/xgboost-split_1705649946806/work/src/learner.cc:742: \n",
      "Parameters: { \"silent\" } are not used.\n",
      "\n",
      "  warnings.warn(smsg, UserWarning)\n",
      "/opt/mamba/lib/python3.11/site-packages/xgboost/core.py:160: UserWarning: [18:29:31] WARNING: /home/conda/feedstock_root/build_artifacts/xgboost-split_1705649946806/work/src/learner.cc:742: \n",
      "Parameters: { \"silent\" } are not used.\n",
      "\n",
      "  warnings.warn(smsg, UserWarning)\n",
      "/opt/mamba/lib/python3.11/site-packages/xgboost/core.py:160: UserWarning: [18:29:31] WARNING: /home/conda/feedstock_root/build_artifacts/xgboost-split_1705649946806/work/src/learner.cc:742: \n",
      "Parameters: { \"silent\" } are not used.\n",
      "\n",
      "  warnings.warn(smsg, UserWarning)\n",
      "/opt/mamba/lib/python3.11/site-packages/xgboost/core.py:160: UserWarning: [18:29:31] WARNING: /home/conda/feedstock_root/build_artifacts/xgboost-split_1705649946806/work/src/learner.cc:742: \n",
      "Parameters: { \"silent\" } are not used.\n",
      "\n",
      "  warnings.warn(smsg, UserWarning)\n",
      "/opt/mamba/lib/python3.11/site-packages/xgboost/core.py:160: UserWarning: [18:29:31] WARNING: /home/conda/feedstock_root/build_artifacts/xgboost-split_1705649946806/work/src/learner.cc:742: \n",
      "Parameters: { \"silent\" } are not used.\n",
      "\n",
      "  warnings.warn(smsg, UserWarning)\n",
      "/opt/mamba/lib/python3.11/site-packages/xgboost/core.py:160: UserWarning: [18:29:31] WARNING: /home/conda/feedstock_root/build_artifacts/xgboost-split_1705649946806/work/src/learner.cc:742: \n",
      "Parameters: { \"silent\" } are not used.\n",
      "\n",
      "  warnings.warn(smsg, UserWarning)\n",
      "/opt/mamba/lib/python3.11/site-packages/xgboost/core.py:160: UserWarning: [18:29:31] WARNING: /home/conda/feedstock_root/build_artifacts/xgboost-split_1705649946806/work/src/learner.cc:742: \n",
      "Parameters: { \"silent\" } are not used.\n",
      "\n",
      "  warnings.warn(smsg, UserWarning)\n",
      "/opt/mamba/lib/python3.11/site-packages/xgboost/core.py:160: UserWarning: [18:29:31] WARNING: /home/conda/feedstock_root/build_artifacts/xgboost-split_1705649946806/work/src/learner.cc:742: \n",
      "Parameters: { \"silent\" } are not used.\n",
      "\n",
      "  warnings.warn(smsg, UserWarning)\n",
      "/opt/mamba/lib/python3.11/site-packages/xgboost/core.py:160: UserWarning: [18:29:31] WARNING: /home/conda/feedstock_root/build_artifacts/xgboost-split_1705649946806/work/src/learner.cc:742: \n",
      "Parameters: { \"silent\" } are not used.\n",
      "\n",
      "  warnings.warn(smsg, UserWarning)\n",
      "/opt/mamba/lib/python3.11/site-packages/xgboost/core.py:160: UserWarning: [18:29:31] WARNING: /home/conda/feedstock_root/build_artifacts/xgboost-split_1705649946806/work/src/learner.cc:742: \n",
      "Parameters: { \"silent\" } are not used.\n",
      "\n",
      "  warnings.warn(smsg, UserWarning)\n",
      "/opt/mamba/lib/python3.11/site-packages/xgboost/core.py:160: UserWarning: [18:29:31] WARNING: /home/conda/feedstock_root/build_artifacts/xgboost-split_1705649946806/work/src/learner.cc:742: \n",
      "Parameters: { \"silent\" } are not used.\n",
      "\n",
      "  warnings.warn(smsg, UserWarning)\n",
      "/opt/mamba/lib/python3.11/site-packages/xgboost/core.py:160: UserWarning: [18:29:31] WARNING: /home/conda/feedstock_root/build_artifacts/xgboost-split_1705649946806/work/src/learner.cc:742: \n",
      "Parameters: { \"silent\" } are not used.\n",
      "\n",
      "  warnings.warn(smsg, UserWarning)\n",
      "/opt/mamba/lib/python3.11/site-packages/xgboost/core.py:160: UserWarning: [18:29:31] WARNING: /home/conda/feedstock_root/build_artifacts/xgboost-split_1705649946806/work/src/learner.cc:742: \n",
      "Parameters: { \"silent\" } are not used.\n",
      "\n",
      "  warnings.warn(smsg, UserWarning)\n",
      "/opt/mamba/lib/python3.11/site-packages/xgboost/core.py:160: UserWarning: [18:29:31] WARNING: /home/conda/feedstock_root/build_artifacts/xgboost-split_1705649946806/work/src/learner.cc:742: \n",
      "Parameters: { \"silent\" } are not used.\n",
      "\n",
      "  warnings.warn(smsg, UserWarning)\n",
      "/opt/mamba/lib/python3.11/site-packages/xgboost/core.py:160: UserWarning: [18:29:31] WARNING: /home/conda/feedstock_root/build_artifacts/xgboost-split_1705649946806/work/src/learner.cc:742: \n",
      "Parameters: { \"silent\" } are not used.\n",
      "\n",
      "  warnings.warn(smsg, UserWarning)\n",
      "/opt/mamba/lib/python3.11/site-packages/xgboost/core.py:160: UserWarning: [18:29:31] WARNING: /home/conda/feedstock_root/build_artifacts/xgboost-split_1705649946806/work/src/learner.cc:742: \n",
      "Parameters: { \"silent\" } are not used.\n",
      "\n",
      "  warnings.warn(smsg, UserWarning)\n",
      "/opt/mamba/lib/python3.11/site-packages/xgboost/core.py:160: UserWarning: [18:29:31] WARNING: /home/conda/feedstock_root/build_artifacts/xgboost-split_1705649946806/work/src/learner.cc:742: \n",
      "Parameters: { \"silent\" } are not used.\n",
      "\n",
      "  warnings.warn(smsg, UserWarning)\n",
      "/opt/mamba/lib/python3.11/site-packages/xgboost/core.py:160: UserWarning: [18:29:31] WARNING: /home/conda/feedstock_root/build_artifacts/xgboost-split_1705649946806/work/src/learner.cc:742: \n",
      "Parameters: { \"silent\" } are not used.\n",
      "\n",
      "  warnings.warn(smsg, UserWarning)\n",
      "/opt/mamba/lib/python3.11/site-packages/xgboost/core.py:160: UserWarning: [18:29:31] WARNING: /home/conda/feedstock_root/build_artifacts/xgboost-split_1705649946806/work/src/learner.cc:742: \n",
      "Parameters: { \"silent\" } are not used.\n",
      "\n",
      "  warnings.warn(smsg, UserWarning)\n",
      "/opt/mamba/lib/python3.11/site-packages/xgboost/core.py:160: UserWarning: [18:29:31] WARNING: /home/conda/feedstock_root/build_artifacts/xgboost-split_1705649946806/work/src/learner.cc:742: \n",
      "Parameters: { \"silent\" } are not used.\n",
      "\n",
      "  warnings.warn(smsg, UserWarning)\n",
      "/opt/mamba/lib/python3.11/site-packages/xgboost/core.py:160: UserWarning: [18:29:31] WARNING: /home/conda/feedstock_root/build_artifacts/xgboost-split_1705649946806/work/src/learner.cc:742: \n",
      "Parameters: { \"silent\" } are not used.\n",
      "\n",
      "  warnings.warn(smsg, UserWarning)\n",
      "/opt/mamba/lib/python3.11/site-packages/xgboost/core.py:160: UserWarning: [18:29:31] WARNING: /home/conda/feedstock_root/build_artifacts/xgboost-split_1705649946806/work/src/learner.cc:742: \n",
      "Parameters: { \"silent\" } are not used.\n",
      "\n",
      "  warnings.warn(smsg, UserWarning)\n",
      "/opt/mamba/lib/python3.11/site-packages/xgboost/core.py:160: UserWarning: [18:29:31] WARNING: /home/conda/feedstock_root/build_artifacts/xgboost-split_1705649946806/work/src/learner.cc:742: \n",
      "Parameters: { \"silent\" } are not used.\n",
      "\n",
      "  warnings.warn(smsg, UserWarning)\n",
      "/opt/mamba/lib/python3.11/site-packages/xgboost/core.py:160: UserWarning: [18:29:31] WARNING: /home/conda/feedstock_root/build_artifacts/xgboost-split_1705649946806/work/src/learner.cc:742: \n",
      "Parameters: { \"silent\" } are not used.\n",
      "\n",
      "  warnings.warn(smsg, UserWarning)\n",
      "/opt/mamba/lib/python3.11/site-packages/xgboost/core.py:160: UserWarning: [18:29:31] WARNING: /home/conda/feedstock_root/build_artifacts/xgboost-split_1705649946806/work/src/learner.cc:742: \n",
      "Parameters: { \"silent\" } are not used.\n",
      "\n",
      "  warnings.warn(smsg, UserWarning)\n",
      "/opt/mamba/lib/python3.11/site-packages/xgboost/core.py:160: UserWarning: [18:29:31] WARNING: /home/conda/feedstock_root/build_artifacts/xgboost-split_1705649946806/work/src/learner.cc:742: \n",
      "Parameters: { \"silent\" } are not used.\n",
      "\n",
      "  warnings.warn(smsg, UserWarning)\n",
      "/opt/mamba/lib/python3.11/site-packages/xgboost/core.py:160: UserWarning: [18:29:31] WARNING: /home/conda/feedstock_root/build_artifacts/xgboost-split_1705649946806/work/src/learner.cc:742: \n",
      "Parameters: { \"silent\" } are not used.\n",
      "\n",
      "  warnings.warn(smsg, UserWarning)\n",
      "/opt/mamba/lib/python3.11/site-packages/xgboost/core.py:160: UserWarning: [18:29:31] WARNING: /home/conda/feedstock_root/build_artifacts/xgboost-split_1705649946806/work/src/learner.cc:742: \n",
      "Parameters: { \"silent\" } are not used.\n",
      "\n",
      "  warnings.warn(smsg, UserWarning)\n",
      "/opt/mamba/lib/python3.11/site-packages/xgboost/core.py:160: UserWarning: [18:29:31] WARNING: /home/conda/feedstock_root/build_artifacts/xgboost-split_1705649946806/work/src/learner.cc:742: \n",
      "Parameters: { \"silent\" } are not used.\n",
      "\n",
      "  warnings.warn(smsg, UserWarning)\n",
      "/opt/mamba/lib/python3.11/site-packages/xgboost/core.py:160: UserWarning: [18:29:31] WARNING: /home/conda/feedstock_root/build_artifacts/xgboost-split_1705649946806/work/src/learner.cc:742: \n",
      "Parameters: { \"silent\" } are not used.\n",
      "\n",
      "  warnings.warn(smsg, UserWarning)\n",
      "/opt/mamba/lib/python3.11/site-packages/xgboost/core.py:160: UserWarning: [18:29:31] WARNING: /home/conda/feedstock_root/build_artifacts/xgboost-split_1705649946806/work/src/learner.cc:742: \n",
      "Parameters: { \"silent\" } are not used.\n",
      "\n",
      "  warnings.warn(smsg, UserWarning)\n",
      "/opt/mamba/lib/python3.11/site-packages/xgboost/core.py:160: UserWarning: [18:29:31] WARNING: /home/conda/feedstock_root/build_artifacts/xgboost-split_1705649946806/work/src/learner.cc:742: \n",
      "Parameters: { \"silent\" } are not used.\n",
      "\n",
      "  warnings.warn(smsg, UserWarning)\n",
      "/opt/mamba/lib/python3.11/site-packages/xgboost/core.py:160: UserWarning: [18:29:31] WARNING: /home/conda/feedstock_root/build_artifacts/xgboost-split_1705649946806/work/src/learner.cc:742: \n",
      "Parameters: { \"silent\" } are not used.\n",
      "\n",
      "  warnings.warn(smsg, UserWarning)\n",
      "/opt/mamba/lib/python3.11/site-packages/xgboost/core.py:160: UserWarning: [18:29:31] WARNING: /home/conda/feedstock_root/build_artifacts/xgboost-split_1705649946806/work/src/learner.cc:742: \n",
      "Parameters: { \"silent\" } are not used.\n",
      "\n",
      "  warnings.warn(smsg, UserWarning)\n",
      "/opt/mamba/lib/python3.11/site-packages/xgboost/core.py:160: UserWarning: [18:29:31] WARNING: /home/conda/feedstock_root/build_artifacts/xgboost-split_1705649946806/work/src/learner.cc:742: \n",
      "Parameters: { \"silent\" } are not used.\n",
      "\n",
      "  warnings.warn(smsg, UserWarning)\n",
      "/opt/mamba/lib/python3.11/site-packages/xgboost/core.py:160: UserWarning: [18:29:31] WARNING: /home/conda/feedstock_root/build_artifacts/xgboost-split_1705649946806/work/src/learner.cc:742: \n",
      "Parameters: { \"silent\" } are not used.\n",
      "\n",
      "  warnings.warn(smsg, UserWarning)\n",
      "/opt/mamba/lib/python3.11/site-packages/xgboost/core.py:160: UserWarning: [18:29:31] WARNING: /home/conda/feedstock_root/build_artifacts/xgboost-split_1705649946806/work/src/learner.cc:742: \n",
      "Parameters: { \"silent\" } are not used.\n",
      "\n",
      "  warnings.warn(smsg, UserWarning)\n",
      "/opt/mamba/lib/python3.11/site-packages/xgboost/core.py:160: UserWarning: [18:29:31] WARNING: /home/conda/feedstock_root/build_artifacts/xgboost-split_1705649946806/work/src/learner.cc:742: \n",
      "Parameters: { \"silent\" } are not used.\n",
      "\n",
      "  warnings.warn(smsg, UserWarning)\n",
      "/opt/mamba/lib/python3.11/site-packages/xgboost/core.py:160: UserWarning: [18:29:31] WARNING: /home/conda/feedstock_root/build_artifacts/xgboost-split_1705649946806/work/src/learner.cc:742: \n",
      "Parameters: { \"silent\" } are not used.\n",
      "\n",
      "  warnings.warn(smsg, UserWarning)\n",
      "/opt/mamba/lib/python3.11/site-packages/xgboost/core.py:160: UserWarning: [18:29:31] WARNING: /home/conda/feedstock_root/build_artifacts/xgboost-split_1705649946806/work/src/learner.cc:742: \n",
      "Parameters: { \"silent\" } are not used.\n",
      "\n",
      "  warnings.warn(smsg, UserWarning)\n",
      "/opt/mamba/lib/python3.11/site-packages/xgboost/core.py:160: UserWarning: [18:29:31] WARNING: /home/conda/feedstock_root/build_artifacts/xgboost-split_1705649946806/work/src/learner.cc:742: \n",
      "Parameters: { \"silent\" } are not used.\n",
      "\n",
      "  warnings.warn(smsg, UserWarning)\n",
      "/opt/mamba/lib/python3.11/site-packages/xgboost/core.py:160: UserWarning: [18:29:31] WARNING: /home/conda/feedstock_root/build_artifacts/xgboost-split_1705649946806/work/src/learner.cc:742: \n",
      "Parameters: { \"silent\" } are not used.\n",
      "\n",
      "  warnings.warn(smsg, UserWarning)\n",
      "/opt/mamba/lib/python3.11/site-packages/xgboost/core.py:160: UserWarning: [18:29:31] WARNING: /home/conda/feedstock_root/build_artifacts/xgboost-split_1705649946806/work/src/learner.cc:742: \n",
      "Parameters: { \"silent\" } are not used.\n",
      "\n",
      "  warnings.warn(smsg, UserWarning)\n",
      "/opt/mamba/lib/python3.11/site-packages/xgboost/core.py:160: UserWarning: [18:29:31] WARNING: /home/conda/feedstock_root/build_artifacts/xgboost-split_1705649946806/work/src/learner.cc:742: \n",
      "Parameters: { \"silent\" } are not used.\n",
      "\n",
      "  warnings.warn(smsg, UserWarning)\n",
      "/opt/mamba/lib/python3.11/site-packages/xgboost/core.py:160: UserWarning: [18:29:31] WARNING: /home/conda/feedstock_root/build_artifacts/xgboost-split_1705649946806/work/src/learner.cc:742: \n",
      "Parameters: { \"silent\" } are not used.\n",
      "\n",
      "  warnings.warn(smsg, UserWarning)\n",
      "/opt/mamba/lib/python3.11/site-packages/xgboost/core.py:160: UserWarning: [18:29:31] WARNING: /home/conda/feedstock_root/build_artifacts/xgboost-split_1705649946806/work/src/learner.cc:742: \n",
      "Parameters: { \"silent\" } are not used.\n",
      "\n",
      "  warnings.warn(smsg, UserWarning)\n",
      "/opt/mamba/lib/python3.11/site-packages/xgboost/core.py:160: UserWarning: [18:29:31] WARNING: /home/conda/feedstock_root/build_artifacts/xgboost-split_1705649946806/work/src/learner.cc:742: \n",
      "Parameters: { \"silent\" } are not used.\n",
      "\n",
      "  warnings.warn(smsg, UserWarning)\n",
      "/opt/mamba/lib/python3.11/site-packages/xgboost/core.py:160: UserWarning: [18:29:31] WARNING: /home/conda/feedstock_root/build_artifacts/xgboost-split_1705649946806/work/src/learner.cc:742: \n",
      "Parameters: { \"silent\" } are not used.\n",
      "\n",
      "  warnings.warn(smsg, UserWarning)\n",
      "/opt/mamba/lib/python3.11/site-packages/xgboost/core.py:160: UserWarning: [18:29:31] WARNING: /home/conda/feedstock_root/build_artifacts/xgboost-split_1705649946806/work/src/learner.cc:742: \n",
      "Parameters: { \"silent\" } are not used.\n",
      "\n",
      "  warnings.warn(smsg, UserWarning)\n",
      "/opt/mamba/lib/python3.11/site-packages/xgboost/core.py:160: UserWarning: [18:29:31] WARNING: /home/conda/feedstock_root/build_artifacts/xgboost-split_1705649946806/work/src/learner.cc:742: \n",
      "Parameters: { \"silent\" } are not used.\n",
      "\n",
      "  warnings.warn(smsg, UserWarning)\n",
      "/opt/mamba/lib/python3.11/site-packages/xgboost/core.py:160: UserWarning: [18:29:31] WARNING: /home/conda/feedstock_root/build_artifacts/xgboost-split_1705649946806/work/src/learner.cc:742: \n",
      "Parameters: { \"silent\" } are not used.\n",
      "\n",
      "  warnings.warn(smsg, UserWarning)\n",
      "/opt/mamba/lib/python3.11/site-packages/xgboost/core.py:160: UserWarning: [18:29:31] WARNING: /home/conda/feedstock_root/build_artifacts/xgboost-split_1705649946806/work/src/learner.cc:742: \n",
      "Parameters: { \"silent\" } are not used.\n",
      "\n",
      "  warnings.warn(smsg, UserWarning)\n",
      "/opt/mamba/lib/python3.11/site-packages/xgboost/core.py:160: UserWarning: [18:29:31] WARNING: /home/conda/feedstock_root/build_artifacts/xgboost-split_1705649946806/work/src/learner.cc:742: \n",
      "Parameters: { \"silent\" } are not used.\n",
      "\n",
      "  warnings.warn(smsg, UserWarning)\n",
      "/opt/mamba/lib/python3.11/site-packages/xgboost/core.py:160: UserWarning: [18:29:31] WARNING: /home/conda/feedstock_root/build_artifacts/xgboost-split_1705649946806/work/src/learner.cc:742: \n",
      "Parameters: { \"silent\" } are not used.\n",
      "\n",
      "  warnings.warn(smsg, UserWarning)\n",
      "/opt/mamba/lib/python3.11/site-packages/xgboost/core.py:160: UserWarning: [18:29:31] WARNING: /home/conda/feedstock_root/build_artifacts/xgboost-split_1705649946806/work/src/learner.cc:742: \n",
      "Parameters: { \"silent\" } are not used.\n",
      "\n",
      "  warnings.warn(smsg, UserWarning)\n",
      "/opt/mamba/lib/python3.11/site-packages/xgboost/core.py:160: UserWarning: [18:29:31] WARNING: /home/conda/feedstock_root/build_artifacts/xgboost-split_1705649946806/work/src/learner.cc:742: \n",
      "Parameters: { \"silent\" } are not used.\n",
      "\n",
      "  warnings.warn(smsg, UserWarning)\n",
      "/opt/mamba/lib/python3.11/site-packages/xgboost/core.py:160: UserWarning: [18:29:31] WARNING: /home/conda/feedstock_root/build_artifacts/xgboost-split_1705649946806/work/src/learner.cc:742: \n",
      "Parameters: { \"silent\" } are not used.\n",
      "\n",
      "  warnings.warn(smsg, UserWarning)\n",
      "/opt/mamba/lib/python3.11/site-packages/xgboost/core.py:160: UserWarning: [18:29:31] WARNING: /home/conda/feedstock_root/build_artifacts/xgboost-split_1705649946806/work/src/learner.cc:742: \n",
      "Parameters: { \"silent\" } are not used.\n",
      "\n",
      "  warnings.warn(smsg, UserWarning)\n",
      "/opt/mamba/lib/python3.11/site-packages/xgboost/core.py:160: UserWarning: [18:29:31] WARNING: /home/conda/feedstock_root/build_artifacts/xgboost-split_1705649946806/work/src/learner.cc:742: \n",
      "Parameters: { \"silent\" } are not used.\n",
      "\n",
      "  warnings.warn(smsg, UserWarning)\n",
      "/opt/mamba/lib/python3.11/site-packages/xgboost/core.py:160: UserWarning: [18:29:31] WARNING: /home/conda/feedstock_root/build_artifacts/xgboost-split_1705649946806/work/src/learner.cc:742: \n",
      "Parameters: { \"silent\" } are not used.\n",
      "\n",
      "  warnings.warn(smsg, UserWarning)\n",
      "/opt/mamba/lib/python3.11/site-packages/xgboost/core.py:160: UserWarning: [18:29:32] WARNING: /home/conda/feedstock_root/build_artifacts/xgboost-split_1705649946806/work/src/learner.cc:742: \n",
      "Parameters: { \"silent\" } are not used.\n",
      "\n",
      "  warnings.warn(smsg, UserWarning)\n",
      "/opt/mamba/lib/python3.11/site-packages/xgboost/core.py:160: UserWarning: [18:29:32] WARNING: /home/conda/feedstock_root/build_artifacts/xgboost-split_1705649946806/work/src/learner.cc:742: \n",
      "Parameters: { \"silent\" } are not used.\n",
      "\n",
      "  warnings.warn(smsg, UserWarning)\n",
      "/opt/mamba/lib/python3.11/site-packages/xgboost/core.py:160: UserWarning: [18:29:32] WARNING: /home/conda/feedstock_root/build_artifacts/xgboost-split_1705649946806/work/src/learner.cc:742: \n",
      "Parameters: { \"silent\" } are not used.\n",
      "\n",
      "  warnings.warn(smsg, UserWarning)\n",
      "/opt/mamba/lib/python3.11/site-packages/xgboost/core.py:160: UserWarning: [18:29:32] WARNING: /home/conda/feedstock_root/build_artifacts/xgboost-split_1705649946806/work/src/learner.cc:742: \n",
      "Parameters: { \"silent\" } are not used.\n",
      "\n",
      "  warnings.warn(smsg, UserWarning)\n",
      "/opt/mamba/lib/python3.11/site-packages/xgboost/core.py:160: UserWarning: [18:29:32] WARNING: /home/conda/feedstock_root/build_artifacts/xgboost-split_1705649946806/work/src/learner.cc:742: \n",
      "Parameters: { \"silent\" } are not used.\n",
      "\n",
      "  warnings.warn(smsg, UserWarning)\n",
      "/opt/mamba/lib/python3.11/site-packages/xgboost/core.py:160: UserWarning: [18:29:32] WARNING: /home/conda/feedstock_root/build_artifacts/xgboost-split_1705649946806/work/src/learner.cc:742: \n",
      "Parameters: { \"silent\" } are not used.\n",
      "\n",
      "  warnings.warn(smsg, UserWarning)\n",
      "/opt/mamba/lib/python3.11/site-packages/xgboost/core.py:160: UserWarning: [18:29:32] WARNING: /home/conda/feedstock_root/build_artifacts/xgboost-split_1705649946806/work/src/learner.cc:742: \n",
      "Parameters: { \"silent\" } are not used.\n",
      "\n",
      "  warnings.warn(smsg, UserWarning)\n",
      "/opt/mamba/lib/python3.11/site-packages/xgboost/core.py:160: UserWarning: [18:29:32] WARNING: /home/conda/feedstock_root/build_artifacts/xgboost-split_1705649946806/work/src/learner.cc:742: \n",
      "Parameters: { \"silent\" } are not used.\n",
      "\n",
      "  warnings.warn(smsg, UserWarning)\n",
      "/opt/mamba/lib/python3.11/site-packages/xgboost/core.py:160: UserWarning: [18:29:32] WARNING: /home/conda/feedstock_root/build_artifacts/xgboost-split_1705649946806/work/src/learner.cc:742: \n",
      "Parameters: { \"silent\" } are not used.\n",
      "\n",
      "  warnings.warn(smsg, UserWarning)\n",
      "/opt/mamba/lib/python3.11/site-packages/xgboost/core.py:160: UserWarning: [18:29:32] WARNING: /home/conda/feedstock_root/build_artifacts/xgboost-split_1705649946806/work/src/learner.cc:742: \n",
      "Parameters: { \"silent\" } are not used.\n",
      "\n",
      "  warnings.warn(smsg, UserWarning)\n",
      "/opt/mamba/lib/python3.11/site-packages/xgboost/core.py:160: UserWarning: [18:29:32] WARNING: /home/conda/feedstock_root/build_artifacts/xgboost-split_1705649946806/work/src/learner.cc:742: \n",
      "Parameters: { \"silent\" } are not used.\n",
      "\n",
      "  warnings.warn(smsg, UserWarning)\n",
      "/opt/mamba/lib/python3.11/site-packages/xgboost/core.py:160: UserWarning: [18:29:32] WARNING: /home/conda/feedstock_root/build_artifacts/xgboost-split_1705649946806/work/src/learner.cc:742: \n",
      "Parameters: { \"silent\" } are not used.\n",
      "\n",
      "  warnings.warn(smsg, UserWarning)\n",
      "/opt/mamba/lib/python3.11/site-packages/xgboost/core.py:160: UserWarning: [18:29:32] WARNING: /home/conda/feedstock_root/build_artifacts/xgboost-split_1705649946806/work/src/learner.cc:742: \n",
      "Parameters: { \"silent\" } are not used.\n",
      "\n",
      "  warnings.warn(smsg, UserWarning)\n",
      "/opt/mamba/lib/python3.11/site-packages/xgboost/core.py:160: UserWarning: [18:29:32] WARNING: /home/conda/feedstock_root/build_artifacts/xgboost-split_1705649946806/work/src/learner.cc:742: \n",
      "Parameters: { \"silent\" } are not used.\n",
      "\n",
      "  warnings.warn(smsg, UserWarning)\n",
      "/opt/mamba/lib/python3.11/site-packages/xgboost/core.py:160: UserWarning: [18:29:32] WARNING: /home/conda/feedstock_root/build_artifacts/xgboost-split_1705649946806/work/src/learner.cc:742: \n",
      "Parameters: { \"silent\" } are not used.\n",
      "\n",
      "  warnings.warn(smsg, UserWarning)\n",
      "/opt/mamba/lib/python3.11/site-packages/xgboost/core.py:160: UserWarning: [18:29:32] WARNING: /home/conda/feedstock_root/build_artifacts/xgboost-split_1705649946806/work/src/learner.cc:742: \n",
      "Parameters: { \"silent\" } are not used.\n",
      "\n",
      "  warnings.warn(smsg, UserWarning)\n",
      "/opt/mamba/lib/python3.11/site-packages/xgboost/core.py:160: UserWarning: [18:29:32] WARNING: /home/conda/feedstock_root/build_artifacts/xgboost-split_1705649946806/work/src/learner.cc:742: \n",
      "Parameters: { \"silent\" } are not used.\n",
      "\n",
      "  warnings.warn(smsg, UserWarning)\n",
      "/opt/mamba/lib/python3.11/site-packages/xgboost/core.py:160: UserWarning: [18:29:32] WARNING: /home/conda/feedstock_root/build_artifacts/xgboost-split_1705649946806/work/src/learner.cc:742: \n",
      "Parameters: { \"silent\" } are not used.\n",
      "\n",
      "  warnings.warn(smsg, UserWarning)\n",
      "/opt/mamba/lib/python3.11/site-packages/xgboost/core.py:160: UserWarning: [18:29:32] WARNING: /home/conda/feedstock_root/build_artifacts/xgboost-split_1705649946806/work/src/learner.cc:742: \n",
      "Parameters: { \"silent\" } are not used.\n",
      "\n",
      "  warnings.warn(smsg, UserWarning)\n",
      "/opt/mamba/lib/python3.11/site-packages/xgboost/core.py:160: UserWarning: [18:29:32] WARNING: /home/conda/feedstock_root/build_artifacts/xgboost-split_1705649946806/work/src/learner.cc:742: \n",
      "Parameters: { \"silent\" } are not used.\n",
      "\n",
      "  warnings.warn(smsg, UserWarning)\n",
      "/opt/mamba/lib/python3.11/site-packages/xgboost/core.py:160: UserWarning: [18:29:32] WARNING: /home/conda/feedstock_root/build_artifacts/xgboost-split_1705649946806/work/src/learner.cc:742: \n",
      "Parameters: { \"silent\" } are not used.\n",
      "\n",
      "  warnings.warn(smsg, UserWarning)\n",
      "/opt/mamba/lib/python3.11/site-packages/xgboost/core.py:160: UserWarning: [18:29:32] WARNING: /home/conda/feedstock_root/build_artifacts/xgboost-split_1705649946806/work/src/learner.cc:742: \n",
      "Parameters: { \"silent\" } are not used.\n",
      "\n",
      "  warnings.warn(smsg, UserWarning)\n",
      "/opt/mamba/lib/python3.11/site-packages/xgboost/core.py:160: UserWarning: [18:29:32] WARNING: /home/conda/feedstock_root/build_artifacts/xgboost-split_1705649946806/work/src/learner.cc:742: \n",
      "Parameters: { \"silent\" } are not used.\n",
      "\n",
      "  warnings.warn(smsg, UserWarning)\n",
      "/opt/mamba/lib/python3.11/site-packages/xgboost/core.py:160: UserWarning: [18:29:32] WARNING: /home/conda/feedstock_root/build_artifacts/xgboost-split_1705649946806/work/src/learner.cc:742: \n",
      "Parameters: { \"silent\" } are not used.\n",
      "\n",
      "  warnings.warn(smsg, UserWarning)\n",
      "/opt/mamba/lib/python3.11/site-packages/xgboost/core.py:160: UserWarning: [18:29:32] WARNING: /home/conda/feedstock_root/build_artifacts/xgboost-split_1705649946806/work/src/learner.cc:742: \n",
      "Parameters: { \"silent\" } are not used.\n",
      "\n",
      "  warnings.warn(smsg, UserWarning)\n",
      "/opt/mamba/lib/python3.11/site-packages/xgboost/core.py:160: UserWarning: [18:29:32] WARNING: /home/conda/feedstock_root/build_artifacts/xgboost-split_1705649946806/work/src/learner.cc:742: \n",
      "Parameters: { \"silent\" } are not used.\n",
      "\n",
      "  warnings.warn(smsg, UserWarning)\n",
      "/opt/mamba/lib/python3.11/site-packages/xgboost/core.py:160: UserWarning: [18:29:32] WARNING: /home/conda/feedstock_root/build_artifacts/xgboost-split_1705649946806/work/src/learner.cc:742: \n",
      "Parameters: { \"silent\" } are not used.\n",
      "\n",
      "  warnings.warn(smsg, UserWarning)\n",
      "/opt/mamba/lib/python3.11/site-packages/xgboost/core.py:160: UserWarning: [18:29:32] WARNING: /home/conda/feedstock_root/build_artifacts/xgboost-split_1705649946806/work/src/learner.cc:742: \n",
      "Parameters: { \"silent\" } are not used.\n",
      "\n",
      "  warnings.warn(smsg, UserWarning)\n",
      "/opt/mamba/lib/python3.11/site-packages/xgboost/core.py:160: UserWarning: [18:29:32] WARNING: /home/conda/feedstock_root/build_artifacts/xgboost-split_1705649946806/work/src/learner.cc:742: \n",
      "Parameters: { \"silent\" } are not used.\n",
      "\n",
      "  warnings.warn(smsg, UserWarning)\n",
      "/opt/mamba/lib/python3.11/site-packages/xgboost/core.py:160: UserWarning: [18:29:32] WARNING: /home/conda/feedstock_root/build_artifacts/xgboost-split_1705649946806/work/src/learner.cc:742: \n",
      "Parameters: { \"silent\" } are not used.\n",
      "\n",
      "  warnings.warn(smsg, UserWarning)\n",
      "/opt/mamba/lib/python3.11/site-packages/xgboost/core.py:160: UserWarning: [18:29:32] WARNING: /home/conda/feedstock_root/build_artifacts/xgboost-split_1705649946806/work/src/learner.cc:742: \n",
      "Parameters: { \"silent\" } are not used.\n",
      "\n",
      "  warnings.warn(smsg, UserWarning)\n",
      "/opt/mamba/lib/python3.11/site-packages/xgboost/core.py:160: UserWarning: [18:29:32] WARNING: /home/conda/feedstock_root/build_artifacts/xgboost-split_1705649946806/work/src/learner.cc:742: \n",
      "Parameters: { \"silent\" } are not used.\n",
      "\n",
      "  warnings.warn(smsg, UserWarning)\n",
      "/opt/mamba/lib/python3.11/site-packages/xgboost/core.py:160: UserWarning: [18:29:32] WARNING: /home/conda/feedstock_root/build_artifacts/xgboost-split_1705649946806/work/src/learner.cc:742: \n",
      "Parameters: { \"silent\" } are not used.\n",
      "\n",
      "  warnings.warn(smsg, UserWarning)\n",
      "/opt/mamba/lib/python3.11/site-packages/xgboost/core.py:160: UserWarning: [18:29:32] WARNING: /home/conda/feedstock_root/build_artifacts/xgboost-split_1705649946806/work/src/learner.cc:742: \n",
      "Parameters: { \"silent\" } are not used.\n",
      "\n",
      "  warnings.warn(smsg, UserWarning)\n",
      "/opt/mamba/lib/python3.11/site-packages/xgboost/core.py:160: UserWarning: [18:29:32] WARNING: /home/conda/feedstock_root/build_artifacts/xgboost-split_1705649946806/work/src/learner.cc:742: \n",
      "Parameters: { \"silent\" } are not used.\n",
      "\n",
      "  warnings.warn(smsg, UserWarning)\n",
      "/opt/mamba/lib/python3.11/site-packages/xgboost/core.py:160: UserWarning: [18:29:32] WARNING: /home/conda/feedstock_root/build_artifacts/xgboost-split_1705649946806/work/src/learner.cc:742: \n",
      "Parameters: { \"silent\" } are not used.\n",
      "\n",
      "  warnings.warn(smsg, UserWarning)\n",
      "/opt/mamba/lib/python3.11/site-packages/xgboost/core.py:160: UserWarning: [18:29:32] WARNING: /home/conda/feedstock_root/build_artifacts/xgboost-split_1705649946806/work/src/learner.cc:742: \n",
      "Parameters: { \"silent\" } are not used.\n",
      "\n",
      "  warnings.warn(smsg, UserWarning)\n",
      "/opt/mamba/lib/python3.11/site-packages/xgboost/core.py:160: UserWarning: [18:29:32] WARNING: /home/conda/feedstock_root/build_artifacts/xgboost-split_1705649946806/work/src/learner.cc:742: \n",
      "Parameters: { \"silent\" } are not used.\n",
      "\n",
      "  warnings.warn(smsg, UserWarning)\n",
      "/opt/mamba/lib/python3.11/site-packages/xgboost/core.py:160: UserWarning: [18:29:32] WARNING: /home/conda/feedstock_root/build_artifacts/xgboost-split_1705649946806/work/src/learner.cc:742: \n",
      "Parameters: { \"silent\" } are not used.\n",
      "\n",
      "  warnings.warn(smsg, UserWarning)\n",
      "/opt/mamba/lib/python3.11/site-packages/xgboost/core.py:160: UserWarning: [18:29:32] WARNING: /home/conda/feedstock_root/build_artifacts/xgboost-split_1705649946806/work/src/learner.cc:742: \n",
      "Parameters: { \"silent\" } are not used.\n",
      "\n",
      "  warnings.warn(smsg, UserWarning)\n",
      "/opt/mamba/lib/python3.11/site-packages/xgboost/core.py:160: UserWarning: [18:29:32] WARNING: /home/conda/feedstock_root/build_artifacts/xgboost-split_1705649946806/work/src/learner.cc:742: \n",
      "Parameters: { \"silent\" } are not used.\n",
      "\n",
      "  warnings.warn(smsg, UserWarning)\n",
      "/opt/mamba/lib/python3.11/site-packages/xgboost/core.py:160: UserWarning: [18:29:32] WARNING: /home/conda/feedstock_root/build_artifacts/xgboost-split_1705649946806/work/src/learner.cc:742: \n",
      "Parameters: { \"silent\" } are not used.\n",
      "\n",
      "  warnings.warn(smsg, UserWarning)\n",
      "/opt/mamba/lib/python3.11/site-packages/xgboost/core.py:160: UserWarning: [18:29:32] WARNING: /home/conda/feedstock_root/build_artifacts/xgboost-split_1705649946806/work/src/learner.cc:742: \n",
      "Parameters: { \"silent\" } are not used.\n",
      "\n",
      "  warnings.warn(smsg, UserWarning)\n",
      "/opt/mamba/lib/python3.11/site-packages/xgboost/core.py:160: UserWarning: [18:29:32] WARNING: /home/conda/feedstock_root/build_artifacts/xgboost-split_1705649946806/work/src/learner.cc:742: \n",
      "Parameters: { \"silent\" } are not used.\n",
      "\n",
      "  warnings.warn(smsg, UserWarning)\n",
      "/opt/mamba/lib/python3.11/site-packages/xgboost/core.py:160: UserWarning: [18:29:32] WARNING: /home/conda/feedstock_root/build_artifacts/xgboost-split_1705649946806/work/src/learner.cc:742: \n",
      "Parameters: { \"silent\" } are not used.\n",
      "\n",
      "  warnings.warn(smsg, UserWarning)\n",
      "/opt/mamba/lib/python3.11/site-packages/xgboost/core.py:160: UserWarning: [18:29:32] WARNING: /home/conda/feedstock_root/build_artifacts/xgboost-split_1705649946806/work/src/learner.cc:742: \n",
      "Parameters: { \"silent\" } are not used.\n",
      "\n",
      "  warnings.warn(smsg, UserWarning)\n",
      "/opt/mamba/lib/python3.11/site-packages/xgboost/core.py:160: UserWarning: [18:29:32] WARNING: /home/conda/feedstock_root/build_artifacts/xgboost-split_1705649946806/work/src/learner.cc:742: \n",
      "Parameters: { \"silent\" } are not used.\n",
      "\n",
      "  warnings.warn(smsg, UserWarning)\n",
      "/opt/mamba/lib/python3.11/site-packages/xgboost/core.py:160: UserWarning: [18:29:32] WARNING: /home/conda/feedstock_root/build_artifacts/xgboost-split_1705649946806/work/src/learner.cc:742: \n",
      "Parameters: { \"silent\" } are not used.\n",
      "\n",
      "  warnings.warn(smsg, UserWarning)\n",
      "/opt/mamba/lib/python3.11/site-packages/xgboost/core.py:160: UserWarning: [18:29:32] WARNING: /home/conda/feedstock_root/build_artifacts/xgboost-split_1705649946806/work/src/learner.cc:742: \n",
      "Parameters: { \"silent\" } are not used.\n",
      "\n",
      "  warnings.warn(smsg, UserWarning)\n",
      "/opt/mamba/lib/python3.11/site-packages/xgboost/core.py:160: UserWarning: [18:29:32] WARNING: /home/conda/feedstock_root/build_artifacts/xgboost-split_1705649946806/work/src/learner.cc:742: \n",
      "Parameters: { \"silent\" } are not used.\n",
      "\n",
      "  warnings.warn(smsg, UserWarning)\n",
      "/opt/mamba/lib/python3.11/site-packages/xgboost/core.py:160: UserWarning: [18:29:32] WARNING: /home/conda/feedstock_root/build_artifacts/xgboost-split_1705649946806/work/src/learner.cc:742: \n",
      "Parameters: { \"silent\" } are not used.\n",
      "\n",
      "  warnings.warn(smsg, UserWarning)\n",
      "/opt/mamba/lib/python3.11/site-packages/xgboost/core.py:160: UserWarning: [18:29:32] WARNING: /home/conda/feedstock_root/build_artifacts/xgboost-split_1705649946806/work/src/learner.cc:742: \n",
      "Parameters: { \"silent\" } are not used.\n",
      "\n",
      "  warnings.warn(smsg, UserWarning)\n",
      "/opt/mamba/lib/python3.11/site-packages/xgboost/core.py:160: UserWarning: [18:29:32] WARNING: /home/conda/feedstock_root/build_artifacts/xgboost-split_1705649946806/work/src/learner.cc:742: \n",
      "Parameters: { \"silent\" } are not used.\n",
      "\n",
      "  warnings.warn(smsg, UserWarning)\n",
      "/opt/mamba/lib/python3.11/site-packages/xgboost/core.py:160: UserWarning: [18:29:32] WARNING: /home/conda/feedstock_root/build_artifacts/xgboost-split_1705649946806/work/src/learner.cc:742: \n",
      "Parameters: { \"silent\" } are not used.\n",
      "\n",
      "  warnings.warn(smsg, UserWarning)\n",
      "/opt/mamba/lib/python3.11/site-packages/xgboost/core.py:160: UserWarning: [18:29:32] WARNING: /home/conda/feedstock_root/build_artifacts/xgboost-split_1705649946806/work/src/learner.cc:742: \n",
      "Parameters: { \"silent\" } are not used.\n",
      "\n",
      "  warnings.warn(smsg, UserWarning)\n",
      "/opt/mamba/lib/python3.11/site-packages/xgboost/core.py:160: UserWarning: [18:29:32] WARNING: /home/conda/feedstock_root/build_artifacts/xgboost-split_1705649946806/work/src/learner.cc:742: \n",
      "Parameters: { \"silent\" } are not used.\n",
      "\n",
      "  warnings.warn(smsg, UserWarning)\n",
      "/opt/mamba/lib/python3.11/site-packages/xgboost/core.py:160: UserWarning: [18:29:32] WARNING: /home/conda/feedstock_root/build_artifacts/xgboost-split_1705649946806/work/src/learner.cc:742: \n",
      "Parameters: { \"silent\" } are not used.\n",
      "\n",
      "  warnings.warn(smsg, UserWarning)\n",
      "/opt/mamba/lib/python3.11/site-packages/xgboost/core.py:160: UserWarning: [18:29:32] WARNING: /home/conda/feedstock_root/build_artifacts/xgboost-split_1705649946806/work/src/learner.cc:742: \n",
      "Parameters: { \"silent\" } are not used.\n",
      "\n",
      "  warnings.warn(smsg, UserWarning)\n",
      "/opt/mamba/lib/python3.11/site-packages/xgboost/core.py:160: UserWarning: [18:29:32] WARNING: /home/conda/feedstock_root/build_artifacts/xgboost-split_1705649946806/work/src/learner.cc:742: \n",
      "Parameters: { \"silent\" } are not used.\n",
      "\n",
      "  warnings.warn(smsg, UserWarning)\n",
      "/opt/mamba/lib/python3.11/site-packages/xgboost/core.py:160: UserWarning: [18:29:32] WARNING: /home/conda/feedstock_root/build_artifacts/xgboost-split_1705649946806/work/src/learner.cc:742: \n",
      "Parameters: { \"silent\" } are not used.\n",
      "\n",
      "  warnings.warn(smsg, UserWarning)\n",
      "/opt/mamba/lib/python3.11/site-packages/xgboost/core.py:160: UserWarning: [18:29:32] WARNING: /home/conda/feedstock_root/build_artifacts/xgboost-split_1705649946806/work/src/learner.cc:742: \n",
      "Parameters: { \"silent\" } are not used.\n",
      "\n",
      "  warnings.warn(smsg, UserWarning)\n",
      "/opt/mamba/lib/python3.11/site-packages/xgboost/core.py:160: UserWarning: [18:29:32] WARNING: /home/conda/feedstock_root/build_artifacts/xgboost-split_1705649946806/work/src/learner.cc:742: \n",
      "Parameters: { \"silent\" } are not used.\n",
      "\n",
      "  warnings.warn(smsg, UserWarning)\n",
      "/opt/mamba/lib/python3.11/site-packages/xgboost/core.py:160: UserWarning: [18:29:32] WARNING: /home/conda/feedstock_root/build_artifacts/xgboost-split_1705649946806/work/src/learner.cc:742: \n",
      "Parameters: { \"silent\" } are not used.\n",
      "\n",
      "  warnings.warn(smsg, UserWarning)\n",
      "/opt/mamba/lib/python3.11/site-packages/xgboost/core.py:160: UserWarning: [18:29:32] WARNING: /home/conda/feedstock_root/build_artifacts/xgboost-split_1705649946806/work/src/learner.cc:742: \n",
      "Parameters: { \"silent\" } are not used.\n",
      "\n",
      "  warnings.warn(smsg, UserWarning)\n",
      "/opt/mamba/lib/python3.11/site-packages/xgboost/core.py:160: UserWarning: [18:29:32] WARNING: /home/conda/feedstock_root/build_artifacts/xgboost-split_1705649946806/work/src/learner.cc:742: \n",
      "Parameters: { \"silent\" } are not used.\n",
      "\n",
      "  warnings.warn(smsg, UserWarning)\n",
      "/opt/mamba/lib/python3.11/site-packages/xgboost/core.py:160: UserWarning: [18:29:32] WARNING: /home/conda/feedstock_root/build_artifacts/xgboost-split_1705649946806/work/src/learner.cc:742: \n",
      "Parameters: { \"silent\" } are not used.\n",
      "\n",
      "  warnings.warn(smsg, UserWarning)\n",
      "/opt/mamba/lib/python3.11/site-packages/xgboost/core.py:160: UserWarning: [18:29:32] WARNING: /home/conda/feedstock_root/build_artifacts/xgboost-split_1705649946806/work/src/learner.cc:742: \n",
      "Parameters: { \"silent\" } are not used.\n",
      "\n",
      "  warnings.warn(smsg, UserWarning)\n",
      "/opt/mamba/lib/python3.11/site-packages/xgboost/core.py:160: UserWarning: [18:29:32] WARNING: /home/conda/feedstock_root/build_artifacts/xgboost-split_1705649946806/work/src/learner.cc:742: \n",
      "Parameters: { \"silent\" } are not used.\n",
      "\n",
      "  warnings.warn(smsg, UserWarning)\n",
      "/opt/mamba/lib/python3.11/site-packages/xgboost/core.py:160: UserWarning: [18:29:32] WARNING: /home/conda/feedstock_root/build_artifacts/xgboost-split_1705649946806/work/src/learner.cc:742: \n",
      "Parameters: { \"silent\" } are not used.\n",
      "\n",
      "  warnings.warn(smsg, UserWarning)\n",
      "/opt/mamba/lib/python3.11/site-packages/xgboost/core.py:160: UserWarning: [18:29:32] WARNING: /home/conda/feedstock_root/build_artifacts/xgboost-split_1705649946806/work/src/learner.cc:742: \n",
      "Parameters: { \"silent\" } are not used.\n",
      "\n",
      "  warnings.warn(smsg, UserWarning)\n",
      "/opt/mamba/lib/python3.11/site-packages/xgboost/core.py:160: UserWarning: [18:29:32] WARNING: /home/conda/feedstock_root/build_artifacts/xgboost-split_1705649946806/work/src/learner.cc:742: \n",
      "Parameters: { \"silent\" } are not used.\n",
      "\n",
      "  warnings.warn(smsg, UserWarning)\n",
      "/opt/mamba/lib/python3.11/site-packages/xgboost/core.py:160: UserWarning: [18:29:32] WARNING: /home/conda/feedstock_root/build_artifacts/xgboost-split_1705649946806/work/src/learner.cc:742: \n",
      "Parameters: { \"silent\" } are not used.\n",
      "\n",
      "  warnings.warn(smsg, UserWarning)\n",
      "/opt/mamba/lib/python3.11/site-packages/xgboost/core.py:160: UserWarning: [18:29:32] WARNING: /home/conda/feedstock_root/build_artifacts/xgboost-split_1705649946806/work/src/learner.cc:742: \n",
      "Parameters: { \"silent\" } are not used.\n",
      "\n",
      "  warnings.warn(smsg, UserWarning)\n",
      "/opt/mamba/lib/python3.11/site-packages/xgboost/core.py:160: UserWarning: [18:29:32] WARNING: /home/conda/feedstock_root/build_artifacts/xgboost-split_1705649946806/work/src/learner.cc:742: \n",
      "Parameters: { \"silent\" } are not used.\n",
      "\n",
      "  warnings.warn(smsg, UserWarning)\n",
      "/opt/mamba/lib/python3.11/site-packages/xgboost/core.py:160: UserWarning: [18:29:32] WARNING: /home/conda/feedstock_root/build_artifacts/xgboost-split_1705649946806/work/src/learner.cc:742: \n",
      "Parameters: { \"silent\" } are not used.\n",
      "\n",
      "  warnings.warn(smsg, UserWarning)\n",
      "/opt/mamba/lib/python3.11/site-packages/xgboost/core.py:160: UserWarning: [18:29:32] WARNING: /home/conda/feedstock_root/build_artifacts/xgboost-split_1705649946806/work/src/learner.cc:742: \n",
      "Parameters: { \"silent\" } are not used.\n",
      "\n",
      "  warnings.warn(smsg, UserWarning)\n",
      "/opt/mamba/lib/python3.11/site-packages/xgboost/core.py:160: UserWarning: [18:29:32] WARNING: /home/conda/feedstock_root/build_artifacts/xgboost-split_1705649946806/work/src/learner.cc:742: \n",
      "Parameters: { \"silent\" } are not used.\n",
      "\n",
      "  warnings.warn(smsg, UserWarning)\n",
      "/opt/mamba/lib/python3.11/site-packages/xgboost/core.py:160: UserWarning: [18:29:32] WARNING: /home/conda/feedstock_root/build_artifacts/xgboost-split_1705649946806/work/src/learner.cc:742: \n",
      "Parameters: { \"silent\" } are not used.\n",
      "\n",
      "  warnings.warn(smsg, UserWarning)\n",
      "/opt/mamba/lib/python3.11/site-packages/xgboost/core.py:160: UserWarning: [18:29:32] WARNING: /home/conda/feedstock_root/build_artifacts/xgboost-split_1705649946806/work/src/learner.cc:742: \n",
      "Parameters: { \"silent\" } are not used.\n",
      "\n",
      "  warnings.warn(smsg, UserWarning)\n",
      "/opt/mamba/lib/python3.11/site-packages/xgboost/core.py:160: UserWarning: [18:29:32] WARNING: /home/conda/feedstock_root/build_artifacts/xgboost-split_1705649946806/work/src/learner.cc:742: \n",
      "Parameters: { \"silent\" } are not used.\n",
      "\n",
      "  warnings.warn(smsg, UserWarning)\n",
      "/opt/mamba/lib/python3.11/site-packages/xgboost/core.py:160: UserWarning: [18:29:32] WARNING: /home/conda/feedstock_root/build_artifacts/xgboost-split_1705649946806/work/src/learner.cc:742: \n",
      "Parameters: { \"silent\" } are not used.\n",
      "\n",
      "  warnings.warn(smsg, UserWarning)\n",
      "/opt/mamba/lib/python3.11/site-packages/xgboost/core.py:160: UserWarning: [18:29:32] WARNING: /home/conda/feedstock_root/build_artifacts/xgboost-split_1705649946806/work/src/learner.cc:742: \n",
      "Parameters: { \"silent\" } are not used.\n",
      "\n",
      "  warnings.warn(smsg, UserWarning)\n",
      "/opt/mamba/lib/python3.11/site-packages/xgboost/core.py:160: UserWarning: [18:29:32] WARNING: /home/conda/feedstock_root/build_artifacts/xgboost-split_1705649946806/work/src/learner.cc:742: \n",
      "Parameters: { \"silent\" } are not used.\n",
      "\n",
      "  warnings.warn(smsg, UserWarning)\n",
      "/opt/mamba/lib/python3.11/site-packages/xgboost/core.py:160: UserWarning: [18:29:32] WARNING: /home/conda/feedstock_root/build_artifacts/xgboost-split_1705649946806/work/src/learner.cc:742: \n",
      "Parameters: { \"silent\" } are not used.\n",
      "\n",
      "  warnings.warn(smsg, UserWarning)\n",
      "/opt/mamba/lib/python3.11/site-packages/xgboost/core.py:160: UserWarning: [18:29:32] WARNING: /home/conda/feedstock_root/build_artifacts/xgboost-split_1705649946806/work/src/learner.cc:742: \n",
      "Parameters: { \"silent\" } are not used.\n",
      "\n",
      "  warnings.warn(smsg, UserWarning)\n",
      "/opt/mamba/lib/python3.11/site-packages/xgboost/core.py:160: UserWarning: [18:29:32] WARNING: /home/conda/feedstock_root/build_artifacts/xgboost-split_1705649946806/work/src/learner.cc:742: \n",
      "Parameters: { \"silent\" } are not used.\n",
      "\n",
      "  warnings.warn(smsg, UserWarning)\n",
      "/opt/mamba/lib/python3.11/site-packages/xgboost/core.py:160: UserWarning: [18:29:32] WARNING: /home/conda/feedstock_root/build_artifacts/xgboost-split_1705649946806/work/src/learner.cc:742: \n",
      "Parameters: { \"silent\" } are not used.\n",
      "\n",
      "  warnings.warn(smsg, UserWarning)\n",
      "/opt/mamba/lib/python3.11/site-packages/xgboost/core.py:160: UserWarning: [18:29:32] WARNING: /home/conda/feedstock_root/build_artifacts/xgboost-split_1705649946806/work/src/learner.cc:742: \n",
      "Parameters: { \"silent\" } are not used.\n",
      "\n",
      "  warnings.warn(smsg, UserWarning)\n",
      "/opt/mamba/lib/python3.11/site-packages/xgboost/core.py:160: UserWarning: [18:29:32] WARNING: /home/conda/feedstock_root/build_artifacts/xgboost-split_1705649946806/work/src/learner.cc:742: \n",
      "Parameters: { \"silent\" } are not used.\n",
      "\n",
      "  warnings.warn(smsg, UserWarning)\n",
      "/opt/mamba/lib/python3.11/site-packages/xgboost/core.py:160: UserWarning: [18:29:32] WARNING: /home/conda/feedstock_root/build_artifacts/xgboost-split_1705649946806/work/src/learner.cc:742: \n",
      "Parameters: { \"silent\" } are not used.\n",
      "\n",
      "  warnings.warn(smsg, UserWarning)\n",
      "/opt/mamba/lib/python3.11/site-packages/xgboost/core.py:160: UserWarning: [18:29:32] WARNING: /home/conda/feedstock_root/build_artifacts/xgboost-split_1705649946806/work/src/learner.cc:742: \n",
      "Parameters: { \"silent\" } are not used.\n",
      "\n",
      "  warnings.warn(smsg, UserWarning)\n",
      "/opt/mamba/lib/python3.11/site-packages/xgboost/core.py:160: UserWarning: [18:29:32] WARNING: /home/conda/feedstock_root/build_artifacts/xgboost-split_1705649946806/work/src/learner.cc:742: \n",
      "Parameters: { \"silent\" } are not used.\n",
      "\n",
      "  warnings.warn(smsg, UserWarning)\n",
      "/opt/mamba/lib/python3.11/site-packages/xgboost/core.py:160: UserWarning: [18:29:32] WARNING: /home/conda/feedstock_root/build_artifacts/xgboost-split_1705649946806/work/src/learner.cc:742: \n",
      "Parameters: { \"silent\" } are not used.\n",
      "\n",
      "  warnings.warn(smsg, UserWarning)\n",
      "/opt/mamba/lib/python3.11/site-packages/xgboost/core.py:160: UserWarning: [18:29:32] WARNING: /home/conda/feedstock_root/build_artifacts/xgboost-split_1705649946806/work/src/learner.cc:742: \n",
      "Parameters: { \"silent\" } are not used.\n",
      "\n",
      "  warnings.warn(smsg, UserWarning)\n",
      "/opt/mamba/lib/python3.11/site-packages/xgboost/core.py:160: UserWarning: [18:29:32] WARNING: /home/conda/feedstock_root/build_artifacts/xgboost-split_1705649946806/work/src/learner.cc:742: \n",
      "Parameters: { \"silent\" } are not used.\n",
      "\n",
      "  warnings.warn(smsg, UserWarning)\n",
      "/opt/mamba/lib/python3.11/site-packages/xgboost/core.py:160: UserWarning: [18:29:32] WARNING: /home/conda/feedstock_root/build_artifacts/xgboost-split_1705649946806/work/src/learner.cc:742: \n",
      "Parameters: { \"silent\" } are not used.\n",
      "\n",
      "  warnings.warn(smsg, UserWarning)\n",
      "/opt/mamba/lib/python3.11/site-packages/xgboost/core.py:160: UserWarning: [18:29:32] WARNING: /home/conda/feedstock_root/build_artifacts/xgboost-split_1705649946806/work/src/learner.cc:742: \n",
      "Parameters: { \"silent\" } are not used.\n",
      "\n",
      "  warnings.warn(smsg, UserWarning)\n",
      "/opt/mamba/lib/python3.11/site-packages/xgboost/core.py:160: UserWarning: [18:29:32] WARNING: /home/conda/feedstock_root/build_artifacts/xgboost-split_1705649946806/work/src/learner.cc:742: \n",
      "Parameters: { \"silent\" } are not used.\n",
      "\n",
      "  warnings.warn(smsg, UserWarning)\n",
      "/opt/mamba/lib/python3.11/site-packages/xgboost/core.py:160: UserWarning: [18:29:32] WARNING: /home/conda/feedstock_root/build_artifacts/xgboost-split_1705649946806/work/src/learner.cc:742: \n",
      "Parameters: { \"silent\" } are not used.\n",
      "\n",
      "  warnings.warn(smsg, UserWarning)\n",
      "/opt/mamba/lib/python3.11/site-packages/xgboost/core.py:160: UserWarning: [18:29:32] WARNING: /home/conda/feedstock_root/build_artifacts/xgboost-split_1705649946806/work/src/learner.cc:742: \n",
      "Parameters: { \"silent\" } are not used.\n",
      "\n",
      "  warnings.warn(smsg, UserWarning)\n",
      "/opt/mamba/lib/python3.11/site-packages/xgboost/core.py:160: UserWarning: [18:29:32] WARNING: /home/conda/feedstock_root/build_artifacts/xgboost-split_1705649946806/work/src/learner.cc:742: \n",
      "Parameters: { \"silent\" } are not used.\n",
      "\n",
      "  warnings.warn(smsg, UserWarning)\n",
      "/opt/mamba/lib/python3.11/site-packages/xgboost/core.py:160: UserWarning: [18:29:32] WARNING: /home/conda/feedstock_root/build_artifacts/xgboost-split_1705649946806/work/src/learner.cc:742: \n",
      "Parameters: { \"silent\" } are not used.\n",
      "\n",
      "  warnings.warn(smsg, UserWarning)\n",
      "/opt/mamba/lib/python3.11/site-packages/xgboost/core.py:160: UserWarning: [18:29:32] WARNING: /home/conda/feedstock_root/build_artifacts/xgboost-split_1705649946806/work/src/learner.cc:742: \n",
      "Parameters: { \"silent\" } are not used.\n",
      "\n",
      "  warnings.warn(smsg, UserWarning)\n",
      "/opt/mamba/lib/python3.11/site-packages/xgboost/core.py:160: UserWarning: [18:29:32] WARNING: /home/conda/feedstock_root/build_artifacts/xgboost-split_1705649946806/work/src/learner.cc:742: \n",
      "Parameters: { \"silent\" } are not used.\n",
      "\n",
      "  warnings.warn(smsg, UserWarning)\n",
      "/opt/mamba/lib/python3.11/site-packages/xgboost/core.py:160: UserWarning: [18:29:32] WARNING: /home/conda/feedstock_root/build_artifacts/xgboost-split_1705649946806/work/src/learner.cc:742: \n",
      "Parameters: { \"silent\" } are not used.\n",
      "\n",
      "  warnings.warn(smsg, UserWarning)\n",
      "/opt/mamba/lib/python3.11/site-packages/xgboost/core.py:160: UserWarning: [18:29:32] WARNING: /home/conda/feedstock_root/build_artifacts/xgboost-split_1705649946806/work/src/learner.cc:742: \n",
      "Parameters: { \"silent\" } are not used.\n",
      "\n",
      "  warnings.warn(smsg, UserWarning)\n",
      "/opt/mamba/lib/python3.11/site-packages/xgboost/core.py:160: UserWarning: [18:29:32] WARNING: /home/conda/feedstock_root/build_artifacts/xgboost-split_1705649946806/work/src/learner.cc:742: \n",
      "Parameters: { \"silent\" } are not used.\n",
      "\n",
      "  warnings.warn(smsg, UserWarning)\n",
      "/opt/mamba/lib/python3.11/site-packages/xgboost/core.py:160: UserWarning: [18:29:32] WARNING: /home/conda/feedstock_root/build_artifacts/xgboost-split_1705649946806/work/src/learner.cc:742: \n",
      "Parameters: { \"silent\" } are not used.\n",
      "\n",
      "  warnings.warn(smsg, UserWarning)\n",
      "/opt/mamba/lib/python3.11/site-packages/xgboost/core.py:160: UserWarning: [18:29:32] WARNING: /home/conda/feedstock_root/build_artifacts/xgboost-split_1705649946806/work/src/learner.cc:742: \n",
      "Parameters: { \"silent\" } are not used.\n",
      "\n",
      "  warnings.warn(smsg, UserWarning)\n",
      "/opt/mamba/lib/python3.11/site-packages/xgboost/core.py:160: UserWarning: [18:29:32] WARNING: /home/conda/feedstock_root/build_artifacts/xgboost-split_1705649946806/work/src/learner.cc:742: \n",
      "Parameters: { \"silent\" } are not used.\n",
      "\n",
      "  warnings.warn(smsg, UserWarning)\n",
      "/opt/mamba/lib/python3.11/site-packages/xgboost/core.py:160: UserWarning: [18:29:32] WARNING: /home/conda/feedstock_root/build_artifacts/xgboost-split_1705649946806/work/src/learner.cc:742: \n",
      "Parameters: { \"silent\" } are not used.\n",
      "\n",
      "  warnings.warn(smsg, UserWarning)\n",
      "/opt/mamba/lib/python3.11/site-packages/xgboost/core.py:160: UserWarning: [18:29:32] WARNING: /home/conda/feedstock_root/build_artifacts/xgboost-split_1705649946806/work/src/learner.cc:742: \n",
      "Parameters: { \"silent\" } are not used.\n",
      "\n",
      "  warnings.warn(smsg, UserWarning)\n"
     ]
    },
    {
     "name": "stdout",
     "output_type": "stream",
     "text": [
      "Best parameters: {'colsample_bytree': 0.7, 'learning_rate': 0.03, 'max_depth': 5, 'min_child_weight': 4, 'n_estimators': 500, 'objective': 'reg:squarederror', 'silent': 1, 'subsample': 0.7}\n"
     ]
    },
    {
     "data": {
      "text/html": [
       "<div>\n",
       "<style scoped>\n",
       "    .dataframe tbody tr th:only-of-type {\n",
       "        vertical-align: middle;\n",
       "    }\n",
       "\n",
       "    .dataframe tbody tr th {\n",
       "        vertical-align: top;\n",
       "    }\n",
       "\n",
       "    .dataframe thead th {\n",
       "        text-align: right;\n",
       "    }\n",
       "</style>\n",
       "<table border=\"1\" class=\"dataframe\">\n",
       "  <thead>\n",
       "    <tr style=\"text-align: right;\">\n",
       "      <th></th>\n",
       "      <th>ExpID</th>\n",
       "      <th>Train RMSLE</th>\n",
       "      <th>Test RMSLE</th>\n",
       "      <th>Dollars Over</th>\n",
       "      <th>Train Time(s)</th>\n",
       "      <th>Experiment description</th>\n",
       "    </tr>\n",
       "  </thead>\n",
       "  <tbody>\n",
       "    <tr>\n",
       "      <th>1</th>\n",
       "      <td>Initial Search</td>\n",
       "      <td>0.10</td>\n",
       "      <td>1.17</td>\n",
       "      <td>1.171937e+09</td>\n",
       "      <td>0.0058</td>\n",
       "      <td>Untuned linear</td>\n",
       "    </tr>\n",
       "    <tr>\n",
       "      <th>2</th>\n",
       "      <td>Initial Search</td>\n",
       "      <td>0.71</td>\n",
       "      <td>0.90</td>\n",
       "      <td>8.957458e+08</td>\n",
       "      <td>0.1527</td>\n",
       "      <td>Untuned kn</td>\n",
       "    </tr>\n",
       "    <tr>\n",
       "      <th>3</th>\n",
       "      <td>Best Model: XGB Regressor</td>\n",
       "      <td>-0.02</td>\n",
       "      <td>0.01</td>\n",
       "      <td>1.177095e+07</td>\n",
       "      <td>3.8517</td>\n",
       "      <td>XGB Regressor</td>\n",
       "    </tr>\n",
       "    <tr>\n",
       "      <th>4</th>\n",
       "      <td>Best Model: XGB Regressor</td>\n",
       "      <td>-0.02</td>\n",
       "      <td>0.01</td>\n",
       "      <td>1.177095e+07</td>\n",
       "      <td>2.5257</td>\n",
       "      <td>XGB Regressor</td>\n",
       "    </tr>\n",
       "  </tbody>\n",
       "</table>\n",
       "</div>"
      ],
      "text/plain": [
       "                       ExpID  Train RMSLE  Test RMSLE  Dollars Over  \\\n",
       "1             Initial Search         0.10        1.17  1.171937e+09   \n",
       "2             Initial Search         0.71        0.90  8.957458e+08   \n",
       "3  Best Model: XGB Regressor        -0.02        0.01  1.177095e+07   \n",
       "4  Best Model: XGB Regressor        -0.02        0.01  1.177095e+07   \n",
       "\n",
       "   Train Time(s) Experiment description  \n",
       "1         0.0058         Untuned linear  \n",
       "2         0.1527             Untuned kn  \n",
       "3         3.8517          XGB Regressor  \n",
       "4         2.5257          XGB Regressor  "
      ]
     },
     "metadata": {},
     "output_type": "display_data"
    }
   ],
   "source": [
    "from sklearn.model_selection import GridSearchCV\n",
    "from xgboost.sklearn import XGBRegressor\n",
    "start = time()\n",
    "xgb1 = XGBRegressor()\n",
    "parameters = {'objective':['reg:squarederror'],\n",
    "              'learning_rate': [.03, 0.05, .07], #so called `eta` value\n",
    "              'max_depth': [5, 6, 7],\n",
    "              'min_child_weight': [3,4],\n",
    "              'silent': [1],\n",
    "              'subsample': [0.7,0.8,0.9],\n",
    "              'colsample_bytree': [0.7],\n",
    "              'n_estimators': [500,1000,2800]}\n",
    "\n",
    "grid = GridSearchCV(xgb1,\n",
    "                    parameters,\n",
    "                    cv = 2,\n",
    "                    n_jobs = -1,\n",
    "                    verbose=True)\n",
    "\n",
    "\n",
    "grid.fit(X_train, y_train)\n",
    "print(\"Best parameters: {}\".format(grid.best_params_))\n",
    "train_time = np.round(time() - start, 4)\n",
    "train_rmsle = grid.best_score_\n",
    "y_pred = grid.predict(X_test)\n",
    "test_rmsle = rmsle(y_test, y_pred)\n",
    "test_mape = mean_absolute_percentage_error(y_test, y_pred)\n",
    "dollarsover= test_rmsle*1000000000\n",
    "results.loc[results.shape[0]+1] = ['Best Model: XGB Regressor', np.round(train_rmsle,2), np.round(test_rmsle,2),np.round(dollarsover),\n",
    "                                   train_time, \"XGB Regressor\"]\n",
    "display(results)"
   ]
  },
  {
   "cell_type": "markdown",
   "metadata": {},
   "source": [
    "## Kaggle Submission"
   ]
  },
  {
   "cell_type": "code",
   "execution_count": 66,
   "metadata": {},
   "outputs": [],
   "source": [
    "\n",
    "test_std = data_pipeline.transform(df_test)\n",
    "final_model = XGBRegressor(objective = 'reg:squarederror',\n",
    "                                  eta = 0.01,\n",
    "                                  max_depth = 6,\n",
    "                                  min_child_weight = 3,\n",
    "                                  subsample = 0.8,\n",
    "                                  colsample_bytree = 0.7,\n",
    "                                  eval_metric = 'rmse',\n",
    "                                  seed = 1,\n",
    "                                  n_estimators = 2800)\n",
    "final_model.fit(X_std, y_std)\n",
    "predictions = np.expm1(final_model.predict(test_std))\n",
    "pd.DataFrame({'revenue': predictions.reshape(-1,)}, index=df_test.id).to_csv('best_model_xgb.csv')"
   ]
  },
  {
   "cell_type": "markdown",
   "metadata": {},
   "source": [
    "<img src=\"images/kaggle.png\">\n"
   ]
  },
  {
   "cell_type": "code",
   "execution_count": 67,
   "metadata": {},
   "outputs": [
    {
     "data": {
      "text/html": [
       "<div>\n",
       "<style scoped>\n",
       "    .dataframe tbody tr th:only-of-type {\n",
       "        vertical-align: middle;\n",
       "    }\n",
       "\n",
       "    .dataframe tbody tr th {\n",
       "        vertical-align: top;\n",
       "    }\n",
       "\n",
       "    .dataframe thead th {\n",
       "        text-align: right;\n",
       "    }\n",
       "</style>\n",
       "<table border=\"1\" class=\"dataframe\">\n",
       "  <thead>\n",
       "    <tr style=\"text-align: right;\">\n",
       "      <th></th>\n",
       "      <th>Pipeline</th>\n",
       "      <th>Dataset</th>\n",
       "      <th>TrainAcc</th>\n",
       "      <th>TestAcc</th>\n",
       "      <th>Train Time(s)</th>\n",
       "      <th>Test Time(s)</th>\n",
       "      <th>Description</th>\n",
       "    </tr>\n",
       "  </thead>\n",
       "  <tbody>\n",
       "    <tr>\n",
       "      <td>0</td>\n",
       "      <td>Pipeline with Optimised KNeighbors Regressor</td>\n",
       "      <td>Movie Classes</td>\n",
       "      <td>96.46%</td>\n",
       "      <td>67.20%</td>\n",
       "      <td>4.7014</td>\n",
       "      <td>0.0322</td>\n",
       "      <td>KNN pipeline with included features</td>\n",
       "    </tr>\n",
       "  </tbody>\n",
       "</table>\n",
       "</div>"
      ],
      "text/plain": [
       "                                       Pipeline        Dataset   TrainAcc  \\\n",
       "0  Pipeline with Optimised KNeighbors Regressor  Movie Classes     96.46%   \n",
       "\n",
       "     TestAcc  Train Time(s)  Test Time(s)                          Description  \n",
       "0     67.20%         4.7014        0.0322  KNN pipeline with included features  "
      ]
     },
     "execution_count": 67,
     "metadata": {},
     "output_type": "execute_result"
    }
   ],
   "source": [
    "\n",
    "# Time and score test predictions\n",
    "start = time()\n",
    "final_model.fit(X_train, y_train)\n",
    "train_time = np.round(time() - start, 4)\n",
    "trainAcc  = final_model.score(X_train, y_train)\n",
    "start = time()\n",
    "testAcc  = final_model.score(X_test, y_test)\n",
    "test_time = np.round(time() - start, 4)\n",
    "experimentLog = pd.DataFrame(columns=[\"Pipeline\", \"Dataset\", \"TrainAcc\", \"TestAcc\",\n",
    "                                               \"Train Time(s)\",  \"Test Time(s)\", \"Description\"])\n",
    "try: experimentLog \n",
    "except : experimentLog = pd.DataFrame(columns=[\"Pipeline\", \"Dataset\", \"TrainAcc\", \"TestAcc\",\n",
    "                                               \"Train Time(s)\",  \"Test Time(s)\", \"Description\"])\n",
    "experimentLog.loc[len(experimentLog)] =[\"Pipeline with Optimised KNeighbors Regressor\", \"Movie Classes\",f\"{trainAcc*100:8.2f}%\", f\"{testAcc*100:8.2f}%\",train_time, test_time,\"KNN pipeline with included features\"]\n",
    "\n",
    "experimentLog"
   ]
  },
  {
   "cell_type": "markdown",
   "metadata": {},
   "source": [
    "# Discussion\n",
    "With the new features added to the pipeline, we were able to slightly increase our scores from phase 2.  Our new features include: \n",
    "-  production_countries_count\n",
    "-  production_companies_count\n",
    "-  keyword_count\n",
    "-  cast_count\n",
    "-  crew_count\n",
    "Some of these features involved using our proc_json function (defined in phase 2), while some only involved taking the length of each list.\n",
    "\n",
    "The results we were able to get through our new pipeline show a test accuracy of 64.06% which is an improvement from the 55.38% in phase 2. In comparison, our phase 1 baseline pipeline had 28.64% test accuracy for log baseline pipeline. We were unable to get a Kaggle score in phase 1, but in phase 2 our Kaggle score was 2.40318. We sucessfully improved our previous score from phase 2 thanks to our additional features and new gridsearch optimised XRB Regressor. \n"
   ]
  },
  {
   "cell_type": "markdown",
   "metadata": {},
   "source": [
    "# Conclusion"
   ]
  },
  {
   "cell_type": "markdown",
   "metadata": {},
   "source": [
    "With this project, our focus was to be able to predict box office revenue for any movie. In order to do this, we created machine learning pipelines with custom features to predict the revenue from the box office. As we continue to improve our pipeline from the previous phase, features like 'production_companies_count', 'spoken_languages_count', 'keyword_count', 'cast_count', and 'crew_count' have been added and have allowed our pipelines to produce better accuracy scores which allowed our test dataset to be 64.06% accurate. We also used a different prediction model in XGBRegressor, which gave us more accurate scores. When submitting the scores to Kaggle, our score of 2.13772 shows that we are quite close to a model that can accurately predict these revenues. "
   ]
  }
 ],
 "metadata": {
  "kernelspec": {
   "display_name": "Box_Office_predic_ENV",
   "language": "python",
   "name": "box_office_predic_env"
  },
  "language_info": {
   "codemirror_mode": {
    "name": "ipython",
    "version": 3
   },
   "file_extension": ".py",
   "mimetype": "text/x-python",
   "name": "python",
   "nbconvert_exporter": "python",
   "pygments_lexer": "ipython3",
   "version": "3.11.6"
  },
  "toc": {
   "base_numbering": 1,
   "nav_menu": {},
   "number_sections": true,
   "sideBar": true,
   "skip_h1_title": false,
   "title_cell": "Table of Contents",
   "title_sidebar": "Contents",
   "toc_cell": true,
   "toc_position": {
    "height": "calc(100% - 180px)",
    "left": "10px",
    "top": "150px",
    "width": "287.969px"
   },
   "toc_section_display": "block",
   "toc_window_display": false
  },
  "toc-showcode": false,
  "toc-showtags": false,
  "varInspector": {
   "cols": {
    "lenName": 16,
    "lenType": 16,
    "lenVar": 40
   },
   "kernels_config": {
    "python": {
     "delete_cmd_postfix": "",
     "delete_cmd_prefix": "del ",
     "library": "var_list.py",
     "varRefreshCmd": "print(var_dic_list())"
    },
    "r": {
     "delete_cmd_postfix": ") ",
     "delete_cmd_prefix": "rm(",
     "library": "var_list.r",
     "varRefreshCmd": "cat(var_dic_list()) "
    }
   },
   "types_to_exclude": [
    "module",
    "function",
    "builtin_function_or_method",
    "instance",
    "_Feature"
   ],
   "window_display": false
  }
 },
 "nbformat": 4,
 "nbformat_minor": 4
}
