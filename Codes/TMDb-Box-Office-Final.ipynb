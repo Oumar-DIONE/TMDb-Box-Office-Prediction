{
 "cells": [
  {
   "cell_type": "markdown",
   "metadata": {
    "toc": true
   },
   "source": [
    "<h1>Table of Contents<span class=\"tocSkip\"></span></h1>\n",
    "<div class=\"toc\"><ul class=\"toc-item\"><li><span><a href=\"#Team-Information\" data-toc-modified-id=\"Team-Information-1\"><span class=\"toc-item-num\">1&nbsp;&nbsp;</span>Team Information</a></span><ul class=\"toc-item\"><li><span><a href=\"#Title:-TMDB-Box-Office-Revenue-Prediction\" data-toc-modified-id=\"Title:-TMDB-Box-Office-Revenue-Prediction-1.1\"><span class=\"toc-item-num\">1.1&nbsp;&nbsp;</span>Title: TMDB Box Office Revenue Prediction</a></span></li><li><span><a href=\"#Group-number-2\" data-toc-modified-id=\"Group-number-2-1.2\"><span class=\"toc-item-num\">1.2&nbsp;&nbsp;</span>Group number 2</a></span></li><li><span><a href=\"#Alex-Bzdel---abzdel@bryant.edu\" data-toc-modified-id=\"Alex-Bzdel---abzdel@bryant.edu-1.3\"><span class=\"toc-item-num\">1.3&nbsp;&nbsp;</span>Alex Bzdel - <a href=\"mailto:abzdel@bryant.edu\" target=\"_blank\">abzdel@bryant.edu</a></a></span></li><li><span><a href=\"#Michael-Fornal---mfornal@bryant.edu\" data-toc-modified-id=\"Michael-Fornal---mfornal@bryant.edu-1.4\"><span class=\"toc-item-num\">1.4&nbsp;&nbsp;</span>Michael Fornal - <a href=\"mailto:mfornal@bryant.edu\" target=\"_blank\">mfornal@bryant.edu</a></a></span></li><li><span><a href=\"#Eric-Gilbert---egilbert@bryant.edu\" data-toc-modified-id=\"Eric-Gilbert---egilbert@bryant.edu-1.5\"><span class=\"toc-item-num\">1.5&nbsp;&nbsp;</span>Eric Gilbert - <a href=\"mailto:egilbert@bryant.edu\" target=\"_blank\">egilbert@bryant.edu</a></a></span></li></ul></li><li><span><a href=\"#Abstract\" data-toc-modified-id=\"Abstract-2\"><span class=\"toc-item-num\">2&nbsp;&nbsp;</span>Abstract</a></span></li><li><span><a href=\"#Project-Description-(data-and-tasks)\" data-toc-modified-id=\"Project-Description-(data-and-tasks)-3\"><span class=\"toc-item-num\">3&nbsp;&nbsp;</span>Project Description (data and tasks)</a></span></li><li><span><a href=\"#Data-Import-&amp;-notebook-preperation\" data-toc-modified-id=\"Data-Import-&amp;-notebook-preperation-4\"><span class=\"toc-item-num\">4&nbsp;&nbsp;</span>Data Import &amp; notebook preperation</a></span></li><li><span><a href=\"#EDA-TMDB\" data-toc-modified-id=\"EDA-TMDB-5\"><span class=\"toc-item-num\">5&nbsp;&nbsp;</span>EDA TMDB</a></span><ul class=\"toc-item\"><li><ul class=\"toc-item\"><li><span><a href=\"#Distribution-of-the-target-column\" data-toc-modified-id=\"Distribution-of-the-target-column-5.0.1\"><span class=\"toc-item-num\">5.0.1&nbsp;&nbsp;</span>Distribution of the target column</a></span><ul class=\"toc-item\"><li><span><a href=\"#Take-log-of-target-variable-(revenue)\" data-toc-modified-id=\"Take-log-of-target-variable-(revenue)-5.0.1.1\"><span class=\"toc-item-num\">5.0.1.1&nbsp;&nbsp;</span>Take log of target variable (revenue)</a></span></li></ul></li></ul></li></ul></li><li><span><a href=\"#Preprocessing\" data-toc-modified-id=\"Preprocessing-6\"><span class=\"toc-item-num\">6&nbsp;&nbsp;</span>Preprocessing</a></span><ul class=\"toc-item\"><li><span><a href=\"#Genre,Belongs-to-Collection-and-Homepage-Binarization\" data-toc-modified-id=\"Genre,Belongs-to-Collection-and-Homepage-Binarization-6.1\"><span class=\"toc-item-num\">6.1&nbsp;&nbsp;</span>Genre,Belongs to Collection and Homepage Binarization</a></span><ul class=\"toc-item\"><li><span><a href=\"#Production-Companies\" data-toc-modified-id=\"Production-Companies-6.1.1\"><span class=\"toc-item-num\">6.1.1&nbsp;&nbsp;</span>Production Companies</a></span></li></ul></li><li><span><a href=\"#Keywords,-cast,-crew\" data-toc-modified-id=\"Keywords,-cast,-crew-6.2\"><span class=\"toc-item-num\">6.2&nbsp;&nbsp;</span>Keywords, cast, crew</a></span></li><li><span><a href=\"#Fixing-Release-Date\" data-toc-modified-id=\"Fixing-Release-Date-6.3\"><span class=\"toc-item-num\">6.3&nbsp;&nbsp;</span>Fixing Release Date</a></span></li></ul></li><li><span><a href=\"#Pipeline\" data-toc-modified-id=\"Pipeline-7\"><span class=\"toc-item-num\">7&nbsp;&nbsp;</span>Pipeline</a></span></li><li><span><a href=\"#Modeling\" data-toc-modified-id=\"Modeling-8\"><span class=\"toc-item-num\">8&nbsp;&nbsp;</span>Modeling</a></span></li><li><span><a href=\"#Evaluation,-reporting-and-analysis\" data-toc-modified-id=\"Evaluation,-reporting-and-analysis-9\"><span class=\"toc-item-num\">9&nbsp;&nbsp;</span>Evaluation, reporting and analysis</a></span><ul class=\"toc-item\"><li><span><a href=\"#Kaggle-Submission\" data-toc-modified-id=\"Kaggle-Submission-9.1\"><span class=\"toc-item-num\">9.1&nbsp;&nbsp;</span>Kaggle Submission</a></span></li></ul></li><li><span><a href=\"#Discussion\" data-toc-modified-id=\"Discussion-10\"><span class=\"toc-item-num\">10&nbsp;&nbsp;</span>Discussion</a></span></li><li><span><a href=\"#Conclusion\" data-toc-modified-id=\"Conclusion-11\"><span class=\"toc-item-num\">11&nbsp;&nbsp;</span>Conclusion</a></span></li></ul></div>"
   ]
  },
  {
   "cell_type": "markdown",
   "metadata": {},
   "source": [
    "# Team Information\n",
    "## Title: TMDB Box Office Revenue Prediction\n",
    "## Group number 2\n",
    "## Alex Bzdel - abzdel@bryant.edu\n",
    "<img src=\"images/alex.jpg\" style=\"width: 200px\"/>\n",
    "\n",
    "\n",
    "\n",
    "## Michael Fornal - mfornal@bryant.edu\n",
    "<img src=\"images/michael.jpg\" style=\"width: 200px\"/>\n",
    "\n",
    "\n",
    "\n",
    "## Eric Gilbert - egilbert@bryant.edu\n",
    "<img src=\"images/eric.jpg\" style=\"width: 200px\"/>\n",
    "\n"
   ]
  },
  {
   "cell_type": "markdown",
   "metadata": {},
   "source": [
    "# Abstract\n",
    "In phase three of our project, we are improving on our baseline pipeline from phase 2 by intoducing the following new features.\n",
    "\n",
    "- hash_feats = ['production_countries_count', 'production_companies_count', 'spoken_languages_count','keyword_count', 'cast_count', 'crew_count']\n",
    "\n",
    "The main goal of this phase is to optimize our pipeline to produce the best Kaggle score using our additional features. We did this by searching for the best regression model and paramaters that will optimally score our model. We found that the optimal regression model is XGB and, when fit with our pipeline, we recived a private score of 2.13772 on Kaggle.\n",
    "\n"
   ]
  },
  {
   "cell_type": "markdown",
   "metadata": {},
   "source": [
    "# Project Description (data and tasks)\n",
    "We are working with data from the TMDB box office, which describes a number of categorical features (eg. release_year, spoken_languages) and numeric features (eg. budget, runtime, homepage). Additionally we will be adding new hash features into our pipeline (eg.production companies, languages). We will use these features to predict the revenue of each movie in the test set. The challenge here is to predict the worldwide revenue for 4,398 movies in the test file given various information about the movie. The tasks to be completed in phase 3 require adding the hash features of production countries, spoken languages, keywords, along with the cast and crew. We also plan to intergrate a decision tree regression model (xgboost) to help improve our score and accuracy."
   ]
  },
  {
   "cell_type": "code",
   "execution_count": 2,
   "metadata": {},
   "outputs": [
    {
     "name": "stdout",
     "output_type": "stream",
     "text": [
      "mkdir: cannot create directory ‘/home/onyxia/work/TMDb-Box-Office-Prediction/Data’: File exists\n"
     ]
    }
   ],
   "source": [
    "DATA_DIR = \"/home/onyxia/work/TMDb-Box-Office-Prediction/Data\"   #same level as course repo in the data directory\n",
    "#DATA_DIR = os.path.join('./ddddd/')\n",
    "!mkdir $DATA_DIR\n"
   ]
  },
  {
   "cell_type": "code",
   "execution_count": 3,
   "metadata": {},
   "outputs": [
    {
     "name": "stdout",
     "output_type": "stream",
     "text": [
      "total 68608\n",
      "drwxr-sr-x 2 onyxia users     4096 Mar 30 14:03 images\n",
      "-rw-r--r-- 1 onyxia users    61585 Mar 30 14:03 sample_submission.csv\n",
      "-rw-r--r-- 1 onyxia users 41868556 Mar 30 14:33 test.csv\n",
      "-rw-r--r-- 1 onyxia users 28311747 Mar 30 14:32 train.csv\n"
     ]
    }
   ],
   "source": [
    "!ls -l $DATA_DIR"
   ]
  },
  {
   "cell_type": "code",
   "execution_count": 3,
   "metadata": {},
   "outputs": [],
   "source": [
    "# ! kaggle competitions download tmdb-box-office-prediction -p $DATA_DIR"
   ]
  },
  {
   "cell_type": "markdown",
   "metadata": {},
   "source": [
    "# Data Import & notebook preperation\n"
   ]
  },
  {
   "cell_type": "code",
   "execution_count": 4,
   "metadata": {},
   "outputs": [],
   "source": [
    "from sklearn.pipeline import Pipeline, FeatureUnion, make_pipeline\n",
    "from sklearn.compose import ColumnTransformer\n",
    "from sklearn.model_selection import train_test_split\n",
    "import seaborn as sns\n",
    "import numpy as np\n",
    "import pandas as pd\n",
    "from sklearn.model_selection import train_test_split  # sklearn.cross_validation in old versions\n",
    "from sklearn.preprocessing import StandardScaler, OneHotEncoder\n",
    "from sklearn.linear_model import LogisticRegression, LinearRegression\n",
    "from sklearn.impute import SimpleImputer\n",
    "from sklearn.base import BaseEstimator, TransformerMixin\n",
    "from time import time\n",
    "import xgboost as xgb\n",
    "from sklearn.metrics import mean_squared_error\n",
    "\n",
    "\n",
    "import pandas as pd\n",
    "import os"
   ]
  },
  {
   "cell_type": "code",
   "execution_count": 80,
   "metadata": {},
   "outputs": [
    {
     "name": "stdout",
     "output_type": "stream",
     "text": [
      "train: shape is (3000, 23)\n",
      "<class 'pandas.core.frame.DataFrame'>\n",
      "RangeIndex: 3000 entries, 0 to 2999\n",
      "Data columns (total 23 columns):\n",
      " #   Column                 Non-Null Count  Dtype  \n",
      "---  ------                 --------------  -----  \n",
      " 0   id                     3000 non-null   int64  \n",
      " 1   belongs_to_collection  604 non-null    object \n",
      " 2   budget                 3000 non-null   int64  \n",
      " 3   genres                 2993 non-null   object \n",
      " 4   homepage               946 non-null    object \n",
      " 5   imdb_id                3000 non-null   object \n",
      " 6   original_language      3000 non-null   object \n",
      " 7   original_title         3000 non-null   object \n",
      " 8   overview               2992 non-null   object \n",
      " 9   popularity             3000 non-null   float64\n",
      " 10  poster_path            2999 non-null   object \n",
      " 11  production_companies   2844 non-null   object \n",
      " 12  production_countries   2945 non-null   object \n",
      " 13  release_date           3000 non-null   object \n",
      " 14  runtime                2998 non-null   float64\n",
      " 15  spoken_languages       2980 non-null   object \n",
      " 16  status                 3000 non-null   object \n",
      " 17  tagline                2403 non-null   object \n",
      " 18  title                  3000 non-null   object \n",
      " 19  Keywords               2724 non-null   object \n",
      " 20  cast                   2987 non-null   object \n",
      " 21  crew                   2984 non-null   object \n",
      " 22  revenue                3000 non-null   int64  \n",
      "dtypes: float64(2), int64(3), object(18)\n",
      "memory usage: 539.2+ KB\n",
      "None\n"
     ]
    },
    {
     "data": {
      "text/html": [
       "<div>\n",
       "<style scoped>\n",
       "    .dataframe tbody tr th:only-of-type {\n",
       "        vertical-align: middle;\n",
       "    }\n",
       "\n",
       "    .dataframe tbody tr th {\n",
       "        vertical-align: top;\n",
       "    }\n",
       "\n",
       "    .dataframe thead th {\n",
       "        text-align: right;\n",
       "    }\n",
       "</style>\n",
       "<table border=\"1\" class=\"dataframe\">\n",
       "  <thead>\n",
       "    <tr style=\"text-align: right;\">\n",
       "      <th></th>\n",
       "      <th>id</th>\n",
       "      <th>belongs_to_collection</th>\n",
       "      <th>budget</th>\n",
       "      <th>genres</th>\n",
       "      <th>homepage</th>\n",
       "      <th>imdb_id</th>\n",
       "      <th>original_language</th>\n",
       "      <th>original_title</th>\n",
       "      <th>overview</th>\n",
       "      <th>popularity</th>\n",
       "      <th>...</th>\n",
       "      <th>release_date</th>\n",
       "      <th>runtime</th>\n",
       "      <th>spoken_languages</th>\n",
       "      <th>status</th>\n",
       "      <th>tagline</th>\n",
       "      <th>title</th>\n",
       "      <th>Keywords</th>\n",
       "      <th>cast</th>\n",
       "      <th>crew</th>\n",
       "      <th>revenue</th>\n",
       "    </tr>\n",
       "  </thead>\n",
       "  <tbody>\n",
       "    <tr>\n",
       "      <th>0</th>\n",
       "      <td>1</td>\n",
       "      <td>[{'id': 313576, 'name': 'Hot Tub Time Machine ...</td>\n",
       "      <td>14000000</td>\n",
       "      <td>[{'id': 35, 'name': 'Comedy'}]</td>\n",
       "      <td>NaN</td>\n",
       "      <td>tt2637294</td>\n",
       "      <td>en</td>\n",
       "      <td>Hot Tub Time Machine 2</td>\n",
       "      <td>When Lou, who has become the \"father of the In...</td>\n",
       "      <td>6.575393</td>\n",
       "      <td>...</td>\n",
       "      <td>2/20/15</td>\n",
       "      <td>93.0</td>\n",
       "      <td>[{'iso_639_1': 'en', 'name': 'English'}]</td>\n",
       "      <td>Released</td>\n",
       "      <td>The Laws of Space and Time are About to be Vio...</td>\n",
       "      <td>Hot Tub Time Machine 2</td>\n",
       "      <td>[{'id': 4379, 'name': 'time travel'}, {'id': 9...</td>\n",
       "      <td>[{'cast_id': 4, 'character': 'Lou', 'credit_id...</td>\n",
       "      <td>[{'credit_id': '59ac067c92514107af02c8c8', 'de...</td>\n",
       "      <td>12314651</td>\n",
       "    </tr>\n",
       "  </tbody>\n",
       "</table>\n",
       "<p>1 rows × 23 columns</p>\n",
       "</div>"
      ],
      "text/plain": [
       "   id                              belongs_to_collection    budget  \\\n",
       "0   1  [{'id': 313576, 'name': 'Hot Tub Time Machine ...  14000000   \n",
       "\n",
       "                           genres homepage    imdb_id original_language  \\\n",
       "0  [{'id': 35, 'name': 'Comedy'}]      NaN  tt2637294                en   \n",
       "\n",
       "           original_title                                           overview  \\\n",
       "0  Hot Tub Time Machine 2  When Lou, who has become the \"father of the In...   \n",
       "\n",
       "   popularity  ... release_date runtime  \\\n",
       "0    6.575393  ...      2/20/15    93.0   \n",
       "\n",
       "                           spoken_languages    status  \\\n",
       "0  [{'iso_639_1': 'en', 'name': 'English'}]  Released   \n",
       "\n",
       "                                             tagline                   title  \\\n",
       "0  The Laws of Space and Time are About to be Vio...  Hot Tub Time Machine 2   \n",
       "\n",
       "                                            Keywords  \\\n",
       "0  [{'id': 4379, 'name': 'time travel'}, {'id': 9...   \n",
       "\n",
       "                                                cast  \\\n",
       "0  [{'cast_id': 4, 'character': 'Lou', 'credit_id...   \n",
       "\n",
       "                                                crew   revenue  \n",
       "0  [{'credit_id': '59ac067c92514107af02c8c8', 'de...  12314651  \n",
       "\n",
       "[1 rows x 23 columns]"
      ]
     },
     "metadata": {},
     "output_type": "display_data"
    },
    {
     "name": "stdout",
     "output_type": "stream",
     "text": [
      "test: shape is (4398, 22)\n"
     ]
    },
    {
     "data": {
      "text/html": [
       "<div>\n",
       "<style scoped>\n",
       "    .dataframe tbody tr th:only-of-type {\n",
       "        vertical-align: middle;\n",
       "    }\n",
       "\n",
       "    .dataframe tbody tr th {\n",
       "        vertical-align: top;\n",
       "    }\n",
       "\n",
       "    .dataframe thead th {\n",
       "        text-align: right;\n",
       "    }\n",
       "</style>\n",
       "<table border=\"1\" class=\"dataframe\">\n",
       "  <thead>\n",
       "    <tr style=\"text-align: right;\">\n",
       "      <th></th>\n",
       "      <th>id</th>\n",
       "      <th>belongs_to_collection</th>\n",
       "      <th>budget</th>\n",
       "      <th>genres</th>\n",
       "      <th>homepage</th>\n",
       "      <th>imdb_id</th>\n",
       "      <th>original_language</th>\n",
       "      <th>original_title</th>\n",
       "      <th>overview</th>\n",
       "      <th>popularity</th>\n",
       "      <th>...</th>\n",
       "      <th>production_countries</th>\n",
       "      <th>release_date</th>\n",
       "      <th>runtime</th>\n",
       "      <th>spoken_languages</th>\n",
       "      <th>status</th>\n",
       "      <th>tagline</th>\n",
       "      <th>title</th>\n",
       "      <th>Keywords</th>\n",
       "      <th>cast</th>\n",
       "      <th>crew</th>\n",
       "    </tr>\n",
       "  </thead>\n",
       "  <tbody>\n",
       "    <tr>\n",
       "      <th>0</th>\n",
       "      <td>3001</td>\n",
       "      <td>[{'id': 34055, 'name': 'Pokémon Collection', '...</td>\n",
       "      <td>0</td>\n",
       "      <td>[{'id': 12, 'name': 'Adventure'}, {'id': 16, '...</td>\n",
       "      <td>http://www.pokemon.com/us/movies/movie-pokemon...</td>\n",
       "      <td>tt1226251</td>\n",
       "      <td>ja</td>\n",
       "      <td>ディアルガVSパルキアVSダークライ</td>\n",
       "      <td>Ash and friends (this time accompanied by newc...</td>\n",
       "      <td>3.851534</td>\n",
       "      <td>...</td>\n",
       "      <td>[{'iso_3166_1': 'JP', 'name': 'Japan'}, {'iso_...</td>\n",
       "      <td>7/14/07</td>\n",
       "      <td>90.0</td>\n",
       "      <td>[{'iso_639_1': 'en', 'name': 'English'}, {'iso...</td>\n",
       "      <td>Released</td>\n",
       "      <td>Somewhere Between Time &amp; Space... A Legend Is ...</td>\n",
       "      <td>Pokémon: The Rise of Darkrai</td>\n",
       "      <td>[{'id': 11451, 'name': 'pok√©mon'}, {'id': 115...</td>\n",
       "      <td>[{'cast_id': 3, 'character': 'Tonio', 'credit_...</td>\n",
       "      <td>[{'credit_id': '52fe44e7c3a368484e03d683', 'de...</td>\n",
       "    </tr>\n",
       "  </tbody>\n",
       "</table>\n",
       "<p>1 rows × 22 columns</p>\n",
       "</div>"
      ],
      "text/plain": [
       "     id                              belongs_to_collection  budget  \\\n",
       "0  3001  [{'id': 34055, 'name': 'Pokémon Collection', '...       0   \n",
       "\n",
       "                                              genres  \\\n",
       "0  [{'id': 12, 'name': 'Adventure'}, {'id': 16, '...   \n",
       "\n",
       "                                            homepage    imdb_id  \\\n",
       "0  http://www.pokemon.com/us/movies/movie-pokemon...  tt1226251   \n",
       "\n",
       "  original_language      original_title  \\\n",
       "0                ja  ディアルガVSパルキアVSダークライ   \n",
       "\n",
       "                                            overview  popularity  ...  \\\n",
       "0  Ash and friends (this time accompanied by newc...    3.851534  ...   \n",
       "\n",
       "                                production_countries release_date runtime  \\\n",
       "0  [{'iso_3166_1': 'JP', 'name': 'Japan'}, {'iso_...      7/14/07    90.0   \n",
       "\n",
       "                                    spoken_languages    status  \\\n",
       "0  [{'iso_639_1': 'en', 'name': 'English'}, {'iso...  Released   \n",
       "\n",
       "                                             tagline  \\\n",
       "0  Somewhere Between Time & Space... A Legend Is ...   \n",
       "\n",
       "                          title  \\\n",
       "0  Pokémon: The Rise of Darkrai   \n",
       "\n",
       "                                            Keywords  \\\n",
       "0  [{'id': 11451, 'name': 'pok√©mon'}, {'id': 115...   \n",
       "\n",
       "                                                cast  \\\n",
       "0  [{'cast_id': 3, 'character': 'Tonio', 'credit_...   \n",
       "\n",
       "                                                crew  \n",
       "0  [{'credit_id': '52fe44e7c3a368484e03d683', 'de...  \n",
       "\n",
       "[1 rows x 22 columns]"
      ]
     },
     "metadata": {},
     "output_type": "display_data"
    },
    {
     "name": "stdout",
     "output_type": "stream",
     "text": [
      "Well done\n"
     ]
    }
   ],
   "source": [
    "\n",
    "def load_data(in_path, name):\n",
    "    df = pd.read_csv(in_path)\n",
    "    print(f\"{name}: shape is {df.shape}\")\n",
    "    if name==\"train\":\n",
    "        print(df.info())\n",
    "    display(df.head(1))\n",
    "    return df\n",
    "\n",
    "datasets={}  # lets store the datasets in a dictionary so we can keep track of them easily\n",
    "ds_name = 'train'\n",
    "\n",
    "df_train = load_data(os.path.join(DATA_DIR, f'{ds_name}.csv'), ds_name)\n",
    "datasets[ds_name] = df_train\n",
    "\n",
    "ds_name = 'test'\n",
    "df_test = load_data(os.path.join(DATA_DIR, f'{ds_name}.csv'), ds_name)\n",
    "datasets[ds_name] = df_test\n",
    "print(\"Well done\")\n"
   ]
  },
  {
   "cell_type": "code",
   "execution_count": 6,
   "metadata": {},
   "outputs": [
    {
     "name": "stdout",
     "output_type": "stream",
     "text": [
      "dataset train                   : [      3,000, 23]\n",
      "dataset test                    : [      4,398, 22]\n"
     ]
    }
   ],
   "source": [
    "ds_name = 'train'\n",
    "print(f'dataset {ds_name:24}: [ {df_train.shape[0]:10,}, {df_train.shape[1]}]')\n",
    "ds_name = 'test' \n",
    "print(f'dataset {ds_name:24}: [ {df_test.shape[0]:10,}, {df_test.shape[1]}]')"
   ]
  },
  {
   "cell_type": "markdown",
   "metadata": {},
   "source": [
    "# EDA TMDB\n"
   ]
  },
  {
   "cell_type": "code",
   "execution_count": 22,
   "metadata": {},
   "outputs": [
    {
     "name": "stdout",
     "output_type": "stream",
     "text": [
      "<class 'pandas.core.frame.DataFrame'>\n",
      "RangeIndex: 3000 entries, 0 to 2999\n",
      "Data columns (total 23 columns):\n",
      " #   Column                 Non-Null Count  Dtype  \n",
      "---  ------                 --------------  -----  \n",
      " 0   id                     3000 non-null   int64  \n",
      " 1   belongs_to_collection  604 non-null    object \n",
      " 2   budget                 3000 non-null   int64  \n",
      " 3   genres                 2993 non-null   object \n",
      " 4   homepage               946 non-null    object \n",
      " 5   imdb_id                3000 non-null   object \n",
      " 6   original_language      3000 non-null   object \n",
      " 7   original_title         3000 non-null   object \n",
      " 8   overview               2992 non-null   object \n",
      " 9   popularity             3000 non-null   float64\n",
      " 10  poster_path            2999 non-null   object \n",
      " 11  production_companies   2844 non-null   object \n",
      " 12  production_countries   2945 non-null   object \n",
      " 13  release_date           3000 non-null   object \n",
      " 14  runtime                2998 non-null   float64\n",
      " 15  spoken_languages       2980 non-null   object \n",
      " 16  status                 3000 non-null   object \n",
      " 17  tagline                2403 non-null   object \n",
      " 18  title                  3000 non-null   object \n",
      " 19  Keywords               2724 non-null   object \n",
      " 20  cast                   2987 non-null   object \n",
      " 21  crew                   2984 non-null   object \n",
      " 22  revenue                3000 non-null   int64  \n",
      "dtypes: float64(2), int64(3), object(18)\n",
      "memory usage: 539.2+ KB\n"
     ]
    }
   ],
   "source": [
    "df_train.info()"
   ]
  },
  {
   "cell_type": "code",
   "execution_count": 23,
   "metadata": {},
   "outputs": [
    {
     "data": {
      "text/html": [
       "<div>\n",
       "<style scoped>\n",
       "    .dataframe tbody tr th:only-of-type {\n",
       "        vertical-align: middle;\n",
       "    }\n",
       "\n",
       "    .dataframe tbody tr th {\n",
       "        vertical-align: top;\n",
       "    }\n",
       "\n",
       "    .dataframe thead th {\n",
       "        text-align: right;\n",
       "    }\n",
       "</style>\n",
       "<table border=\"1\" class=\"dataframe\">\n",
       "  <thead>\n",
       "    <tr style=\"text-align: right;\">\n",
       "      <th></th>\n",
       "      <th>id</th>\n",
       "      <th>budget</th>\n",
       "      <th>popularity</th>\n",
       "      <th>runtime</th>\n",
       "      <th>revenue</th>\n",
       "    </tr>\n",
       "  </thead>\n",
       "  <tbody>\n",
       "    <tr>\n",
       "      <th>count</th>\n",
       "      <td>3000.000000</td>\n",
       "      <td>3.000000e+03</td>\n",
       "      <td>3000.000000</td>\n",
       "      <td>2998.000000</td>\n",
       "      <td>3.000000e+03</td>\n",
       "    </tr>\n",
       "    <tr>\n",
       "      <th>mean</th>\n",
       "      <td>1500.500000</td>\n",
       "      <td>2.253133e+07</td>\n",
       "      <td>8.463274</td>\n",
       "      <td>107.856571</td>\n",
       "      <td>6.672585e+07</td>\n",
       "    </tr>\n",
       "    <tr>\n",
       "      <th>std</th>\n",
       "      <td>866.169729</td>\n",
       "      <td>3.702609e+07</td>\n",
       "      <td>12.104000</td>\n",
       "      <td>22.086434</td>\n",
       "      <td>1.375323e+08</td>\n",
       "    </tr>\n",
       "    <tr>\n",
       "      <th>min</th>\n",
       "      <td>1.000000</td>\n",
       "      <td>0.000000e+00</td>\n",
       "      <td>0.000001</td>\n",
       "      <td>0.000000</td>\n",
       "      <td>1.000000e+00</td>\n",
       "    </tr>\n",
       "    <tr>\n",
       "      <th>25%</th>\n",
       "      <td>750.750000</td>\n",
       "      <td>0.000000e+00</td>\n",
       "      <td>4.018053</td>\n",
       "      <td>94.000000</td>\n",
       "      <td>2.379808e+06</td>\n",
       "    </tr>\n",
       "    <tr>\n",
       "      <th>50%</th>\n",
       "      <td>1500.500000</td>\n",
       "      <td>8.000000e+06</td>\n",
       "      <td>7.374861</td>\n",
       "      <td>104.000000</td>\n",
       "      <td>1.680707e+07</td>\n",
       "    </tr>\n",
       "    <tr>\n",
       "      <th>75%</th>\n",
       "      <td>2250.250000</td>\n",
       "      <td>2.900000e+07</td>\n",
       "      <td>10.890983</td>\n",
       "      <td>118.000000</td>\n",
       "      <td>6.891920e+07</td>\n",
       "    </tr>\n",
       "    <tr>\n",
       "      <th>max</th>\n",
       "      <td>3000.000000</td>\n",
       "      <td>3.800000e+08</td>\n",
       "      <td>294.337037</td>\n",
       "      <td>338.000000</td>\n",
       "      <td>1.519558e+09</td>\n",
       "    </tr>\n",
       "  </tbody>\n",
       "</table>\n",
       "</div>"
      ],
      "text/plain": [
       "                id        budget   popularity      runtime       revenue\n",
       "count  3000.000000  3.000000e+03  3000.000000  2998.000000  3.000000e+03\n",
       "mean   1500.500000  2.253133e+07     8.463274   107.856571  6.672585e+07\n",
       "std     866.169729  3.702609e+07    12.104000    22.086434  1.375323e+08\n",
       "min       1.000000  0.000000e+00     0.000001     0.000000  1.000000e+00\n",
       "25%     750.750000  0.000000e+00     4.018053    94.000000  2.379808e+06\n",
       "50%    1500.500000  8.000000e+06     7.374861   104.000000  1.680707e+07\n",
       "75%    2250.250000  2.900000e+07    10.890983   118.000000  6.891920e+07\n",
       "max    3000.000000  3.800000e+08   294.337037   338.000000  1.519558e+09"
      ]
     },
     "execution_count": 23,
     "metadata": {},
     "output_type": "execute_result"
    }
   ],
   "source": [
    "df_train.describe() #only 4 numerical features"
   ]
  },
  {
   "cell_type": "code",
   "execution_count": 24,
   "metadata": {},
   "outputs": [
    {
     "data": {
      "text/html": [
       "<div>\n",
       "<style scoped>\n",
       "    .dataframe tbody tr th:only-of-type {\n",
       "        vertical-align: middle;\n",
       "    }\n",
       "\n",
       "    .dataframe tbody tr th {\n",
       "        vertical-align: top;\n",
       "    }\n",
       "\n",
       "    .dataframe thead th {\n",
       "        text-align: right;\n",
       "    }\n",
       "</style>\n",
       "<table border=\"1\" class=\"dataframe\">\n",
       "  <thead>\n",
       "    <tr style=\"text-align: right;\">\n",
       "      <th></th>\n",
       "      <th>id</th>\n",
       "      <th>belongs_to_collection</th>\n",
       "      <th>budget</th>\n",
       "      <th>genres</th>\n",
       "      <th>homepage</th>\n",
       "      <th>imdb_id</th>\n",
       "      <th>original_language</th>\n",
       "      <th>original_title</th>\n",
       "      <th>overview</th>\n",
       "      <th>popularity</th>\n",
       "      <th>...</th>\n",
       "      <th>release_date</th>\n",
       "      <th>runtime</th>\n",
       "      <th>spoken_languages</th>\n",
       "      <th>status</th>\n",
       "      <th>tagline</th>\n",
       "      <th>title</th>\n",
       "      <th>Keywords</th>\n",
       "      <th>cast</th>\n",
       "      <th>crew</th>\n",
       "      <th>revenue</th>\n",
       "    </tr>\n",
       "  </thead>\n",
       "  <tbody>\n",
       "    <tr>\n",
       "      <th>count</th>\n",
       "      <td>3000.000000</td>\n",
       "      <td>604</td>\n",
       "      <td>3.000000e+03</td>\n",
       "      <td>2993</td>\n",
       "      <td>946</td>\n",
       "      <td>3000</td>\n",
       "      <td>3000</td>\n",
       "      <td>3000</td>\n",
       "      <td>2992</td>\n",
       "      <td>3000.000000</td>\n",
       "      <td>...</td>\n",
       "      <td>3000</td>\n",
       "      <td>2998.000000</td>\n",
       "      <td>2980</td>\n",
       "      <td>3000</td>\n",
       "      <td>2403</td>\n",
       "      <td>3000</td>\n",
       "      <td>2724</td>\n",
       "      <td>2987</td>\n",
       "      <td>2984</td>\n",
       "      <td>3.000000e+03</td>\n",
       "    </tr>\n",
       "    <tr>\n",
       "      <th>unique</th>\n",
       "      <td>NaN</td>\n",
       "      <td>422</td>\n",
       "      <td>NaN</td>\n",
       "      <td>872</td>\n",
       "      <td>941</td>\n",
       "      <td>3000</td>\n",
       "      <td>36</td>\n",
       "      <td>2975</td>\n",
       "      <td>2992</td>\n",
       "      <td>NaN</td>\n",
       "      <td>...</td>\n",
       "      <td>2398</td>\n",
       "      <td>NaN</td>\n",
       "      <td>401</td>\n",
       "      <td>2</td>\n",
       "      <td>2400</td>\n",
       "      <td>2969</td>\n",
       "      <td>2648</td>\n",
       "      <td>2975</td>\n",
       "      <td>2984</td>\n",
       "      <td>NaN</td>\n",
       "    </tr>\n",
       "    <tr>\n",
       "      <th>top</th>\n",
       "      <td>NaN</td>\n",
       "      <td>[{'id': 645, 'name': 'James Bond Collection', ...</td>\n",
       "      <td>NaN</td>\n",
       "      <td>[{'id': 18, 'name': 'Drama'}]</td>\n",
       "      <td>http://www.transformersmovie.com/</td>\n",
       "      <td>tt1600195</td>\n",
       "      <td>en</td>\n",
       "      <td>The Other Woman</td>\n",
       "      <td>A young man sets out to uncover the truth abou...</td>\n",
       "      <td>NaN</td>\n",
       "      <td>...</td>\n",
       "      <td>9/10/10</td>\n",
       "      <td>NaN</td>\n",
       "      <td>[{'iso_639_1': 'en', 'name': 'English'}]</td>\n",
       "      <td>Released</td>\n",
       "      <td>Based on a true story.</td>\n",
       "      <td>Loose Cannons</td>\n",
       "      <td>[{'id': 10183, 'name': 'independent film'}]</td>\n",
       "      <td>[]</td>\n",
       "      <td>[{'credit_id': '5391990d0e0a260fb5001629', 'de...</td>\n",
       "      <td>NaN</td>\n",
       "    </tr>\n",
       "    <tr>\n",
       "      <th>freq</th>\n",
       "      <td>NaN</td>\n",
       "      <td>16</td>\n",
       "      <td>NaN</td>\n",
       "      <td>266</td>\n",
       "      <td>4</td>\n",
       "      <td>1</td>\n",
       "      <td>2575</td>\n",
       "      <td>2</td>\n",
       "      <td>1</td>\n",
       "      <td>NaN</td>\n",
       "      <td>...</td>\n",
       "      <td>5</td>\n",
       "      <td>NaN</td>\n",
       "      <td>1817</td>\n",
       "      <td>2996</td>\n",
       "      <td>3</td>\n",
       "      <td>2</td>\n",
       "      <td>27</td>\n",
       "      <td>13</td>\n",
       "      <td>1</td>\n",
       "      <td>NaN</td>\n",
       "    </tr>\n",
       "    <tr>\n",
       "      <th>mean</th>\n",
       "      <td>1500.500000</td>\n",
       "      <td>NaN</td>\n",
       "      <td>2.253133e+07</td>\n",
       "      <td>NaN</td>\n",
       "      <td>NaN</td>\n",
       "      <td>NaN</td>\n",
       "      <td>NaN</td>\n",
       "      <td>NaN</td>\n",
       "      <td>NaN</td>\n",
       "      <td>8.463274</td>\n",
       "      <td>...</td>\n",
       "      <td>NaN</td>\n",
       "      <td>107.856571</td>\n",
       "      <td>NaN</td>\n",
       "      <td>NaN</td>\n",
       "      <td>NaN</td>\n",
       "      <td>NaN</td>\n",
       "      <td>NaN</td>\n",
       "      <td>NaN</td>\n",
       "      <td>NaN</td>\n",
       "      <td>6.672585e+07</td>\n",
       "    </tr>\n",
       "    <tr>\n",
       "      <th>std</th>\n",
       "      <td>866.169729</td>\n",
       "      <td>NaN</td>\n",
       "      <td>3.702609e+07</td>\n",
       "      <td>NaN</td>\n",
       "      <td>NaN</td>\n",
       "      <td>NaN</td>\n",
       "      <td>NaN</td>\n",
       "      <td>NaN</td>\n",
       "      <td>NaN</td>\n",
       "      <td>12.104000</td>\n",
       "      <td>...</td>\n",
       "      <td>NaN</td>\n",
       "      <td>22.086434</td>\n",
       "      <td>NaN</td>\n",
       "      <td>NaN</td>\n",
       "      <td>NaN</td>\n",
       "      <td>NaN</td>\n",
       "      <td>NaN</td>\n",
       "      <td>NaN</td>\n",
       "      <td>NaN</td>\n",
       "      <td>1.375323e+08</td>\n",
       "    </tr>\n",
       "    <tr>\n",
       "      <th>min</th>\n",
       "      <td>1.000000</td>\n",
       "      <td>NaN</td>\n",
       "      <td>0.000000e+00</td>\n",
       "      <td>NaN</td>\n",
       "      <td>NaN</td>\n",
       "      <td>NaN</td>\n",
       "      <td>NaN</td>\n",
       "      <td>NaN</td>\n",
       "      <td>NaN</td>\n",
       "      <td>0.000001</td>\n",
       "      <td>...</td>\n",
       "      <td>NaN</td>\n",
       "      <td>0.000000</td>\n",
       "      <td>NaN</td>\n",
       "      <td>NaN</td>\n",
       "      <td>NaN</td>\n",
       "      <td>NaN</td>\n",
       "      <td>NaN</td>\n",
       "      <td>NaN</td>\n",
       "      <td>NaN</td>\n",
       "      <td>1.000000e+00</td>\n",
       "    </tr>\n",
       "    <tr>\n",
       "      <th>25%</th>\n",
       "      <td>750.750000</td>\n",
       "      <td>NaN</td>\n",
       "      <td>0.000000e+00</td>\n",
       "      <td>NaN</td>\n",
       "      <td>NaN</td>\n",
       "      <td>NaN</td>\n",
       "      <td>NaN</td>\n",
       "      <td>NaN</td>\n",
       "      <td>NaN</td>\n",
       "      <td>4.018053</td>\n",
       "      <td>...</td>\n",
       "      <td>NaN</td>\n",
       "      <td>94.000000</td>\n",
       "      <td>NaN</td>\n",
       "      <td>NaN</td>\n",
       "      <td>NaN</td>\n",
       "      <td>NaN</td>\n",
       "      <td>NaN</td>\n",
       "      <td>NaN</td>\n",
       "      <td>NaN</td>\n",
       "      <td>2.379808e+06</td>\n",
       "    </tr>\n",
       "    <tr>\n",
       "      <th>50%</th>\n",
       "      <td>1500.500000</td>\n",
       "      <td>NaN</td>\n",
       "      <td>8.000000e+06</td>\n",
       "      <td>NaN</td>\n",
       "      <td>NaN</td>\n",
       "      <td>NaN</td>\n",
       "      <td>NaN</td>\n",
       "      <td>NaN</td>\n",
       "      <td>NaN</td>\n",
       "      <td>7.374861</td>\n",
       "      <td>...</td>\n",
       "      <td>NaN</td>\n",
       "      <td>104.000000</td>\n",
       "      <td>NaN</td>\n",
       "      <td>NaN</td>\n",
       "      <td>NaN</td>\n",
       "      <td>NaN</td>\n",
       "      <td>NaN</td>\n",
       "      <td>NaN</td>\n",
       "      <td>NaN</td>\n",
       "      <td>1.680707e+07</td>\n",
       "    </tr>\n",
       "    <tr>\n",
       "      <th>75%</th>\n",
       "      <td>2250.250000</td>\n",
       "      <td>NaN</td>\n",
       "      <td>2.900000e+07</td>\n",
       "      <td>NaN</td>\n",
       "      <td>NaN</td>\n",
       "      <td>NaN</td>\n",
       "      <td>NaN</td>\n",
       "      <td>NaN</td>\n",
       "      <td>NaN</td>\n",
       "      <td>10.890983</td>\n",
       "      <td>...</td>\n",
       "      <td>NaN</td>\n",
       "      <td>118.000000</td>\n",
       "      <td>NaN</td>\n",
       "      <td>NaN</td>\n",
       "      <td>NaN</td>\n",
       "      <td>NaN</td>\n",
       "      <td>NaN</td>\n",
       "      <td>NaN</td>\n",
       "      <td>NaN</td>\n",
       "      <td>6.891920e+07</td>\n",
       "    </tr>\n",
       "    <tr>\n",
       "      <th>max</th>\n",
       "      <td>3000.000000</td>\n",
       "      <td>NaN</td>\n",
       "      <td>3.800000e+08</td>\n",
       "      <td>NaN</td>\n",
       "      <td>NaN</td>\n",
       "      <td>NaN</td>\n",
       "      <td>NaN</td>\n",
       "      <td>NaN</td>\n",
       "      <td>NaN</td>\n",
       "      <td>294.337037</td>\n",
       "      <td>...</td>\n",
       "      <td>NaN</td>\n",
       "      <td>338.000000</td>\n",
       "      <td>NaN</td>\n",
       "      <td>NaN</td>\n",
       "      <td>NaN</td>\n",
       "      <td>NaN</td>\n",
       "      <td>NaN</td>\n",
       "      <td>NaN</td>\n",
       "      <td>NaN</td>\n",
       "      <td>1.519558e+09</td>\n",
       "    </tr>\n",
       "  </tbody>\n",
       "</table>\n",
       "<p>11 rows × 23 columns</p>\n",
       "</div>"
      ],
      "text/plain": [
       "                 id                              belongs_to_collection  \\\n",
       "count   3000.000000                                                604   \n",
       "unique          NaN                                                422   \n",
       "top             NaN  [{'id': 645, 'name': 'James Bond Collection', ...   \n",
       "freq            NaN                                                 16   \n",
       "mean    1500.500000                                                NaN   \n",
       "std      866.169729                                                NaN   \n",
       "min        1.000000                                                NaN   \n",
       "25%      750.750000                                                NaN   \n",
       "50%     1500.500000                                                NaN   \n",
       "75%     2250.250000                                                NaN   \n",
       "max     3000.000000                                                NaN   \n",
       "\n",
       "              budget                         genres  \\\n",
       "count   3.000000e+03                           2993   \n",
       "unique           NaN                            872   \n",
       "top              NaN  [{'id': 18, 'name': 'Drama'}]   \n",
       "freq             NaN                            266   \n",
       "mean    2.253133e+07                            NaN   \n",
       "std     3.702609e+07                            NaN   \n",
       "min     0.000000e+00                            NaN   \n",
       "25%     0.000000e+00                            NaN   \n",
       "50%     8.000000e+06                            NaN   \n",
       "75%     2.900000e+07                            NaN   \n",
       "max     3.800000e+08                            NaN   \n",
       "\n",
       "                                 homepage    imdb_id original_language  \\\n",
       "count                                 946       3000              3000   \n",
       "unique                                941       3000                36   \n",
       "top     http://www.transformersmovie.com/  tt1600195                en   \n",
       "freq                                    4          1              2575   \n",
       "mean                                  NaN        NaN               NaN   \n",
       "std                                   NaN        NaN               NaN   \n",
       "min                                   NaN        NaN               NaN   \n",
       "25%                                   NaN        NaN               NaN   \n",
       "50%                                   NaN        NaN               NaN   \n",
       "75%                                   NaN        NaN               NaN   \n",
       "max                                   NaN        NaN               NaN   \n",
       "\n",
       "         original_title                                           overview  \\\n",
       "count              3000                                               2992   \n",
       "unique             2975                                               2992   \n",
       "top     The Other Woman  A young man sets out to uncover the truth abou...   \n",
       "freq                  2                                                  1   \n",
       "mean                NaN                                                NaN   \n",
       "std                 NaN                                                NaN   \n",
       "min                 NaN                                                NaN   \n",
       "25%                 NaN                                                NaN   \n",
       "50%                 NaN                                                NaN   \n",
       "75%                 NaN                                                NaN   \n",
       "max                 NaN                                                NaN   \n",
       "\n",
       "         popularity  ... release_date      runtime  \\\n",
       "count   3000.000000  ...         3000  2998.000000   \n",
       "unique          NaN  ...         2398          NaN   \n",
       "top             NaN  ...      9/10/10          NaN   \n",
       "freq            NaN  ...            5          NaN   \n",
       "mean       8.463274  ...          NaN   107.856571   \n",
       "std       12.104000  ...          NaN    22.086434   \n",
       "min        0.000001  ...          NaN     0.000000   \n",
       "25%        4.018053  ...          NaN    94.000000   \n",
       "50%        7.374861  ...          NaN   104.000000   \n",
       "75%       10.890983  ...          NaN   118.000000   \n",
       "max      294.337037  ...          NaN   338.000000   \n",
       "\n",
       "                                spoken_languages    status  \\\n",
       "count                                       2980      3000   \n",
       "unique                                       401         2   \n",
       "top     [{'iso_639_1': 'en', 'name': 'English'}]  Released   \n",
       "freq                                        1817      2996   \n",
       "mean                                         NaN       NaN   \n",
       "std                                          NaN       NaN   \n",
       "min                                          NaN       NaN   \n",
       "25%                                          NaN       NaN   \n",
       "50%                                          NaN       NaN   \n",
       "75%                                          NaN       NaN   \n",
       "max                                          NaN       NaN   \n",
       "\n",
       "                       tagline          title  \\\n",
       "count                     2403           3000   \n",
       "unique                    2400           2969   \n",
       "top     Based on a true story.  Loose Cannons   \n",
       "freq                         3              2   \n",
       "mean                       NaN            NaN   \n",
       "std                        NaN            NaN   \n",
       "min                        NaN            NaN   \n",
       "25%                        NaN            NaN   \n",
       "50%                        NaN            NaN   \n",
       "75%                        NaN            NaN   \n",
       "max                        NaN            NaN   \n",
       "\n",
       "                                           Keywords  cast  \\\n",
       "count                                          2724  2987   \n",
       "unique                                         2648  2975   \n",
       "top     [{'id': 10183, 'name': 'independent film'}]    []   \n",
       "freq                                             27    13   \n",
       "mean                                            NaN   NaN   \n",
       "std                                             NaN   NaN   \n",
       "min                                             NaN   NaN   \n",
       "25%                                             NaN   NaN   \n",
       "50%                                             NaN   NaN   \n",
       "75%                                             NaN   NaN   \n",
       "max                                             NaN   NaN   \n",
       "\n",
       "                                                     crew       revenue  \n",
       "count                                                2984  3.000000e+03  \n",
       "unique                                               2984           NaN  \n",
       "top     [{'credit_id': '5391990d0e0a260fb5001629', 'de...           NaN  \n",
       "freq                                                    1           NaN  \n",
       "mean                                                  NaN  6.672585e+07  \n",
       "std                                                   NaN  1.375323e+08  \n",
       "min                                                   NaN  1.000000e+00  \n",
       "25%                                                   NaN  2.379808e+06  \n",
       "50%                                                   NaN  1.680707e+07  \n",
       "75%                                                   NaN  6.891920e+07  \n",
       "max                                                   NaN  1.519558e+09  \n",
       "\n",
       "[11 rows x 23 columns]"
      ]
     },
     "execution_count": 24,
     "metadata": {},
     "output_type": "execute_result"
    }
   ],
   "source": [
    "df_train.describe(include='all') #look at all categorical and numerical"
   ]
  },
  {
   "cell_type": "code",
   "execution_count": 25,
   "metadata": {},
   "outputs": [
    {
     "data": {
      "text/plain": [
       "<seaborn.axisgrid.JointGrid at 0x7fdb56b9b8d0>"
      ]
     },
     "execution_count": 25,
     "metadata": {},
     "output_type": "execute_result"
    },
    {
     "data": {
      "image/png": "[encoded data removed]",
      "text/plain": [
       "<Figure size 1500x1500 with 3 Axes>"
      ]
     },
     "metadata": {},
     "output_type": "display_data"
    }
   ],
   "source": [
    "df_train['logRevenue']=np.log1p(df_train['revenue'])\n",
    "df_train['logBudget']=np.log1p(df_train['budget'])\n",
    "sns.jointplot(x=\"logBudget\", y=\"logRevenue\", data=df_train, height=15, ratio=5, color=\"b\", kind='hex')\n"
   ]
  },
  {
   "cell_type": "markdown",
   "metadata": {},
   "source": [
    "### Distribution of the target column "
   ]
  },
  {
   "cell_type": "code",
   "execution_count": 26,
   "metadata": {},
   "outputs": [
    {
     "data": {
      "image/png": "[encoded data removed]",
      "text/plain": [
       "<Figure size 640x480 with 1 Axes>"
      ]
     },
     "metadata": {},
     "output_type": "display_data"
    }
   ],
   "source": [
    "# necessary imports\n",
    "%matplotlib inline\n",
    "import matplotlib.pyplot as plt\n",
    "import numpy as np\n",
    "import seaborn as sns; sns.set()\n",
    "df_train['revenue'].astype(float).plot.hist()\n",
    "plt.xlabel(\"Revenue in Billions of $\")\n",
    "plt.ylabel(\"Frequency\")\n",
    "plt.title(\"Boxoffice revenue in $Billions\")\n",
    "plt.grid()\n"
   ]
  },
  {
   "cell_type": "code",
   "execution_count": 27,
   "metadata": {},
   "outputs": [
    {
     "name": "stderr",
     "output_type": "stream",
     "text": [
      "/tmp/ipykernel_130320/70097131.py:5: UserWarning: \n",
      "\n",
      "`distplot` is a deprecated function and will be removed in seaborn v0.14.0.\n",
      "\n",
      "Please adapt your code to use either `displot` (a figure-level function with\n",
      "similar flexibility) or `histplot` (an axes-level function for histograms).\n",
      "\n",
      "For a guide to updating your code to use the new functions, please see\n",
      "https://gist.github.com/mwaskom/de44147ed2974457ad6372750bbe5751\n",
      "\n",
      "  sns.distplot(df_train['revenue'] )\n"
     ]
    },
    {
     "data": {
      "image/png": "[encoded data removed]",
      "text/plain": [
       "<Figure size 640x480 with 1 Axes>"
      ]
     },
     "metadata": {},
     "output_type": "display_data"
    }
   ],
   "source": [
    "%matplotlib inline\n",
    "import matplotlib.pyplot as plt\n",
    "import numpy as np\n",
    "import seaborn as sns; sns.set()\n",
    "sns.distplot(df_train['revenue'] )\n",
    "plt.xlabel(\"Revenue in Billions of $\")\n",
    "plt.ylabel(\"Frequency\")\n",
    "plt.title(\"Boxoffice revenue in $Billions\")\n",
    "plt.grid()\n"
   ]
  },
  {
   "cell_type": "markdown",
   "metadata": {},
   "source": [
    "#### Take log of target variable (revenue)\n",
    "Because revenue variable is skewed, let's calculate log of it.\n",
    "\n"
   ]
  },
  {
   "cell_type": "code",
   "execution_count": 28,
   "metadata": {},
   "outputs": [
    {
     "name": "stderr",
     "output_type": "stream",
     "text": [
      "/tmp/ipykernel_130320/3070967898.py:2: UserWarning: \n",
      "\n",
      "`distplot` is a deprecated function and will be removed in seaborn v0.14.0.\n",
      "\n",
      "Please adapt your code to use either `displot` (a figure-level function with\n",
      "similar flexibility) or `histplot` (an axes-level function for histograms).\n",
      "\n",
      "For a guide to updating your code to use the new functions, please see\n",
      "https://gist.github.com/mwaskom/de44147ed2974457ad6372750bbe5751\n",
      "\n",
      "  sns.distplot(df_train['logRevenue'] )\n"
     ]
    },
    {
     "data": {
      "text/plain": [
       "Text(0.5, 1.0, 'log Boxoffice revenue in $Billions')"
      ]
     },
     "execution_count": 28,
     "metadata": {},
     "output_type": "execute_result"
    },
    {
     "data": {
      "image/png": "[encoded data removed]",
      "text/plain": [
       "<Figure size 640x480 with 1 Axes>"
      ]
     },
     "metadata": {},
     "output_type": "display_data"
    }
   ],
   "source": [
    "df_train['logRevenue'] = np.log1p(df_train['revenue'])\n",
    "sns.distplot(df_train['logRevenue'] )\n",
    "plt.grid()\n",
    "plt.xlabel(\"log(Revenue in $Billions)\")\n",
    "plt.ylabel(\"Frequency\")\n",
    "plt.title(\"log Boxoffice revenue in $Billions\")\n"
   ]
  },
  {
   "cell_type": "code",
   "execution_count": 132,
   "metadata": {},
   "outputs": [
    {
     "data": {
      "image/png": "[encoded data removed]",
      "text/plain": [
       "<Figure size 511.111x500 with 1 Axes>"
      ]
     },
     "metadata": {},
     "output_type": "display_data"
    }
   ],
   "source": [
    "#Run cells below before running completely the preprocessing\n",
    "with sns.axes_style(style='ticks'):\n",
    "    g = sns.catplot(x=\"release_date\",y= \"revenue\", data=df_train, kind=\"box\")\n",
    "    g.set_axis_labels(\"Release Month\", \"Revenue\");\n",
    "    "
   ]
  },
  {
   "cell_type": "code",
   "execution_count": 40,
   "metadata": {},
   "outputs": [],
   "source": [
    "colonnes_objects = df_train.select_dtypes(include=['object']).columns.tolist()\n"
   ]
  },
  {
   "cell_type": "code",
   "execution_count": 130,
   "metadata": {},
   "outputs": [
    {
     "data": {
      "image/png": "[encoded data removed]",
      "text/plain": [
       "<Figure size 511.111x500 with 1 Axes>"
      ]
     },
     "metadata": {},
     "output_type": "display_data"
    }
   ],
   "source": [
    "#Run cells below before running completely the preprocessing\n",
    "g=sns.catplot(x=\"has_homepage\", y=\"revenue\", data=df_train);\n",
    "g.set_axis_labels(\"Has Homepage? 0=no,1=yes\", \"Revenue\");"
   ]
  },
  {
   "cell_type": "code",
   "execution_count": 32,
   "metadata": {},
   "outputs": [
    {
     "data": {
      "text/plain": [
       "<Axes: >"
      ]
     },
     "execution_count": 32,
     "metadata": {},
     "output_type": "execute_result"
    },
    {
     "data": {
      "image/png": "[encoded data removed]",
      "text/plain": [
       "<Figure size 640x480 with 2 Axes>"
      ]
     },
     "metadata": {},
     "output_type": "display_data"
    }
   ],
   "source": [
    "colonnes_numeriques = df_train.select_dtypes(include=['int', 'float']).columns.tolist()\n",
    "num_df_train=df_train[colonnes_numeriques]\n",
    "corr=num_df_train.corr()\n",
    "cmap = sns.diverging_palette(220, 10, as_cmap=True)\n",
    "sns.heatmap(corr, cmap=cmap, vmax=.5, square=True, linewidths=.5)"
   ]
  },
  {
   "cell_type": "markdown",
   "metadata": {},
   "source": [
    "# Preprocessing\n"
   ]
  },
  {
   "cell_type": "code",
   "execution_count": 7,
   "metadata": {},
   "outputs": [],
   "source": [
    "df_train['budget'].fillna('median')\n",
    "df_train['popularity'].fillna('median')\n",
    "df_train['runtime'].fillna('median')\n",
    "\n",
    "df_train.loc[df_train['id'] == 16,'revenue'] = 192864          # Skinning\n",
    "df_train.loc[df_train['id'] == 90,'budget'] = 30000000         # Sommersby          \n",
    "df_train.loc[df_train['id'] == 118,'budget'] = 60000000        # Wild Hogs\n",
    "df_train.loc[df_train['id'] == 149,'budget'] = 18000000        # Beethoven\n",
    "df_train.loc[df_train['id'] == 313,'revenue'] = 12000000       # The Cookout \n",
    "df_train.loc[df_train['id'] == 451,'revenue'] = 12000000       # Chasing Liberty\n",
    "df_train.loc[df_train['id'] == 464,'budget'] = 20000000        # Parenthood\n",
    "df_train.loc[df_train['id'] == 470,'budget'] = 13000000        # The Karate Kid, Part II\n",
    "df_train.loc[df_train['id'] == 513,'budget'] = 930000          # From Prada to Nada\n",
    "df_train.loc[df_train['id'] == 797,'budget'] = 8000000         # Welcome to Dongmakgol\n",
    "df_train.loc[df_train['id'] == 819,'budget'] = 90000000        # Alvin and the Chipmunks: The Road Chip\n",
    "df_train.loc[df_train['id'] == 850,'budget'] = 90000000        # Modern Times\n",
    "df_train.loc[df_train['id'] == 1112,'budget'] = 7500000        # An Officer and a Gentleman\n",
    "df_train.loc[df_train['id'] == 1131,'budget'] = 4300000        # Smokey and the Bandit   \n",
    "df_train.loc[df_train['id'] == 1359,'budget'] = 10000000       # Stir Crazy \n",
    "df_train.loc[df_train['id'] == 1542,'budget'] = 1              # All at Once\n",
    "df_train.loc[df_train['id'] == 1570,'budget'] = 15800000       # Crocodile Dundee II\n",
    "df_train.loc[df_train['id'] == 1571,'budget'] = 4000000        # Lady and the Tramp\n",
    "df_train.loc[df_train['id'] == 1714,'budget'] = 46000000       # The Recruit\n",
    "df_train.loc[df_train['id'] == 1721,'budget'] = 17500000       # Cocoon\n",
    "df_train.loc[df_train['id'] == 1865,'revenue'] = 25000000      # Scooby-Doo 2: Monsters Unleashed\n",
    "df_train.loc[df_train['id'] == 2268,'budget'] = 17500000       # Madea Goes to Jail budget\n",
    "df_train.loc[df_train['id'] == 2491,'revenue'] = 6800000       # Never Talk to Strangers\n",
    "df_train.loc[df_train['id'] == 2602,'budget'] = 31000000       # Mr. Holland's Opus\n",
    "df_train.loc[df_train['id'] == 2612,'budget'] = 15000000       # Field of Dreams\n",
    "df_train.loc[df_train['id'] == 2696,'budget'] = 10000000       # Nurse 3-D\n",
    "df_train.loc[df_train['id'] == 2801,'budget'] = 10000000       # Fracture\n",
    "df_test.loc[df_test['id'] == 3889,'budget'] = 15000000       # Colossal\n",
    "df_test.loc[df_test['id'] == 6733,'budget'] = 5000000        # The Big Sick\n",
    "df_test.loc[df_test['id'] == 3197,'budget'] = 8000000        # High-Rise\n",
    "df_test.loc[df_test['id'] == 6683,'budget'] = 50000000       # The Pink Panther 2\n",
    "df_test.loc[df_test['id'] == 5704,'budget'] = 4300000        # French Connection II\n",
    "df_test.loc[df_test['id'] == 6109,'budget'] = 281756         # Dogtooth\n",
    "df_test.loc[df_test['id'] == 7242,'budget'] = 10000000       # Addams Family Values\n",
    "df_test.loc[df_test['id'] == 7021,'budget'] = 17540562       #  Two Is a Family\n",
    "df_test.loc[df_test['id'] == 5591,'budget'] = 4000000        # The Orphanage\n",
    "df_test.loc[df_test['id'] == 4282,'budget'] = 20000000       # Big Top Pee-wee\n",
    "\n",
    "power_six = df_train.id[df_train.budget > 1000][df_train.revenue < 100]\n",
    "\n",
    "for k in power_six :\n",
    "    df_train.loc[df_train['id'] == k,'revenue'] =  df_train.loc[df_train['id'] == k,'revenue'] * 1000000"
   ]
  },
  {
   "cell_type": "code",
   "execution_count": 8,
   "metadata": {},
   "outputs": [],
   "source": [
    "\n",
    "target = \"revenue\"\n",
    "\n",
    "X = df_train.drop(target, axis=1)\n",
    "y = df_train[target]\n",
    "\n",
    "X_train, X_valid, y_train, y_valid = train_test_split(X, y, train_size=0.7, test_size=0.15, random_state=42)\n",
    "X_train, X_test, y_train, y_test = train_test_split(X_train, y_train, test_size=0.15, random_state=42)"
   ]
  },
  {
   "cell_type": "markdown",
   "metadata": {},
   "source": [
    "\n"
   ]
  },
  {
   "cell_type": "code",
   "execution_count": 220,
   "metadata": {},
   "outputs": [],
   "source": [
    "\n",
    "dict_columns = ['belongs_to_collection', 'production_companies',\n",
    "                'production_countries', 'spoken_languages', 'Keywords', 'cast', 'crew']\n",
    "\n",
    "\n",
    "def text_to_dict(df):   # dict_lists_to_dict\n",
    "    for column in dict_columns:\n",
    "        #\n",
    "        df[column] = df[column].apply(lambda x: {} if (pd.isna(x)==True) else x)\n",
    "        df[column] = df[column].apply(lambda x: eval(x) if type(x)==\"str\"   else x)\n",
    "        df[column] = df[column].apply(lambda x: x if (x=={})   else x[:])\n",
    "        #df[column] = df[column].apply(lambda x: eval(x))\n",
    "        #df[column] = df[column].apply(lambda x: x if x == {} or isinstance(x, str) else eval(x)[0] if isinstance(x, list) else x[0])\n",
    "\n",
    "    return df\n",
    "        \n",
    "#df_train = text_to_dict(df_train)\n",
    "#df_test = text_to_dict(df_test)"
   ]
  },
  {
   "cell_type": "code",
   "execution_count": 28,
   "metadata": {},
   "outputs": [],
   "source": [
    "dict_columns = ['belongs_to_collection', 'production_companies',\n",
    "                'production_countries', 'spoken_languages', 'Keywords', 'cast', 'crew']\n"
   ]
  },
  {
   "cell_type": "code",
   "execution_count": 82,
   "metadata": {},
   "outputs": [],
   "source": [
    "df1=df_train.copy()\n",
    "df2=df_train.copy()\n",
    "df3=df_train.copy()\n",
    "df4=df_train.copy()\n",
    "df5=df_train.copy()"
   ]
  },
  {
   "cell_type": "code",
   "execution_count": 83,
   "metadata": {},
   "outputs": [],
   "source": [
    "# cette fonction transormer en dictionaire les données stockées dans les colonnes de type objets.\n",
    "#  son utilisation  se justfie par le fait que ces colonnes prennent des entres trés (soit des listes de dictionnaires ,soit des dictionnaires vides\n",
    "# soit des valeur manquantes\n",
    "def string_to_dict(string):\n",
    "    a={}\n",
    "    b=[]\n",
    "    if pd.isna(string)!= True and string!={} and string !=\"{}\" and len(string) >0:\n",
    "        if type(string)=='str' or type(string)==str:\n",
    "            b=eval(string)\n",
    "            a=b\n",
    "        else:\n",
    "            a=string\n",
    "    if type(a)==list:\n",
    "        if len(a)==0:\n",
    "            a={}\n",
    "        else :\n",
    "            a=a[0]\n",
    "    return a\n",
    "\n",
    "for column in dict_columns:\n",
    "        #\n",
    "        df_train[column] = df_train[column].apply(string_to_dict)\n",
    "\n",
    "        "
   ]
  },
  {
   "cell_type": "markdown",
   "metadata": {},
   "source": [
    "## Genre,Belongs to Collection and Homepage Binarization"
   ]
  },
  {
   "cell_type": "code",
   "execution_count": 84,
   "metadata": {},
   "outputs": [
    {
     "data": {
      "text/plain": [
       "{}"
      ]
     },
     "execution_count": 84,
     "metadata": {},
     "output_type": "execute_result"
    }
   ],
   "source": [
    "df_train.belongs_to_collection[1560]"
   ]
  },
  {
   "cell_type": "code",
   "execution_count": 85,
   "metadata": {},
   "outputs": [],
   "source": [
    "\n",
    "    \n",
    "def proc_json(string, key):\n",
    "    try:\n",
    "        data = eval(string)\n",
    "        return \",\".join([d[key] for d in data])\n",
    "    except:\n",
    "        return ''\n",
    "    \n",
    "df_train.genres = df_train.genres.apply(lambda x: proc_json(x, 'name'))\n",
    "df_test.genres = df_test.genres.apply(lambda x: proc_json(x, 'name'))\n",
    "\n",
    "genres = []\n",
    "for idx, val in df_train.genres.items():\n",
    "    gen_list = val.split(',')\n",
    "    for gen in gen_list:\n",
    "        if gen == '':\n",
    "            continue\n",
    "\n",
    "        if gen not in genres:\n",
    "            genres.append(gen)\n",
    "            \n",
    "\n",
    "genre_column_names = []\n",
    "for gen in genres:\n",
    "    col_name = 'genre_' + gen.replace(' ', '_')\n",
    "    df_train[col_name] = df_train.genres.str.contains(gen).astype('uint8')\n",
    "    df_test[col_name] = df_test.genres.str.contains(gen).astype('uint8')\n",
    "    genre_column_names.append(col_name)\n"
   ]
  },
  {
   "cell_type": "code",
   "execution_count": 86,
   "metadata": {},
   "outputs": [],
   "source": [
    "# de-jsonify production_countries\n",
    "df_train.production_countries = df_train.production_countries.apply(lambda x: proc_json(x, 'name'))\n",
    "df_test.production_countries = df_test.production_countries.apply(lambda x: proc_json(x, 'name'))"
   ]
  },
  {
   "cell_type": "code",
   "execution_count": 87,
   "metadata": {},
   "outputs": [],
   "source": [
    "# collection\n",
    "\n",
    "df_train['belongs_to_collection']=df_train['belongs_to_collection'].apply(lambda x: len(x) if x != {} else 0)\n",
    "#df_test['belongs_to_collection']=df_test['belongs_to_collection'].apply(lambda x: len(x) if x != {} else 0)"
   ]
  },
  {
   "cell_type": "code",
   "execution_count": 88,
   "metadata": {},
   "outputs": [],
   "source": [
    "# homepage, released\n",
    "\n",
    "df_train['has_homepage'] = 1\n",
    "df_train.loc[pd.isnull(df_train['homepage']) ,\"has_homepage\"] = 0\n",
    "\n",
    "df_test['has_homepage'] = 1\n",
    "df_test.loc[pd.isnull(df_test['homepage']) ,\"has_homepage\"] = 0\n",
    "\n",
    "df_train['released'] = 1\n",
    "df_train.loc[pd.isnull(df_train['status']) ,\"released\"] = 0\n",
    "\n",
    "df_test['released'] = 1\n",
    "df_test.loc[pd.isnull(df_test['status']) ,\"released\"] = 0\n"
   ]
  },
  {
   "cell_type": "code",
   "execution_count": 89,
   "metadata": {},
   "outputs": [],
   "source": [
    "df1good=df_train.copy()"
   ]
  },
  {
   "cell_type": "code",
   "execution_count": 90,
   "metadata": {},
   "outputs": [],
   "source": [
    "# de-jsonify production_countries\n",
    "df_test.production_countries = df_test.production_countries.apply(lambda x: proc_json(x, 'name'))"
   ]
  },
  {
   "cell_type": "markdown",
   "metadata": {},
   "source": [
    "Let's get a count of how many production countries are involved in a production"
   ]
  },
  {
   "cell_type": "code",
   "execution_count": 103,
   "metadata": {},
   "outputs": [],
   "source": [
    "df_train['production_countries_count'] = df_train['production_countries'].apply(lambda x : len(x))\n",
    "df_test['production_countries_count'] = df_test['production_countries'].apply(lambda x : len(x))"
   ]
  },
  {
   "cell_type": "markdown",
   "metadata": {},
   "source": [
    "### Production Companies"
   ]
  },
  {
   "cell_type": "code",
   "execution_count": 105,
   "metadata": {},
   "outputs": [
    {
     "data": {
      "text/plain": [
       "\"[{'iso_3166_1': 'DE', 'name': 'Germany'}, {'iso_3166_1': 'US', 'name': 'United States of America'}]\""
      ]
     },
     "execution_count": 105,
     "metadata": {},
     "output_type": "execute_result"
    }
   ],
   "source": [
    "df2.production_countries[200]"
   ]
  },
  {
   "cell_type": "code",
   "execution_count": 106,
   "metadata": {},
   "outputs": [
    {
     "data": {
      "text/plain": [
       "\"[{'iso_3166_1': 'US', 'name': 'United States of America'}]\""
      ]
     },
     "execution_count": 106,
     "metadata": {},
     "output_type": "execute_result"
    }
   ],
   "source": [
    "df2.production_countries[20]"
   ]
  },
  {
   "cell_type": "code",
   "execution_count": 107,
   "metadata": {},
   "outputs": [],
   "source": [
    "# take counts of each\n",
    "df_train['production_companies_count'] = df_train['production_companies'].apply(lambda x : len(x))\n",
    "df_train['spoken_languages_count'] = df_train['spoken_languages'].apply(lambda x : len(x))\n",
    "\n",
    "#df_test['production_companies_count'] = df_test['production_companies'].apply(lambda x : len(x))\n",
    "#df_test['spoken_languages_count'] = df_test['spoken_languages'].apply(lambda x : len(x))"
   ]
  },
  {
   "cell_type": "code",
   "execution_count": 110,
   "metadata": {},
   "outputs": [
    {
     "data": {
      "text/plain": [
       "(2, 2)"
      ]
     },
     "execution_count": 110,
     "metadata": {},
     "output_type": "execute_result"
    }
   ],
   "source": [
    "df_train.production_companies_count[200],df_train.production_companies_count[20]"
   ]
  },
  {
   "cell_type": "markdown",
   "metadata": {},
   "source": [
    "## Keywords, cast, crew"
   ]
  },
  {
   "cell_type": "code",
   "execution_count": 112,
   "metadata": {},
   "outputs": [],
   "source": [
    "# number of keywords\n",
    "df_train['keyword_count'] = df_train['Keywords'].apply(lambda x : len(x))\n",
    "#df_test['keyword_count'] = df_test['Keywords'].apply(lambda x : len(x))"
   ]
  },
  {
   "cell_type": "code",
   "execution_count": 113,
   "metadata": {},
   "outputs": [],
   "source": [
    "# count of crew\n",
    "df_train['crew_count'] = df_train['crew'].apply(lambda x : len(x))\n",
    "#df_test['crew_count'] = df_test['crew'].apply(lambda x : len(x))"
   ]
  },
  {
   "cell_type": "code",
   "execution_count": 114,
   "metadata": {},
   "outputs": [],
   "source": [
    "# count of cast members\n",
    "df_train['cast_count'] = df_train['cast'].apply(lambda x : len(x))\n",
    "#df_test['cast_count'] = df_test['cast'].apply(lambda x : len(x))"
   ]
  },
  {
   "cell_type": "code",
   "execution_count": 115,
   "metadata": {},
   "outputs": [],
   "source": [
    "df_train.runtime = df_train.runtime.fillna(0) # two null values here"
   ]
  },
  {
   "cell_type": "markdown",
   "metadata": {},
   "source": [
    "## Fixing Release Date"
   ]
  },
  {
   "cell_type": "code",
   "execution_count": 116,
   "metadata": {},
   "outputs": [
    {
     "data": {
      "text/plain": [
       "1"
      ]
     },
     "execution_count": 116,
     "metadata": {},
     "output_type": "execute_result"
    }
   ],
   "source": [
    "df_test.release_date.isnull().sum()\n",
    "# \"la date de sortie prévue ou de la date de publication d'un produit ou d'un service.\""
   ]
  },
  {
   "cell_type": "code",
   "execution_count": 117,
   "metadata": {},
   "outputs": [],
   "source": [
    "df_test['release_date'] = df_test['release_date'].fillna('7/14/07')\n"
   ]
  },
  {
   "cell_type": "code",
   "execution_count": 118,
   "metadata": {},
   "outputs": [
    {
     "data": {
      "text/plain": [
       "0"
      ]
     },
     "execution_count": 118,
     "metadata": {},
     "output_type": "execute_result"
    }
   ],
   "source": [
    "df_test.release_date.isnull().sum()"
   ]
  },
  {
   "cell_type": "code",
   "execution_count": 122,
   "metadata": {},
   "outputs": [],
   "source": [
    "import re # extraire l'année à deux chiffres à partir d'une chaîne représentant une date\n",
    "def yearfix(x): # run year fix, then date fix\n",
    "    \"\"\"Regular expression to pull out the two digit year from release_date and return it as an int\"\"\"\n",
    "    r = re.match(r\"(\\d+/\\d+/)(\\d+)\",x)[2]\n",
    "    return int(r)\n",
    "def datefix(x):\n",
    "    \"\"\"The dates only provide two digits for year.  This is meant to fix this issue.\n",
    "    The youngest movie is from 2019, so we'll say any year digits less than 19 are from this century.\n",
    "    Otherwise, we'll say they are from the 1900s.\"\"\"\n",
    "    if x<19:\n",
    "        x = x+2000\n",
    "        return x\n",
    "    if x >=19:\n",
    "        x = x+1900\n",
    "        return x\n"
   ]
  },
  {
   "cell_type": "code",
   "execution_count": 123,
   "metadata": {},
   "outputs": [],
   "source": [
    "df_test['release_date'] = df_test['release_date'].fillna('7/14/07') # fill the one null value with a random date"
   ]
  },
  {
   "cell_type": "code",
   "execution_count": 124,
   "metadata": {},
   "outputs": [],
   "source": [
    "df_train['release_year'] = df_train['release_date'].apply(lambda x: yearfix(x))\n",
    "df_train['release_year'] = df_train['release_year'].apply(lambda x: datefix(x))"
   ]
  },
  {
   "cell_type": "code",
   "execution_count": 126,
   "metadata": {},
   "outputs": [],
   "source": [
    "df_train[\"release_date\"] = pd.to_datetime(df_train[\"release_date\"]) # set to datetime\n",
    "df_train['release_month']=df_train[\"release_date\"].dt.month # month of release date\n",
    "\n",
    "#df_test['release_year'] = df_test['release_date'].apply(lambda x: yearfix(x))\n",
    "#df_test['release_year'] = df_test['release_year'].apply(lambda x: datefix(x))"
   ]
  },
  {
   "cell_type": "code",
   "execution_count": 26,
   "metadata": {},
   "outputs": [],
   "source": [
    "df_test[\"release_date\"] = pd.to_datetime(df_test[\"release_date\"]) # set to datetime\n",
    "df_test['release_month']=df_test[\"release_date\"].dt.month # month of release date"
   ]
  },
  {
   "cell_type": "code",
   "execution_count": 127,
   "metadata": {},
   "outputs": [],
   "source": [
    "y = df_train['revenue']\n",
    "X = df_train.drop(['revenue'], \n",
    "                    axis = 1)\n",
    "\n",
    "\n",
    "X_train, X_valid, y_train, y_valid = train_test_split(X, y, train_size=0.7, test_size=0.15, random_state=42)\n",
    "X_train, X_test, y_train, y_test = train_test_split(X_train, y_train, test_size=0.15, random_state=42)\n",
    "\n",
    "\n"
   ]
  },
  {
   "cell_type": "code",
   "execution_count": 128,
   "metadata": {},
   "outputs": [],
   "source": [
    "class Log1pTransformer(BaseEstimator, TransformerMixin):\n",
    "    def __init__(self, features=None):\n",
    "        self.features = features\n",
    "        \n",
    "    def fit(self, X, y=None):\n",
    "        return self\n",
    "    \n",
    "    def transform(self, X):\n",
    "        return np.log1p(X)"
   ]
  },
  {
   "cell_type": "markdown",
   "metadata": {},
   "source": [
    "# Pipeline"
   ]
  },
  {
   "cell_type": "markdown",
   "metadata": {},
   "source": [
    "<img src=\"images/Pipeline2.png\">\n"
   ]
  },
  {
   "cell_type": "code",
   "execution_count": 29,
   "metadata": {},
   "outputs": [],
   "source": [
    "from sklearn.feature_extraction.text import HashingVectorizer\n",
    "\n",
    "\n",
    "log_num_feats = [\"budget\", \"popularity\"]\n",
    "# num_feats = [\"runtime\"] not required, will explore later\n",
    "date_feats = ['release_year' , \"release_month\"]\n",
    "cat_feats = ['belongs_to_collection', 'has_homepage', 'released']\n",
    "encode_feats = ['genre_Comedy', 'genre_Drama', 'genre_Family', 'genre_Romance', 'genre_Thriller', 'genre_Action', \n",
    "             'genre_Animation', 'genre_Adventure', 'genre_Horror', 'genre_Documentary', 'genre_Music', 'genre_Crime',\n",
    "             'genre_Science_Fiction', 'genre_Mystery', 'genre_Foreign', 'genre_Fantasy', 'genre_War', 'genre_Western',\n",
    "             'genre_History', 'genre_TV_Movie']\n",
    "hash_feats = ['production_countries_count', 'production_companies_count', 'spoken_languages_count',\n",
    "             'keyword_count', 'cast_count', 'crew_count']\n",
    "\n",
    "\n",
    "\n",
    "\n",
    "log_pipe = Pipeline([\n",
    "    ('imputer', SimpleImputer(missing_values=np.nan, strategy='median')),\n",
    "    ('logger', Log1pTransformer()),\n",
    "    #('scaler', StandardScaler()) # might delete later - just a test\n",
    "])\n",
    "\n",
    "\n",
    "# num_pipeline = Pipeline ([\n",
    "#     ('imputer', SimpleImputer(strategy='median'),\n",
    "#     ('scaler', StandardScaler()))\n",
    "# ])\n",
    "\n",
    "date_pipeline = Pipeline ([\n",
    "     ('imputer', SimpleImputer(missing_values=np.nan, strategy='median'))\n",
    "])\n",
    "\n",
    "\n",
    "cat_pipeline = Pipeline([\n",
    "        ('imputer', SimpleImputer(strategy='most_frequent')),\n",
    "      #  ('ohe', OneHotEncoder(sparse=False, handle_unknown=\"ignore\"))\n",
    "])\n",
    "\n",
    "\n",
    "encode_pipeline = Pipeline([\n",
    "        ('imputer', SimpleImputer(strategy='most_frequent')),\n",
    "])\n",
    "\n",
    "\n",
    "hash_pipe = Pipeline([\n",
    "    ('imputer', SimpleImputer(strategy='most_frequent'))\n",
    "])\n",
    "\n",
    "\n",
    "data_pipeline = ColumnTransformer([\n",
    "    # name, pipeline, features\n",
    "    ('log_num_feats', log_pipe, log_num_feats),\n",
    "    # ('numerical_feats', num_pipeline, num_feats),\n",
    "    ('date_feats', date_pipeline, date_feats),\n",
    "    ('cat_feats', cat_pipeline, cat_feats),\n",
    "    ('encode_feats', encode_pipeline, encode_feats),\n",
    "    ('hash_feats', hash_pipe, hash_feats)\n",
    "],\n",
    "        remainder='drop', #passthrough or drop?\n",
    "        n_jobs=-1\n",
    "    )\n",
    "\n",
    "\n",
    "df_train_processed = data_pipeline.fit_transform(X_train)"
   ]
  },
  {
   "cell_type": "code",
   "execution_count": 30,
   "metadata": {},
   "outputs": [],
   "source": [
    "X_std = data_pipeline.fit_transform(df_train)\n",
    "model = data_pipeline.fit_transform(X)"
   ]
  },
  {
   "cell_type": "code",
   "execution_count": 31,
   "metadata": {},
   "outputs": [],
   "source": [
    "y_std = np.log1p(y)"
   ]
  },
  {
   "cell_type": "code",
   "execution_count": 32,
   "metadata": {},
   "outputs": [],
   "source": [
    "X_train, X_test, y_train, y_test = train_test_split(X_std, y_std, test_size=0.1, random_state=27)"
   ]
  },
  {
   "cell_type": "markdown",
   "metadata": {},
   "source": [
    "# Modeling"
   ]
  },
  {
   "cell_type": "code",
   "execution_count": 33,
   "metadata": {},
   "outputs": [],
   "source": [
    "from sklearn.linear_model import LinearRegression\n",
    "from sklearn.neighbors import KNeighborsRegressor\n",
    "models = {'linear': LinearRegression(),\n",
    "         'kn': KNeighborsRegressor()}"
   ]
  },
  {
   "cell_type": "code",
   "execution_count": 34,
   "metadata": {},
   "outputs": [],
   "source": [
    "def mean_absolute_percentage_error(y_test, y_pred): \n",
    "    y_test, y_pred = np.array(y_test), np.array(y_pred)\n",
    "    return np.mean(np.abs((y_test - y_pred) / y_test)) * 100\n",
    "results = pd.DataFrame(columns=[\"ExpID\", \"Train RMSLE\", \"Test RMSLE\",\"Dollars Over\", \"Train Time(s)\", \"Experiment description\"])\n",
    "def rmsle(y, y_pred):\n",
    "    return np.sqrt(mean_squared_error(y, y_pred))\n",
    "\n",
    "def get_results(model, X, y, X_test, y_test, name='model_name', desc='experiment'):\n",
    "    start = time()\n",
    "    model.fit(X, y)\n",
    "    y_pred = model.predict(X)\n",
    "    train_rmsle = np.sqrt(((y_pred-y)**2).mean())\n",
    "    y_pred_test = model.predict(X_test)\n",
    "    test_rmsle = np.sqrt(((y_pred_test-y_test)**2).mean())\n",
    "    dollarsover= test_rmsle*1000000000\n",
    "    train_time = np.round(time() - start, 4)\n",
    "    results.loc[results.shape[0]+1] = [name, np.round(train_rmsle,2), np.round(test_rmsle,2),np.round(dollarsover), train_time, desc]\n",
    "    \n"
   ]
  },
  {
   "cell_type": "code",
   "execution_count": 35,
   "metadata": {},
   "outputs": [
    {
     "data": {
      "text/html": [
       "<div>\n",
       "<style scoped>\n",
       "    .dataframe tbody tr th:only-of-type {\n",
       "        vertical-align: middle;\n",
       "    }\n",
       "\n",
       "    .dataframe tbody tr th {\n",
       "        vertical-align: top;\n",
       "    }\n",
       "\n",
       "    .dataframe thead th {\n",
       "        text-align: right;\n",
       "    }\n",
       "</style>\n",
       "<table border=\"1\" class=\"dataframe\">\n",
       "  <thead>\n",
       "    <tr style=\"text-align: right;\">\n",
       "      <th></th>\n",
       "      <th>ExpID</th>\n",
       "      <th>Train RMSLE</th>\n",
       "      <th>Test RMSLE</th>\n",
       "      <th>Dollars Over</th>\n",
       "      <th>Train Time(s)</th>\n",
       "      <th>Experiment description</th>\n",
       "    </tr>\n",
       "  </thead>\n",
       "  <tbody>\n",
       "    <tr>\n",
       "      <td>1</td>\n",
       "      <td>Initial Search</td>\n",
       "      <td>2.23</td>\n",
       "      <td>1.79</td>\n",
       "      <td>1.788279e+09</td>\n",
       "      <td>0.2475</td>\n",
       "      <td>Untuned linear</td>\n",
       "    </tr>\n",
       "    <tr>\n",
       "      <td>2</td>\n",
       "      <td>Initial Search</td>\n",
       "      <td>2.08</td>\n",
       "      <td>2.09</td>\n",
       "      <td>2.086000e+09</td>\n",
       "      <td>0.2607</td>\n",
       "      <td>Untuned kn</td>\n",
       "    </tr>\n",
       "  </tbody>\n",
       "</table>\n",
       "</div>"
      ],
      "text/plain": [
       "            ExpID  Train RMSLE  Test RMSLE  Dollars Over  Train Time(s)  \\\n",
       "1  Initial Search         2.23        1.79  1.788279e+09         0.2475   \n",
       "2  Initial Search         2.08        2.09  2.086000e+09         0.2607   \n",
       "\n",
       "  Experiment description  \n",
       "1         Untuned linear  \n",
       "2             Untuned kn  "
      ]
     },
     "metadata": {},
     "output_type": "display_data"
    }
   ],
   "source": [
    "for name, model in models.items():\n",
    "    get_results(model, X_train, y_train, X_test, y_test, 'Initial Search', 'Untuned ' + name)\n",
    "\n",
    "display(results)"
   ]
  },
  {
   "cell_type": "code",
   "execution_count": 36,
   "metadata": {},
   "outputs": [],
   "source": [
    "from sklearn.metrics import make_scorer\n",
    "# define custom scorer\n",
    "def rmsle(y_true, y_pred):\n",
    "    rmsle = np.sqrt(((np.log1p(y_true)-np.log1p(y_pred))**2).mean())\n",
    "    return rmsle\n",
    "\n",
    "scorer = make_scorer(rmsle)\n"
   ]
  },
  {
   "cell_type": "markdown",
   "metadata": {},
   "source": [
    "# Evaluation, reporting and analysis"
   ]
  },
  {
   "cell_type": "code",
   "execution_count": 64,
   "metadata": {},
   "outputs": [
    {
     "name": "stdout",
     "output_type": "stream",
     "text": [
      "Fitting 2 folds for each of 162 candidates, totalling 324 fits\n"
     ]
    },
    {
     "name": "stderr",
     "output_type": "stream",
     "text": [
      "[Parallel(n_jobs=-1)]: Using backend LokyBackend with 2 concurrent workers.\n",
      "[Parallel(n_jobs=-1)]: Done  46 tasks      | elapsed:  6.2min\n",
      "[Parallel(n_jobs=-1)]: Done 196 tasks      | elapsed: 27.3min\n",
      "[Parallel(n_jobs=-1)]: Done 324 out of 324 | elapsed: 34.3min finished\n",
      "/usr/local/lib/python3.7/site-packages/xgboost/core.py:587: FutureWarning: Series.base is deprecated and will be removed in a future version\n",
      "  if getattr(data, 'base', None) is not None and \\\n"
     ]
    },
    {
     "name": "stdout",
     "output_type": "stream",
     "text": [
      "Best parameters: {'colsample_bytree': 0.7, 'learning_rate': 0.03, 'max_depth': 5, 'min_child_weight': 4, 'n_estimators': 500, 'objective': 'reg:squarederror', 'silent': 1, 'subsample': 0.8}\n"
     ]
    },
    {
     "data": {
      "text/html": [
       "<div>\n",
       "<style scoped>\n",
       "    .dataframe tbody tr th:only-of-type {\n",
       "        vertical-align: middle;\n",
       "    }\n",
       "\n",
       "    .dataframe tbody tr th {\n",
       "        vertical-align: top;\n",
       "    }\n",
       "\n",
       "    .dataframe thead th {\n",
       "        text-align: right;\n",
       "    }\n",
       "</style>\n",
       "<table border=\"1\" class=\"dataframe\">\n",
       "  <thead>\n",
       "    <tr style=\"text-align: right;\">\n",
       "      <th></th>\n",
       "      <th>ExpID</th>\n",
       "      <th>Train RMSLE</th>\n",
       "      <th>Test RMSLE</th>\n",
       "      <th>Dollars Over</th>\n",
       "      <th>Train Time(s)</th>\n",
       "      <th>Experiment description</th>\n",
       "    </tr>\n",
       "  </thead>\n",
       "  <tbody>\n",
       "    <tr>\n",
       "      <td>1</td>\n",
       "      <td>Initial Search</td>\n",
       "      <td>2.23</td>\n",
       "      <td>1.79</td>\n",
       "      <td>1.788279e+09</td>\n",
       "      <td>0.2475</td>\n",
       "      <td>Untuned linear</td>\n",
       "    </tr>\n",
       "    <tr>\n",
       "      <td>2</td>\n",
       "      <td>Initial Search</td>\n",
       "      <td>2.08</td>\n",
       "      <td>2.09</td>\n",
       "      <td>2.086000e+09</td>\n",
       "      <td>0.2607</td>\n",
       "      <td>Untuned kn</td>\n",
       "    </tr>\n",
       "    <tr>\n",
       "      <td>3</td>\n",
       "      <td>Best Model: KN Regressor</td>\n",
       "      <td>0.22</td>\n",
       "      <td>0.18</td>\n",
       "      <td>1.758187e+08</td>\n",
       "      <td>25.5587</td>\n",
       "      <td>{'leaf_size': 30, 'n_neighbors': 5, 'p': 2, 'w...</td>\n",
       "    </tr>\n",
       "    <tr>\n",
       "      <td>4</td>\n",
       "      <td>Best Model: KN Regressor</td>\n",
       "      <td>0.22</td>\n",
       "      <td>0.18</td>\n",
       "      <td>1.758187e+08</td>\n",
       "      <td>31.3203</td>\n",
       "      <td>{'leaf_size': 30, 'n_neighbors': 5, 'p': 2, 'w...</td>\n",
       "    </tr>\n",
       "    <tr>\n",
       "      <td>5</td>\n",
       "      <td>Best Model: XGB Regressor</td>\n",
       "      <td>0.52</td>\n",
       "      <td>0.14</td>\n",
       "      <td>1.391409e+08</td>\n",
       "      <td>2063.4620</td>\n",
       "      <td>XGB Regressor</td>\n",
       "    </tr>\n",
       "  </tbody>\n",
       "</table>\n",
       "</div>"
      ],
      "text/plain": [
       "                       ExpID  Train RMSLE  Test RMSLE  Dollars Over  \\\n",
       "1             Initial Search         2.23        1.79  1.788279e+09   \n",
       "2             Initial Search         2.08        2.09  2.086000e+09   \n",
       "3   Best Model: KN Regressor         0.22        0.18  1.758187e+08   \n",
       "4   Best Model: KN Regressor         0.22        0.18  1.758187e+08   \n",
       "5  Best Model: XGB Regressor         0.52        0.14  1.391409e+08   \n",
       "\n",
       "   Train Time(s)                             Experiment description  \n",
       "1         0.2475                                     Untuned linear  \n",
       "2         0.2607                                         Untuned kn  \n",
       "3        25.5587  {'leaf_size': 30, 'n_neighbors': 5, 'p': 2, 'w...  \n",
       "4        31.3203  {'leaf_size': 30, 'n_neighbors': 5, 'p': 2, 'w...  \n",
       "5      2063.4620                                      XGB Regressor  "
      ]
     },
     "metadata": {},
     "output_type": "display_data"
    }
   ],
   "source": [
    "from sklearn.model_selection import GridSearchCV\n",
    "from xgboost.sklearn import XGBRegressor\n",
    "start = time()\n",
    "xgb1 = XGBRegressor()\n",
    "parameters = {'objective':['reg:squarederror'],\n",
    "              'learning_rate': [.03, 0.05, .07], #so called `eta` value\n",
    "              'max_depth': [5, 6, 7],\n",
    "              'min_child_weight': [3,4],\n",
    "              'silent': [1],\n",
    "              'subsample': [0.7,0.8,0.9],\n",
    "              'colsample_bytree': [0.7],\n",
    "              'n_estimators': [500,1000,2800]}\n",
    "\n",
    "grid = GridSearchCV(xgb1,\n",
    "                    parameters,\n",
    "                    cv = 2,\n",
    "                    n_jobs = -1,\n",
    "                    verbose=True)\n",
    "\n",
    "\n",
    "grid.fit(X_train, y_train)\n",
    "print(\"Best parameters: {}\".format(grid.best_params_))\n",
    "train_time = np.round(time() - start, 4)\n",
    "train_rmsle = grid.best_score_\n",
    "y_pred = grid.predict(X_test)\n",
    "test_rmsle = rmsle(y_test, y_pred)\n",
    "test_mape = mean_absolute_percentage_error(y_test, y_pred)\n",
    "dollarsover= test_rmsle*1000000000\n",
    "results.loc[results.shape[0]+1] = ['Best Model: XGB Regressor', np.round(train_rmsle,2), np.round(test_rmsle,2),np.round(dollarsover),\n",
    "                                   train_time, \"XGB Regressor\"]\n",
    "display(results)"
   ]
  },
  {
   "cell_type": "markdown",
   "metadata": {},
   "source": [
    "## Kaggle Submission"
   ]
  },
  {
   "cell_type": "code",
   "execution_count": 66,
   "metadata": {},
   "outputs": [],
   "source": [
    "\n",
    "test_std = data_pipeline.transform(df_test)\n",
    "final_model = XGBRegressor(objective = 'reg:squarederror',\n",
    "                                  eta = 0.01,\n",
    "                                  max_depth = 6,\n",
    "                                  min_child_weight = 3,\n",
    "                                  subsample = 0.8,\n",
    "                                  colsample_bytree = 0.7,\n",
    "                                  eval_metric = 'rmse',\n",
    "                                  seed = 1,\n",
    "                                  n_estimators = 2800)\n",
    "final_model.fit(X_std, y_std)\n",
    "predictions = np.expm1(final_model.predict(test_std))\n",
    "pd.DataFrame({'revenue': predictions.reshape(-1,)}, index=df_test.id).to_csv('best_model_xgb.csv')"
   ]
  },
  {
   "cell_type": "markdown",
   "metadata": {},
   "source": [
    "<img src=\"images/kaggle.png\">\n"
   ]
  },
  {
   "cell_type": "code",
   "execution_count": 67,
   "metadata": {},
   "outputs": [
    {
     "data": {
      "text/html": [
       "<div>\n",
       "<style scoped>\n",
       "    .dataframe tbody tr th:only-of-type {\n",
       "        vertical-align: middle;\n",
       "    }\n",
       "\n",
       "    .dataframe tbody tr th {\n",
       "        vertical-align: top;\n",
       "    }\n",
       "\n",
       "    .dataframe thead th {\n",
       "        text-align: right;\n",
       "    }\n",
       "</style>\n",
       "<table border=\"1\" class=\"dataframe\">\n",
       "  <thead>\n",
       "    <tr style=\"text-align: right;\">\n",
       "      <th></th>\n",
       "      <th>Pipeline</th>\n",
       "      <th>Dataset</th>\n",
       "      <th>TrainAcc</th>\n",
       "      <th>TestAcc</th>\n",
       "      <th>Train Time(s)</th>\n",
       "      <th>Test Time(s)</th>\n",
       "      <th>Description</th>\n",
       "    </tr>\n",
       "  </thead>\n",
       "  <tbody>\n",
       "    <tr>\n",
       "      <td>0</td>\n",
       "      <td>Pipeline with Optimised KNeighbors Regressor</td>\n",
       "      <td>Movie Classes</td>\n",
       "      <td>96.46%</td>\n",
       "      <td>67.20%</td>\n",
       "      <td>4.7014</td>\n",
       "      <td>0.0322</td>\n",
       "      <td>KNN pipeline with included features</td>\n",
       "    </tr>\n",
       "  </tbody>\n",
       "</table>\n",
       "</div>"
      ],
      "text/plain": [
       "                                       Pipeline        Dataset   TrainAcc  \\\n",
       "0  Pipeline with Optimised KNeighbors Regressor  Movie Classes     96.46%   \n",
       "\n",
       "     TestAcc  Train Time(s)  Test Time(s)                          Description  \n",
       "0     67.20%         4.7014        0.0322  KNN pipeline with included features  "
      ]
     },
     "execution_count": 67,
     "metadata": {},
     "output_type": "execute_result"
    }
   ],
   "source": [
    "\n",
    "# Time and score test predictions\n",
    "start = time()\n",
    "final_model.fit(X_train, y_train)\n",
    "train_time = np.round(time() - start, 4)\n",
    "trainAcc  = final_model.score(X_train, y_train)\n",
    "start = time()\n",
    "testAcc  = final_model.score(X_test, y_test)\n",
    "test_time = np.round(time() - start, 4)\n",
    "experimentLog = pd.DataFrame(columns=[\"Pipeline\", \"Dataset\", \"TrainAcc\", \"TestAcc\",\n",
    "                                               \"Train Time(s)\",  \"Test Time(s)\", \"Description\"])\n",
    "try: experimentLog \n",
    "except : experimentLog = pd.DataFrame(columns=[\"Pipeline\", \"Dataset\", \"TrainAcc\", \"TestAcc\",\n",
    "                                               \"Train Time(s)\",  \"Test Time(s)\", \"Description\"])\n",
    "experimentLog.loc[len(experimentLog)] =[\"Pipeline with Optimised KNeighbors Regressor\", \"Movie Classes\",f\"{trainAcc*100:8.2f}%\", f\"{testAcc*100:8.2f}%\",train_time, test_time,\"KNN pipeline with included features\"]\n",
    "\n",
    "experimentLog"
   ]
  },
  {
   "cell_type": "markdown",
   "metadata": {},
   "source": [
    "# Discussion\n",
    "With the new features added to the pipeline, we were able to slightly increase our scores from phase 2.  Our new features include: \n",
    "-  production_countries_count\n",
    "-  production_companies_count\n",
    "-  keyword_count\n",
    "-  cast_count\n",
    "-  crew_count\n",
    "Some of these features involved using our proc_json function (defined in phase 2), while some only involved taking the length of each list.\n",
    "\n",
    "The results we were able to get through our new pipeline show a test accuracy of 64.06% which is an improvement from the 55.38% in phase 2. In comparison, our phase 1 baseline pipeline had 28.64% test accuracy for log baseline pipeline. We were unable to get a Kaggle score in phase 1, but in phase 2 our Kaggle score was 2.40318. We sucessfully improved our previous score from phase 2 thanks to our additional features and new gridsearch optimised XRB Regressor. \n"
   ]
  },
  {
   "cell_type": "markdown",
   "metadata": {},
   "source": [
    "# Conclusion"
   ]
  },
  {
   "cell_type": "markdown",
   "metadata": {},
   "source": [
    "With this project, our focus was to be able to predict box office revenue for any movie. In order to do this, we created machine learning pipelines with custom features to predict the revenue from the box office. As we continue to improve our pipeline from the previous phase, features like 'production_companies_count', 'spoken_languages_count', 'keyword_count', 'cast_count', and 'crew_count' have been added and have allowed our pipelines to produce better accuracy scores which allowed our test dataset to be 64.06% accurate. We also used a different prediction model in XGBRegressor, which gave us more accurate scores. When submitting the scores to Kaggle, our score of 2.13772 shows that we are quite close to a model that can accurately predict these revenues. "
   ]
  }
 ],
 "metadata": {
  "kernelspec": {
   "display_name": "Box_Office_predic_ENV",
   "language": "python",
   "name": "box_office_predic_env"
  },
  "language_info": {
   "codemirror_mode": {
    "name": "ipython",
    "version": 3
   },
   "file_extension": ".py",
   "mimetype": "text/x-python",
   "name": "python",
   "nbconvert_exporter": "python",
   "pygments_lexer": "ipython3",
   "version": "3.11.6"
  },
  "toc": {
   "base_numbering": 1,
   "nav_menu": {},
   "number_sections": true,
   "sideBar": true,
   "skip_h1_title": false,
   "title_cell": "Table of Contents",
   "title_sidebar": "Contents",
   "toc_cell": true,
   "toc_position": {
    "height": "calc(100% - 180px)",
    "left": "10px",
    "top": "150px",
    "width": "287.969px"
   },
   "toc_section_display": "block",
   "toc_window_display": false
  },
  "toc-showcode": false,
  "toc-showtags": false,
  "varInspector": {
   "cols": {
    "lenName": 16,
    "lenType": 16,
    "lenVar": 40
   },
   "kernels_config": {
    "python": {
     "delete_cmd_postfix": "",
     "delete_cmd_prefix": "del ",
     "library": "var_list.py",
     "varRefreshCmd": "print(var_dic_list())"
    },
    "r": {
     "delete_cmd_postfix": ") ",
     "delete_cmd_prefix": "rm(",
     "library": "var_list.r",
     "varRefreshCmd": "cat(var_dic_list()) "
    }
   },
   "types_to_exclude": [
    "module",
    "function",
    "builtin_function_or_method",
    "instance",
    "_Feature"
   ],
   "window_display": false
  }
 },
 "nbformat": 4,
 "nbformat_minor": 4
}
